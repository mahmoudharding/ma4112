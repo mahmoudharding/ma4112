{
 "cells": [
  {
   "cell_type": "code",
   "execution_count": null,
   "id": "standing-liberal",
   "metadata": {
    "deletable": false,
    "editable": false
   },
   "outputs": [],
   "source": [
    "# Initialize Otter\n",
    "import otter\n",
    "grader = otter.Notebook(\"lab06.ipynb\")"
   ]
  },
  {
   "cell_type": "markdown",
   "id": "satisfactory-universal",
   "metadata": {},
   "source": [
    "# Lab 06: Transformations and KDEs\n",
    "\n",
    "In this lab you will get some practice plotting, applying data transformations, and working with kernel density estimators.  We will be working with data from the World Bank containing various statistics for countries and territories around the world. \n",
    "\n",
    "To receive credit for a lab, answer all questions correctly and submit before the deadline.\n",
    "\n",
    "**Due Date:** Wednesday, March 17, 2021 at 7:00 p.m.\n",
    "\n",
    "**Collaboration Policy:** Data science is a collaborative activity. While you may talk with others about the labs, we ask that you **write your solutions individually**. If you do discuss the assignments with others **please include their names below** (it's a good way to learn your classmates' names).\n",
    "\n",
    "**Collaborators:** \n",
    "\n",
    "List collaborators here.\n",
    "\n",
    "**Note:** In this notebook a custom figure size has been configured. Click [here](https://matplotlib.org/users/customizing.html) to read the documentation about customizing aspects of matplotlib.\n",
    "\n",
    "Run the cell below."
   ]
  },
  {
   "cell_type": "code",
   "execution_count": null,
   "id": "demanding-mention",
   "metadata": {},
   "outputs": [],
   "source": [
    "from IPython.display import YouTubeVideo\n",
    "\n",
    "import pandas as pd\n",
    "import numpy as np\n",
    "import seaborn as sns\n",
    "sns.set()\n",
    "sns.set_context(\"talk\")\n",
    "\n",
    "import matplotlib.pyplot as plt\n",
    "%matplotlib inline"
   ]
  },
  {
   "cell_type": "markdown",
   "id": "silent-newsletter",
   "metadata": {},
   "source": [
    "Let us load some World Bank data into a pandas.DataFrame object named `wb`."
   ]
  },
  {
   "cell_type": "code",
   "execution_count": null,
   "id": "instructional-damage",
   "metadata": {},
   "outputs": [],
   "source": [
    "wb = pd.read_csv(\"world_bank_misc.csv\", index_col = 0)\n",
    "wb.head()"
   ]
  },
  {
   "cell_type": "markdown",
   "id": "dressed-charge",
   "metadata": {},
   "source": [
    "This table contains some interesting columns.  Let's take a look."
   ]
  },
  {
   "cell_type": "code",
   "execution_count": null,
   "id": "enabling-meter",
   "metadata": {},
   "outputs": [],
   "source": [
    "list(wb.columns)"
   ]
  },
  {
   "cell_type": "markdown",
   "id": "faced-province",
   "metadata": {},
   "source": [
    "# 1. Visualizing Distributions\n",
    "\n",
    "In the first part of this assignment we will look at the distribution of values for female adult literacy rate as well as the gross national income per capita. The code below creates a copy of the dataframe that contains only the two Series we want, and then drops all rows that contain null values in either column.\n",
    "\n",
    "**Note:** For this lab we are dropping null values without investigating them further. However, this is generally not the best practice and can severely affect our analyses."
   ]
  },
  {
   "cell_type": "code",
   "execution_count": null,
   "id": "controversial-fountain",
   "metadata": {},
   "outputs": [],
   "source": [
    "# create a dataframe with the appropriate index\n",
    "df = pd.DataFrame(index = wb.index)\n",
    "\n",
    "#copies the Series we want\n",
    "df['lit'] = wb['Adult literacy rate: Female: % ages 15 and older: 2005-14']\n",
    "df['inc'] = wb['Gross national income per capita, Atlas method: $: 2016']\n",
    "\n",
    "# drop all records that have a NaN value in either column\n",
    "df.dropna(inplace = True)\n",
    "print(\"Original records:\", len(wb))\n",
    "print(\"Final records:\", len(df))"
   ]
  },
  {
   "cell_type": "code",
   "execution_count": null,
   "id": "moving-booth",
   "metadata": {},
   "outputs": [],
   "source": [
    "df.head()"
   ]
  },
  {
   "cell_type": "markdown",
   "id": "first-details",
   "metadata": {},
   "source": [
    "Suppose we wanted to build a histogram of our data to understand the distribution of literacy rates and income per capita individually. We can use `countplot` in seaborn to create bar charts from categorical data. "
   ]
  },
  {
   "cell_type": "code",
   "execution_count": null,
   "id": "purple-christianity",
   "metadata": {},
   "outputs": [],
   "source": [
    "# set figure size\n",
    "plt.figure(figsize = (25,5))\n",
    "\n",
    "# make first subplot in the figure\n",
    "plt.subplot(1,2,1)\n",
    "sns.countplot(x = df['lit'])\n",
    "plt.xlabel(\"Adult literacy rate: Female: % ages 15 and older: 2005-14\")\n",
    "plt.title('World Bank Female Adult Literacy Rate')\n",
    "\n",
    "# make second subplot in the figure\n",
    "plt.subplot(1,2,2)\n",
    "sns.countplot(x = df['inc'])\n",
    "plt.xlabel('Gross national income per capita, Atlas method: $: 2016')\n",
    "plt.title('World Bank Gross National Income Per Capita');"
   ]
  },
  {
   "cell_type": "markdown",
   "id": "separate-research",
   "metadata": {
    "deletable": false,
    "editable": false
   },
   "source": [
    "<!-- BEGIN QUESTION -->\n",
    "\n",
    "**Question 1.1.** After examining the plots above, explain why `sns.countplot` is **not** the right tool for visualizing the distribution of our data.\n",
    "\n",
    "<!--\n",
    "BEGIN QUESTION\n",
    "name: q1_1\n",
    "manual: true\n",
    "-->"
   ]
  },
  {
   "cell_type": "markdown",
   "id": "russian-anger",
   "metadata": {},
   "source": [
    "_Type your answer here, replacing this text._"
   ]
  },
  {
   "cell_type": "markdown",
   "id": "political-novel",
   "metadata": {
    "deletable": false,
    "editable": false
   },
   "source": [
    "<!-- END QUESTION -->\n",
    "\n",
    "<!-- BEGIN QUESTION -->\n",
    "\n",
    "**Question 1.2.** In the cell below, create a plot of literacy rate and income per capita using the `sns.histplot` function. As above, you should have two subplots, where the left subplot is literacy, and the right subplot is income. Don't forget to title the plot and label axes.\n",
    "\n",
    "<!--\n",
    "BEGIN QUESTION\n",
    "name: q1_2\n",
    "manual: true\n",
    "-->"
   ]
  },
  {
   "cell_type": "code",
   "execution_count": null,
   "id": "virtual-malawi",
   "metadata": {},
   "outputs": [],
   "source": [
    "# set figure size\n",
    "plt.figure(figsize = (20, 5))\n",
    "\n",
    "# make first subplot in the figure\n",
    "plt.subplot(1, 2, 1)\n",
    "...\n",
    "\n",
    "# make first subplot in the figure\n",
    "plt.subplot(1, 2, 2)\n",
    "..."
   ]
  },
  {
   "cell_type": "markdown",
   "id": "express-hopkins",
   "metadata": {
    "deletable": false,
    "editable": false
   },
   "source": [
    "<!-- END QUESTION -->\n",
    "\n",
    "<!-- BEGIN QUESTION -->\n",
    "\n",
    "You should see histograms that show the counts of how many data points appear in each bin. \n",
    "\n",
    "\"The choice of bins for computing and plotting a histogram can exert substantial influence on the insights that one is able to draw from the visualization. If the bins are too large, they may erase important features. On the other hand, bins that are too small may be dominated by random variability, obscuring the shape of the true underlying distribution. The default bin size is determined using a reference rule that depends on the sample size and variance. This works well in many cases, (i.e., with “well-behaved” data) but it fails in others. It is always a good to try different bin sizes to be sure that you are not missing something important. This function allows you to specify bins in several different ways, such as by setting the total number of bins to use, the width of each bin, or the specific locations where the bins should break\" [Seaborn histplot documentation](https://seaborn.pydata.org/generated/seaborn.histplot.html).\n",
    "\n",
    "In the cell below, plot the data again, but this time use `sns.kdeplot` and `sns.rugplot`.\n",
    "\n",
    "<img src='kde_and_rug_plots.png' width = \"800px\" width = \"400px\" class = \"center\"/>\n",
    "\n",
    "**Note:** Click [here](https://seaborn.pydata.org/generated/seaborn.kdeplot.html) to read the documentation on `sns.kdeplot` and [here](https://seaborn.pydata.org/generated/seaborn.rugplot.html#seaborn.rugplot) to read the documentation on `sns.rugplot`.\n",
    "\n",
    "**Hint:** To change the length of the rugplot marker use the parameter `height`.\n",
    "\n",
    "<!--\n",
    "BEGIN QUESTION\n",
    "name: q1_3\n",
    "manual: true\n",
    "-->"
   ]
  },
  {
   "cell_type": "code",
   "execution_count": null,
   "id": "afraid-aircraft",
   "metadata": {},
   "outputs": [],
   "source": [
    "# set figure size\n",
    "plt.figure(figsize = (20,5))\n",
    "\n",
    "# make first subplot in the figure\n",
    "plt.subplot(1, 2, 1)\n",
    "...\n",
    "\n",
    "# make second subplot in the figure\n",
    "plt.subplot(1, 2, 2)\n",
    "..."
   ]
  },
  {
   "cell_type": "markdown",
   "id": "internal-louisville",
   "metadata": {},
   "source": [
    "<!-- END QUESTION -->\n",
    "\n",
    "\n",
    "\n",
    "Above, you should see little lines at the bottom of the plot showing the actual data points with an overlaid smooth line. This is the kernel density estimate.\n",
    "\n",
    "**Notes:**\n",
    "\n",
    "- You'll also see that the $y-$axis value is no longer the count. Instead it is a value such that the total area under the KDE curve is 1 **and** the total area in the histogram is 1. The KDE is a smooth estimate of the distribution of the given variable.\n",
    "\n",
    "- The KDE is just an estimate, as is the histogram.\n",
    "\n",
    "We'll talk more about KDEs later in this lab."
   ]
  },
  {
   "cell_type": "markdown",
   "id": "incoming-attempt",
   "metadata": {},
   "source": [
    "# 2. Transfomrations\n",
    "\n",
    "This section of the lab explores a couple of simple transformations of data that can straighten a nonlinear pattern. It is often possible to \"transform\" the raw data to make it more linear. Transforming a variable involves using a mathematical operation to change its measurement scale.\n",
    "\n",
    "Watch the video to learn more about the basic idea of transforming nonlinear data."
   ]
  },
  {
   "cell_type": "code",
   "execution_count": null,
   "id": "premier-horror",
   "metadata": {},
   "outputs": [],
   "source": [
    "YouTubeVideo('A1H4j97paI4', width = 800, height = 400, fs = 0, rel = 0)"
   ]
  },
  {
   "cell_type": "markdown",
   "id": "random-findings",
   "metadata": {
    "deletable": false,
    "editable": false
   },
   "source": [
    "<!-- BEGIN QUESTION -->\n",
    "\n",
    "**Question 2.1.** Looking at the income data, it is difficult to see the distribution among low income countries because they are all scrunched up at the left side of the plot. The KDE also has a problem where the density function has a lot of area below 0. \n",
    "\n",
    "When we logarithmically transform the `inc` data that gives us a more symmetric distribution of values. This can make it easier to see patterns.\n",
    "\n",
    "In addition, summary statistics like the mean and standard deviation (i.e. square-root of the variance) are more stable with symmetric distributions.\n",
    "\n",
    "In the cell below, make a histogram plot of `inc` with the data transformed using `np.log10`. Be sure to set `kde =True` and correct the axis label by mentioning the values are base 10. This can be done by using `plt.xlabel`. \n",
    "\n",
    "<!--\n",
    "BEGIN QUESTION\n",
    "name: q2_1\n",
    "manual: true\n",
    "-->"
   ]
  },
  {
   "cell_type": "code",
   "execution_count": null,
   "id": "compliant-classification",
   "metadata": {},
   "outputs": [],
   "source": [
    "plt.figure(figsize = (15, 5))\n",
    "\n",
    "..."
   ]
  },
  {
   "cell_type": "markdown",
   "id": "assumed-spelling",
   "metadata": {
    "deletable": false,
    "editable": false
   },
   "source": [
    "<!-- END QUESTION -->\n",
    "\n",
    "<!-- BEGIN QUESTION -->\n",
    "\n",
    "When a distribution has a long right tail, a log-transformation often does a good job of symmetrizing the distribution, as it did here.  Long right tails are common with variables that have a lower limit on the values. \n",
    "\n",
    "On the other hand, long left tails are common with distributions of variables that have an upper limit, such as percentages (can't be higher than 100%) and GPAs (can't be higher than 4).  That is the case for the literacy rate. Typically taking a power-transformation such \n",
    "as squaring or cubing the values can help symmetrize the left skew distribution.\n",
    "\n",
    "**Question 2.2.** In the cell below, make a histogram plot of `lit` with the data transformed using a power, i,e., raise `lit` to the 2nd, 3rd, and 4th power. Select the transformation that you think is best. Be sure to set `kde=True` and correct the axis label using `plt.xlabel`. \n",
    "\n",
    "**Hint:** You can use the `pow` function to raise a quantity to a specific power. Click [here](https://docs.python.org/3/library/functions.html#pow) to read the documentation on how to use it.\n",
    "\n",
    "<!--\n",
    "BEGIN QUESTION\n",
    "name: q2_2\n",
    "manual: true\n",
    "-->"
   ]
  },
  {
   "cell_type": "code",
   "execution_count": null,
   "id": "breeding-richards",
   "metadata": {},
   "outputs": [],
   "source": [
    "# set figure size\n",
    "plt.figure(figsize = (15, 5))\n",
    "\n",
    "..."
   ]
  },
  {
   "cell_type": "markdown",
   "id": "formal-ordinary",
   "metadata": {
    "deletable": false,
    "editable": false
   },
   "source": [
    "<!-- END QUESTION -->\n",
    "\n",
    "<!-- BEGIN QUESTION -->\n",
    "\n",
    "**Question 2.3.** If we want to examine the relationship between the female adult literacy rate and the gross national income per capita is, we need to make a scatter plot. \n",
    "\n",
    "In the cell below, create a scatter plot of untransformed income per capita and literacy rate using the `sns.scatterplot` function. Make  sure to label both axes using `plt.xlabel` and `plt.ylabel`.\n",
    "\n",
    "<!--\n",
    "BEGIN QUESTION\n",
    "name: q2_3\n",
    "manual: true\n",
    "-->"
   ]
  },
  {
   "cell_type": "code",
   "execution_count": null,
   "id": "primary-surgeon",
   "metadata": {},
   "outputs": [],
   "source": [
    "# set figure size\n",
    "plt.figure(figsize = (15, 5))\n",
    "\n",
    "..."
   ]
  },
  {
   "cell_type": "markdown",
   "id": "patient-compromise",
   "metadata": {
    "deletable": false,
    "editable": false
   },
   "source": [
    "<!-- END QUESTION -->\n",
    "\n",
    "<!-- BEGIN QUESTION -->\n",
    "\n",
    "**Question 2.4.** We can better assess the relationship between two variables when they have been straightened because it is easier for us to recognize linearity.\n",
    "\n",
    "In the cell below, create a scatter plot of log-transformed income per capita against literacy rate. Make  sure to label both axes using `plt.xlabel` and `plt.ylabel`.\n",
    "\n",
    "<!--\n",
    "BEGIN QUESTION\n",
    "name: q2_4\n",
    "manual: true\n",
    "-->"
   ]
  },
  {
   "cell_type": "code",
   "execution_count": null,
   "id": "interim-passing",
   "metadata": {},
   "outputs": [],
   "source": [
    "# set figure size\n",
    "plt.figure(figsize = (15,5))\n",
    "\n",
    "..."
   ]
  },
  {
   "cell_type": "markdown",
   "id": "dress-sensitivity",
   "metadata": {
    "deletable": false,
    "editable": false
   },
   "source": [
    "<!-- END QUESTION -->\n",
    "\n",
    "<!-- BEGIN QUESTION -->\n",
    "\n",
    "This scatter plot looks better. The relationship is closer to linear.\n",
    "\n",
    "We can think of the log-linear relationship between $x$ and $y$, as follows: a constant change in $x$ corresponds to a percent (scaled) change in $y$.\n",
    "\n",
    "We can also see that the long left tail of literacy is represented in this plot by a lot of the points being bunched up near 100. \n",
    "\n",
    "**Question 2.5.** Try squaring literacy and taking the log of income. \n",
    "\n",
    "<!--\n",
    "BEGIN QUESTION\n",
    "name: q2_5\n",
    "manual: true\n",
    "-->"
   ]
  },
  {
   "cell_type": "code",
   "execution_count": null,
   "id": "lyric-translator",
   "metadata": {},
   "outputs": [],
   "source": [
    "# set figure size\n",
    "plt.figure(figsize = (15,5))\n",
    "\n",
    "..."
   ]
  },
  {
   "cell_type": "markdown",
   "id": "specific-swedish",
   "metadata": {},
   "source": [
    "<!-- END QUESTION -->\n",
    "\n",
    "\n",
    "\n",
    "Choosing the best transformation for a relationship is often a balance between keeping the model simple and straightening the scatter plot."
   ]
  },
  {
   "cell_type": "markdown",
   "id": "premium-paris",
   "metadata": {},
   "source": [
    "# 3. Kernel Density Estimation (KDE)\n",
    "\n",
    "In this part of the lab you will develop a deeper understanding of how kernel destiny estimation works. \n",
    "\n",
    "Watch the video to learn more about the basic idea of the KDE."
   ]
  },
  {
   "cell_type": "code",
   "execution_count": 15,
   "id": "worse-headline",
   "metadata": {},
   "outputs": [],
   "source": [
    "YouTubeVideo('DCgPRaIDYXA', width = 800, height = 400, fs = 0, rel = 0)"
   ]
  },
  {
   "cell_type": "markdown",
   "id": "paperback-player",
   "metadata": {},
   "source": [
    "Suppose we have 3 data points with values 2, 4, and 9. We can compute the histogram as shown below."
   ]
  },
  {
   "cell_type": "code",
   "execution_count": 16,
   "id": "abstract-companion",
   "metadata": {},
   "outputs": [],
   "source": [
    "data3pts = np.array([2, 4, 9])\n",
    "sns.histplot(data3pts);"
   ]
  },
  {
   "cell_type": "markdown",
   "id": "organizational-lending",
   "metadata": {},
   "source": [
    "By using `sns.rugplot` and `sns.kdeplot`, we can see the local of the values on the $x-$axis a kernel density estimate of the data."
   ]
  },
  {
   "cell_type": "code",
   "execution_count": 17,
   "id": "median-christmas",
   "metadata": {},
   "outputs": [],
   "source": [
    "sns.kdeplot(data = data3pts)\n",
    "sns.rugplot(data3pts, height = .1);"
   ]
  },
  {
   "cell_type": "markdown",
   "id": "seasonal-hybrid",
   "metadata": {},
   "source": [
    "One question you might be wondering is how the kernel density estimator decides how \"wide\" each point should be. It turns out this is a parameter you can set called `bw_method`, which stands for bandwith. \n",
    "\n",
    "**Example 3.1.** For example, the code below gives a bandwith value of 0.5 to each data point. You'll see the resulting kde is quite different. Try experimenting with different values of bandwidth and see what happens."
   ]
  },
  {
   "cell_type": "code",
   "execution_count": 18,
   "id": "native-auditor",
   "metadata": {},
   "outputs": [],
   "source": [
    "sns.kdeplot(data = data3pts, bw_method = 0.5)\n",
    "sns.rugplot(data3pts, height = 0.1);"
   ]
  },
  {
   "cell_type": "markdown",
   "id": "weighted-denver",
   "metadata": {},
   "source": [
    "As mentioned in the video, the kernel density estimate (KDE) is just the sum of a bunch of copies of the kernel, each centered on our data points. The default kernel used by the `sns.kdeplot` function is the Guassian kernel, given by:\n",
    "\n",
    "$$K_\\alpha(x, z) = \\frac{1}{\\sqrt{2 \\pi \\alpha^2}} \\exp\\left(-\\frac{(x - z)^2}{2  \\alpha ^2} \\right)$$\n",
    "\n",
    "In Python code, this function is given below, where `alpha` is the smoothing or bandwidth parameter $\\alpha$ for the KDE, $z$ is the center of the Gaussian (i.e. a data point or an array of data points), and $x$ is an array of values of the variable whose distribution we are plotting.\n",
    "\n",
    "Run the cell below to load the `gaussian_kernel` function."
   ]
  },
  {
   "cell_type": "code",
   "execution_count": 19,
   "id": "nervous-motorcycle",
   "metadata": {},
   "outputs": [],
   "source": [
    "def gaussian_kernel(alpha, x, z):\n",
    "    return 1.0/np.sqrt(2*np.pi*alpha**2)*np.exp(-(x - z)**2/(2*alpha**2))"
   ]
  },
  {
   "cell_type": "markdown",
   "id": "processed-holder",
   "metadata": {},
   "source": [
    "For example, we can plot the Gaussian kernel centered at 9 with $\\alpha$ = 0.5 as below: "
   ]
  },
  {
   "cell_type": "code",
   "execution_count": 20,
   "id": "failing-theater",
   "metadata": {},
   "outputs": [],
   "source": [
    "# create an array of x-values\n",
    "xs = np.linspace(-2, 15, 200)\n",
    "\n",
    "# set value for alpha\n",
    "alpha = 0.5\n",
    "\n",
    "# create list of y-values \n",
    "kde_curve = [gaussian_kernel(alpha, x, 9) for x in xs]\n",
    "\n",
    "\n",
    "# make plot\n",
    "plt.plot(xs, kde_curve);"
   ]
  },
  {
   "cell_type": "markdown",
   "id": "aquatic-philip",
   "metadata": {
    "deletable": false,
    "editable": false
   },
   "source": [
    "<!-- BEGIN QUESTION -->\n",
    "\n",
    "**Question 3.1.** In the cell below, plot the 3 kernel density functions corresponding to our 6 data points on the same axis. Use an `alpha` value of 0.5. Recall that our three data points are 2, 4, and 9. \n",
    "\n",
    "**Note:** Make sure to normalize your kernels. This means that the area under each of your kernels should be $\\frac{1}{3}$ since there are three data points.\n",
    "\n",
    "You don't have to use the following hints, but they might be helpful in simplifying your code.\n",
    "\n",
    "**Hints:** \n",
    "\n",
    "- The `gaussian_kernel` function can also take a numpy array as an argument for `z`.\n",
    "\n",
    "- To plot multiple plots at once, you can use `plt.plot(xs, y)` with a two dimensional array as `y`.\n",
    "\n",
    "<!--\n",
    "BEGIN QUESTION\n",
    "name: q3_1\n",
    "manual: true\n",
    "-->"
   ]
  },
  {
   "cell_type": "code",
   "execution_count": 21,
   "id": "standing-there",
   "metadata": {},
   "outputs": [],
   "source": [
    "# create an array of x-values\n",
    "xs = np.linspace(-5, 12, 200)\n",
    "\n",
    "\n",
    "# set value for alpha\n",
    "alpha = 0.5\n",
    "\n",
    "# make plot\n",
    "kde_curve = ...\n",
    "\n",
    "# make plot\n",
    "plt.plot(...)"
   ]
  },
  {
   "cell_type": "markdown",
   "id": "green-press",
   "metadata": {
    "deletable": false,
    "editable": false
   },
   "source": [
    "<!-- END QUESTION -->\n",
    "\n",
    "<!-- BEGIN QUESTION -->\n",
    "\n",
    "**Question 3.2.** In the cell below, create a plot showing the sum of all three of the kernels above. Your plot should closely resemble the kde shown in **Example 3.1.**. The area under your final curve should be 1 since the area under each of the three normalized kernels is $\\frac{1}{3}$.\n",
    "\n",
    "**Hints:**\n",
    "\n",
    "- Consider using `np.sum` with the argument `axis = 1`. For a two dimensional numpy array, this will sum the array across the rows. For an example, see the \"along an axis\" entry in the numpy [glossary](https://docs.scipy.org/doc/numpy-1.13.0/glossary.html).\n",
    "\n",
    "- You may to adjust the value of `alpha` for your plot to resemble the kde shown in **Example 3.1.**.\n",
    "\n",
    "<!--\n",
    "BEGIN QUESTION\n",
    "name: q3_2\n",
    "manual: true\n",
    "-->"
   ]
  },
  {
   "cell_type": "code",
   "execution_count": 22,
   "id": "revised-memory",
   "metadata": {},
   "outputs": [],
   "source": [
    "# create an array of x-values\n",
    "xs = np.linspace(-2, 12, 200)\n",
    "\n",
    "# set value for alpha\n",
    "alpha = ...\n",
    "\n",
    "# create a list of y-values\n",
    "kde_curve = ...\n",
    "\n",
    "# set figure siz\n",
    "plt.figure(figsize = (15, 5))\n",
    "\n",
    "# make plot\n",
    "plt.plot(xs, ...);"
   ]
  },
  {
   "cell_type": "markdown",
   "id": "compressed-weekly",
   "metadata": {},
   "source": [
    "<!-- END QUESTION -->\n",
    "\n",
    "\n",
    "\n",
    "Recall that earlier we plotted the kernel density estimation for the logarithm of the income data, as shown again below."
   ]
  },
  {
   "cell_type": "code",
   "execution_count": 23,
   "id": "active-chinese",
   "metadata": {},
   "outputs": [],
   "source": [
    "# set figure size\n",
    "plt.figure(figsize = (15, 5))\n",
    "\n",
    "# make plots\n",
    "sns.kdeplot(data = df, x = np.log10(df['inc']))\n",
    "sns.rugplot(data = df, x = np.log10(df['inc']), height = .1)\n",
    "\n",
    "# set plot options\n",
    "plt.title('World Bank Gross National Income Per Capita')\n",
    "plt.xlabel('Log$_{10}$ Gross national income per capita, Atlas method: \\$: 2016');"
   ]
  },
  {
   "cell_type": "markdown",
   "id": "solid-recall",
   "metadata": {
    "deletable": false,
    "editable": false
   },
   "source": [
    "<!-- BEGIN QUESTION -->\n",
    "\n",
    "**Question 3.3.** In the cell below, make a similar plot using your technique from **Question 3.2.**. Give an estimate of the $\\alpha$ value chosen by the `sns.kdeplot` function by tweaking your `alpha` value until your plot looks almost the same. Make sure to normalize your graph, so the area under the curve is 1.\n",
    "\n",
    "<!--\n",
    "BEGIN QUESTION\n",
    "name: q3_3\n",
    "manual: true\n",
    "-->"
   ]
  },
  {
   "cell_type": "code",
   "execution_count": 24,
   "id": "intended-junction",
   "metadata": {},
   "outputs": [],
   "source": [
    "# create an array of x-values\n",
    "xs = np.linspace(1, 6, 200)\n",
    "\n",
    "# set value for alpha\n",
    "alpha = ...\n",
    "\n",
    "# create a list of y-values\n",
    "kde_curve = ...\n",
    "\n",
    "# set figure size\n",
    "plt.figure(figsize = (15, 5))\n",
    "\n",
    "# make plot\n",
    "plt.plot(xs, ...);"
   ]
  },
  {
   "cell_type": "markdown",
   "id": "willing-drunk",
   "metadata": {},
   "source": [
    "<!-- END QUESTION -->\n",
    "\n",
    "\n",
    "\n",
    "# 4. Bivariate Distributions\n",
    "\n",
    "All of the density plots we have done so far have considered univariate distributions: distributions of a single variable, perhaps conditional on a second variable assigned to `hue`. By assigning a second variable to $y$, we can then plot a bivariate distribution.\n",
    "\n",
    "Run the cell below to load a data set on cars."
   ]
  },
  {
   "cell_type": "code",
   "execution_count": 25,
   "id": "authentic-colors",
   "metadata": {},
   "outputs": [],
   "source": [
    "mtcars = pd.read_csv('mtcars.csv')\n",
    "mtcars.head()"
   ]
  },
  {
   "cell_type": "markdown",
   "id": "agricultural-camcorder",
   "metadata": {},
   "source": [
    "Here we make a bivariant kde plot of miles per gallon and weight. Notice that the darker areas correspond to a higher proportion of cars."
   ]
  },
  {
   "cell_type": "code",
   "execution_count": 26,
   "id": "foster-executive",
   "metadata": {},
   "outputs": [],
   "source": [
    "# set figure size\n",
    "plt.figure(figsize = (15,5))\n",
    "\n",
    "# plot figure\n",
    "sns.kdeplot(x = mtcars.mpg, y = mtcars.wt, cmap = \"Reds\", shade = True)\n",
    "\n",
    "# set plot options\n",
    "plt.xlabel('Miles Per Gallon')\n",
    "plt.ylabel('Weight (tons)')\n",
    "plt.title('Miles per Gallon vs. Weight');"
   ]
  },
  {
   "cell_type": "markdown",
   "id": "after-humanity",
   "metadata": {},
   "source": [
    "Run the cell below to load the `penguins` data set."
   ]
  },
  {
   "cell_type": "code",
   "execution_count": 27,
   "id": "logical-packaging",
   "metadata": {},
   "outputs": [],
   "source": [
    "penguin = pd.read_csv('penguins.csv')\n",
    "penguin.head()"
   ]
  },
  {
   "cell_type": "markdown",
   "id": "hired-value",
   "metadata": {
    "deletable": false,
    "editable": false
   },
   "source": [
    "**Question 4.1.** Put the names of the different types of penguins in a list named `penguin_species`.\n",
    "\n",
    "<!--\n",
    "BEGIN QUESTION\n",
    "name: q4_1\n",
    "manual: false\n",
    "-->"
   ]
  },
  {
   "cell_type": "code",
   "execution_count": 28,
   "id": "african-composer",
   "metadata": {},
   "outputs": [],
   "source": [
    "penguin_species = ...\n",
    "penguin_species"
   ]
  },
  {
   "cell_type": "code",
   "execution_count": null,
   "id": "occupational-membership",
   "metadata": {
    "deletable": false,
    "editable": false
   },
   "outputs": [],
   "source": [
    "grader.check(\"q4_1\")"
   ]
  },
  {
   "cell_type": "markdown",
   "id": "outside-championship",
   "metadata": {
    "deletable": false,
    "editable": false
   },
   "source": [
    "**Question 4.2.** Make a separate data frame for each species type and save each data frame as `p_first letter of the species name`. For example, if there was a species of penguin named `Durham` you would named its corresponding data frame `p_d`.\n",
    "\n",
    "<!--\n",
    "BEGIN QUESTION\n",
    "name: q4_2\n",
    "manual: false\n",
    "-->"
   ]
  },
  {
   "cell_type": "code",
   "execution_count": 31,
   "id": "strong-village",
   "metadata": {},
   "outputs": [],
   "source": [
    "p_a = ...\n",
    "p_c = ...\n",
    "p_g = ..."
   ]
  },
  {
   "cell_type": "code",
   "execution_count": null,
   "id": "premier-wages",
   "metadata": {
    "deletable": false,
    "editable": false
   },
   "outputs": [],
   "source": [
    "grader.check(\"q4_2\")"
   ]
  },
  {
   "cell_type": "markdown",
   "id": "polish-password",
   "metadata": {
    "deletable": false,
    "editable": false
   },
   "source": [
    "<!-- BEGIN QUESTION -->\n",
    "\n",
    "**Question 4.3.** Make plots that resemble the one below.\n",
    "\n",
    "<img src='penguin.png' width = \"900px\" width = \"450px\" class = \"center\"/>\n",
    "\n",
    "**Hints:** \n",
    "\n",
    "- You can use the code from **Question 1.2.** as an example.\n",
    "\n",
    "- The color map options for each plot can be found by clicking [here](https://matplotlib.org/stable/gallery/color/colormap_reference.html).\n",
    "\n",
    "<!--\n",
    "BEGIN QUESTION\n",
    "name: q4_3\n",
    "manual: true\n",
    "-->"
   ]
  },
  {
   "cell_type": "code",
   "execution_count": 38,
   "id": "functioning-objective",
   "metadata": {},
   "outputs": [],
   "source": [
    "# set figure size\n",
    "plt.figure(figsize = (20, 5))\n",
    "\n",
    "# make first subplot in the figure\n",
    "...\n",
    "\n",
    "# make second subplot in the figure\n",
    "...\n",
    "\n",
    "# make third subplot in the figure\n",
    "...\n",
    "\n"
   ]
  },
  {
   "cell_type": "markdown",
   "id": "moral-snapshot",
   "metadata": {
    "deletable": false,
    "editable": false
   },
   "source": [
    "<!-- END QUESTION -->"
   ]
  },
  {
   "cell_type": "code",
   "execution_count": null,
   "id": "fifteen-lending",
   "metadata": {},
   "outputs": [],
   "source": []
  },
  {
   "cell_type": "markdown",
   "id": "detected-expression",
   "metadata": {
    "deletable": false,
    "editable": false
   },
   "source": [
    "---\n",
    "\n",
    "To double-check your work, the cell below will rerun all of the autograder tests."
   ]
  },
  {
   "cell_type": "code",
   "execution_count": null,
   "id": "productive-haiti",
   "metadata": {
    "deletable": false,
    "editable": false
   },
   "outputs": [],
   "source": [
    "grader.check_all()"
   ]
  },
  {
   "cell_type": "markdown",
   "id": "north-atmosphere",
   "metadata": {
    "deletable": false,
    "editable": false
   },
   "source": [
    "## Submission\n",
    "\n",
    "Make sure you have run all cells in your notebook in order before running the cell below, so that all images/graphs appear in the output. The cell below will generate a zip file for you to submit. **Please save before exporting!**\n",
    "\n",
    "When done exporting, download the .zip file by `SHIFT`-clicking on the file name and selecting **Save Link As**. Or, find the .zip file in the left side of the screen and right-click and select **Download**. You'll submit this .zip file for the assignment in Canvas to Gradescope for grading."
   ]
  },
  {
   "cell_type": "code",
   "execution_count": null,
   "id": "owned-imaging",
   "metadata": {
    "deletable": false,
    "editable": false
   },
   "outputs": [],
   "source": [
    "# Save your notebook first, then run this cell to export your submission.\n",
    "grader.export(pdf=False)"
   ]
  },
  {
   "cell_type": "markdown",
   "id": "fixed-fitness",
   "metadata": {},
   "source": [
    " "
   ]
  }
 ],
 "metadata": {
  "kernelspec": {
   "display_name": "Python 3",
   "language": "python",
   "name": "python3"
  },
  "language_info": {
   "codemirror_mode": {
    "name": "ipython",
    "version": 3
   },
   "file_extension": ".py",
   "mimetype": "text/x-python",
   "name": "python",
   "nbconvert_exporter": "python",
   "pygments_lexer": "ipython3",
   "version": "3.8.6"
  }
 },
 "nbformat": 4,
 "nbformat_minor": 5
}
