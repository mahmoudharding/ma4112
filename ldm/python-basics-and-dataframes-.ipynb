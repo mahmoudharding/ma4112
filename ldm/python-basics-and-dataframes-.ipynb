{
 "cells": [
  {
   "cell_type": "markdown",
   "id": "discrete-authority",
   "metadata": {},
   "source": [
    "# Python Basics and Pandas"
   ]
  },
  {
   "cell_type": "markdown",
   "id": "appointed-resistance",
   "metadata": {},
   "source": [
    "## 1. Lists\n",
    "\n",
    "**Example 1.1.** Create an empty list named `list1`."
   ]
  },
  {
   "cell_type": "code",
   "execution_count": null,
   "id": "unique-electricity",
   "metadata": {},
   "outputs": [],
   "source": [
    "list1 "
   ]
  },
  {
   "cell_type": "code",
   "execution_count": null,
   "id": "micro-madagascar",
   "metadata": {},
   "outputs": [],
   "source": [
    "list1 "
   ]
  },
  {
   "cell_type": "markdown",
   "id": "elegant-bunch",
   "metadata": {},
   "source": [
    "**Example 1.2.** Append the first 20 even numbers to `list1`."
   ]
  },
  {
   "cell_type": "code",
   "execution_count": null,
   "id": "medieval-teacher",
   "metadata": {},
   "outputs": [],
   "source": [
    "list1 = "
   ]
  },
  {
   "cell_type": "code",
   "execution_count": null,
   "id": "reported-degree",
   "metadata": {},
   "outputs": [],
   "source": [
    "list1 = []\n"
   ]
  },
  {
   "cell_type": "markdown",
   "id": "royal-still",
   "metadata": {},
   "source": [
    "## 2. Dictionaries\n",
    "\n",
    "**Example 2.1.** Create and empty dictionary named `d`."
   ]
  },
  {
   "cell_type": "code",
   "execution_count": null,
   "id": "unable-carter",
   "metadata": {},
   "outputs": [],
   "source": [
    "d = {}"
   ]
  },
  {
   "cell_type": "markdown",
   "id": "returning-floor",
   "metadata": {},
   "source": [
    "**Example 2.2.** Add the keys `name`, `age`, and `birthdate` with the values Mahmoud, 50, and 05/05/1970."
   ]
  },
  {
   "cell_type": "code",
   "execution_count": null,
   "id": "unnecessary-nursing",
   "metadata": {},
   "outputs": [],
   "source": [
    "d"
   ]
  },
  {
   "cell_type": "markdown",
   "id": "inappropriate-compatibility",
   "metadata": {},
   "source": [
    "**Example 2.3.** Add another set of keys and values to your dictionary `d`."
   ]
  },
  {
   "cell_type": "markdown",
   "id": "consistent-dryer",
   "metadata": {},
   "source": [
    "# 3. Lambda Expressions"
   ]
  },
  {
   "cell_type": "markdown",
   "id": "distinguished-mailman",
   "metadata": {},
   "source": [
    "**Example 3.1.** Write a function that will return the square of a number plus 1."
   ]
  },
  {
   "cell_type": "code",
   "execution_count": null,
   "id": "fatal-transaction",
   "metadata": {},
   "outputs": [],
   "source": [
    "def f(x):\n",
    "    return x**2 + 1\n",
    "\n",
    "f(2)"
   ]
  },
  {
   "cell_type": "code",
   "execution_count": null,
   "id": "consecutive-headset",
   "metadata": {},
   "outputs": [],
   "source": [
    "g = lambda x: x**2 + 1\n",
    "g(2)"
   ]
  },
  {
   "cell_type": "markdown",
   "id": "natural-frame",
   "metadata": {},
   "source": [
    "# 4. Dataframes "
   ]
  },
  {
   "cell_type": "code",
   "execution_count": null,
   "id": "rough-spread",
   "metadata": {},
   "outputs": [],
   "source": [
    "import numpy as np\n",
    "import pandas as pd\n",
    "import random"
   ]
  },
  {
   "cell_type": "code",
   "execution_count": null,
   "id": "owned-jamaica",
   "metadata": {},
   "outputs": [],
   "source": [
    "random.random()"
   ]
  },
  {
   "cell_type": "markdown",
   "id": "least-gasoline",
   "metadata": {},
   "source": [
    "**Example 4.1.** Create a list of 10000 random numbers."
   ]
  },
  {
   "cell_type": "code",
   "execution_count": null,
   "id": "established-israeli",
   "metadata": {},
   "outputs": [],
   "source": [
    "data1 = [random.random() for i in range(10000)]"
   ]
  },
  {
   "cell_type": "markdown",
   "id": "every-johnson",
   "metadata": {},
   "source": [
    "**Example 4.2.** Create a dataframe using the `data1` list."
   ]
  },
  {
   "cell_type": "code",
   "execution_count": null,
   "id": "seeing-apollo",
   "metadata": {},
   "outputs": [],
   "source": [
    "df1 = pd.DataFrame(data1)\n",
    "df1.head()"
   ]
  },
  {
   "cell_type": "markdown",
   "id": "successful-gravity",
   "metadata": {},
   "source": [
    "**Example 4.3.** Create a dataframe from a nested list."
   ]
  },
  {
   "cell_type": "code",
   "execution_count": null,
   "id": "adjacent-wildlife",
   "metadata": {},
   "outputs": [],
   "source": [
    "data2 = [[i, random.randint(1,26)] for i in 'ABCBEFGHIJKLMNOPQRSTUVWXYZ']\n",
    "df2 = pd.DataFrame(data2)\n",
    "df2"
   ]
  },
  {
   "cell_type": "markdown",
   "id": "united-ratio",
   "metadata": {},
   "source": [
    "**Example 4.4.** Create a dataframe from a dictionary."
   ]
  },
  {
   "cell_type": "code",
   "execution_count": null,
   "id": "packed-upset",
   "metadata": {},
   "outputs": [],
   "source": [
    "data3 = {'Model':['T57', 'T61', 'T64', 'T65'],\n",
    "         'Price':[1.42, 1.48, 1.73, 1.95],\n",
    "         'Size': ['57 in', '61 in', '64 in', '65 in']}\n",
    "df3 = pd.DataFrame(data3)\n",
    "df3"
   ]
  },
  {
   "cell_type": "markdown",
   "id": "scheduled-chester",
   "metadata": {},
   "source": [
    "**Example 4.5.** Use the `Model` as the index."
   ]
  },
  {
   "cell_type": "code",
   "execution_count": null,
   "id": "social-eligibility",
   "metadata": {},
   "outputs": [],
   "source": [
    "df4 = \n",
    "\n",
    "df4"
   ]
  },
  {
   "cell_type": "markdown",
   "id": "exempt-insert",
   "metadata": {},
   "source": [
    "**Example 4.6.** Slicing a dataframe by index."
   ]
  },
  {
   "cell_type": "code",
   "execution_count": null,
   "id": "noble-designation",
   "metadata": {},
   "outputs": [],
   "source": [
    "df4.loc['T57':]"
   ]
  },
  {
   "cell_type": "markdown",
   "id": "blank-employment",
   "metadata": {},
   "source": [
    "**Example 4.7.** Create a dataframe from a list of dictionaries."
   ]
  },
  {
   "cell_type": "code",
   "execution_count": null,
   "id": "speaking-hazard",
   "metadata": {},
   "outputs": [],
   "source": [
    "data5 = [{'Ht': 63, 'Len':45, 'Wt':2.6},\n",
    "         {'Ht': 29, 'Wt':1.7},\n",
    "         {'Ht': 37, 'Len':71, 'Wt':4.2}]\n",
    "data5"
   ]
  },
  {
   "cell_type": "code",
   "execution_count": null,
   "id": "coordinated-average",
   "metadata": {},
   "outputs": [],
   "source": [
    "df5 = pd.DataFrame(data5)\n",
    "df5"
   ]
  },
  {
   "cell_type": "markdown",
   "id": "hazardous-cooking",
   "metadata": {},
   "source": [
    "**Example 4.8.** Create a csv file from a dataframe."
   ]
  },
  {
   "cell_type": "code",
   "execution_count": null,
   "id": "apart-residence",
   "metadata": {},
   "outputs": [],
   "source": [
    "df5.to_csv()"
   ]
  },
  {
   "cell_type": "markdown",
   "id": "valuable-freight",
   "metadata": {},
   "source": [
    "**Example 4.9.** Read a csv file and store it in a dataframe."
   ]
  },
  {
   "cell_type": "code",
   "execution_count": null,
   "id": "local-cedar",
   "metadata": {},
   "outputs": [],
   "source": [
    "df6 = pd.read_csv()\n",
    "df6"
   ]
  },
  {
   "cell_type": "markdown",
   "id": "employed-settle",
   "metadata": {},
   "source": [
    "# 5. Slicing Dataframes"
   ]
  },
  {
   "cell_type": "code",
   "execution_count": null,
   "id": "correct-homework",
   "metadata": {},
   "outputs": [],
   "source": [
    "df7 = pd.read_csv('https://raw.githubusercontent.com/mahmoudharding/ma4112/main/ldm/iris.csv')\n",
    "df7.head()"
   ]
  },
  {
   "cell_type": "markdown",
   "id": "acoustic-washer",
   "metadata": {},
   "source": [
    "**Example 5.1.** Using the `loc` method."
   ]
  },
  {
   "cell_type": "code",
   "execution_count": null,
   "id": "valid-playlist",
   "metadata": {},
   "outputs": [],
   "source": [
    "# view the dimensions of the dataframe\n"
   ]
  },
  {
   "cell_type": "code",
   "execution_count": null,
   "id": "employed-inventory",
   "metadata": {},
   "outputs": [],
   "source": [
    "# slice by row index\n",
    "df7.loc[]"
   ]
  },
  {
   "cell_type": "code",
   "execution_count": null,
   "id": "thousand-grill",
   "metadata": {},
   "outputs": [],
   "source": [
    "# slice by specific row indices\n",
    "df7.loc[[]]"
   ]
  },
  {
   "cell_type": "code",
   "execution_count": null,
   "id": "addressed-crash",
   "metadata": {},
   "outputs": [],
   "source": [
    "# slice by column name\n",
    "df7[[]].head()"
   ]
  },
  {
   "cell_type": "code",
   "execution_count": null,
   "id": "another-natural",
   "metadata": {},
   "outputs": [],
   "source": [
    "# slice by index and column\n",
    "df7.loc[]"
   ]
  },
  {
   "cell_type": "code",
   "execution_count": null,
   "id": "proprietary-fundamentals",
   "metadata": {},
   "outputs": [],
   "source": [
    "# slice using column name \n",
    "df7.loc[]"
   ]
  },
  {
   "cell_type": "code",
   "execution_count": null,
   "id": "chinese-breach",
   "metadata": {},
   "outputs": [],
   "source": [
    "# slice using conditional statements\n",
    "df7.loc[]"
   ]
  },
  {
   "cell_type": "markdown",
   "id": "regulated-davis",
   "metadata": {},
   "source": [
    "**Example 5.1.** Using the `iloc` method."
   ]
  },
  {
   "cell_type": "code",
   "execution_count": null,
   "id": "heated-antenna",
   "metadata": {},
   "outputs": [],
   "source": [
    "df7.iloc[:5]"
   ]
  },
  {
   "cell_type": "code",
   "execution_count": null,
   "id": "looking-courage",
   "metadata": {},
   "outputs": [],
   "source": [
    "# change the index values\n",
    "df7.index = []\n",
    "df7.head()"
   ]
  },
  {
   "cell_type": "code",
   "execution_count": null,
   "id": "official-pierce",
   "metadata": {},
   "outputs": [],
   "source": [
    "# slice using iloc\n",
    "df7.iloc[]"
   ]
  },
  {
   "cell_type": "code",
   "execution_count": null,
   "id": "shaped-reply",
   "metadata": {},
   "outputs": [],
   "source": [
    "# slice using iloc\n",
    "df7.iloc[].head()"
   ]
  },
  {
   "cell_type": "code",
   "execution_count": null,
   "id": "alpine-exercise",
   "metadata": {},
   "outputs": [],
   "source": [
    "df7.iloc[]"
   ]
  },
  {
   "cell_type": "markdown",
   "id": "looking-maldives",
   "metadata": {},
   "source": [
    "**Example 5.3.** Slice using the `query` function."
   ]
  },
  {
   "cell_type": "code",
   "execution_count": null,
   "id": "extra-wichita",
   "metadata": {},
   "outputs": [],
   "source": [
    "df7.query('sepal.length/2 > sepal.width')"
   ]
  },
  {
   "cell_type": "code",
   "execution_count": null,
   "id": "warming-allergy",
   "metadata": {},
   "outputs": [],
   "source": [
    "df7.rename(columns = {'sepal.length':'sepallength', 'sepal.width':'sepalwidth' }, inplace = True) \n",
    "df7"
   ]
  },
  {
   "cell_type": "code",
   "execution_count": null,
   "id": "adequate-provider",
   "metadata": {},
   "outputs": [],
   "source": [
    "df7.query('sepallength/2 > sepalwidth')"
   ]
  },
  {
   "cell_type": "code",
   "execution_count": null,
   "id": "supported-parameter",
   "metadata": {},
   "outputs": [],
   "source": [
    "df7.query('sepalwidth in [3.2, 5.7]')"
   ]
  },
  {
   "cell_type": "code",
   "execution_count": null,
   "id": "stainless-technician",
   "metadata": {},
   "outputs": [],
   "source": []
  }
 ],
 "metadata": {
  "kernelspec": {
   "display_name": "Python 3",
   "language": "python",
   "name": "python3"
  },
  "language_info": {
   "codemirror_mode": {
    "name": "ipython",
    "version": 3
   },
   "file_extension": ".py",
   "mimetype": "text/x-python",
   "name": "python",
   "nbconvert_exporter": "python",
   "pygments_lexer": "ipython3",
   "version": "3.8.6"
  }
 },
 "nbformat": 4,
 "nbformat_minor": 5
}
