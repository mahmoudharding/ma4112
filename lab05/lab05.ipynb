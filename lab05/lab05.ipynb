{
 "cells": [
  {
   "cell_type": "code",
   "execution_count": null,
   "id": "controlling-afternoon",
   "metadata": {
    "deletable": false,
    "editable": false
   },
   "outputs": [],
   "source": [
    "# Initialize Otter\n",
    "import otter\n",
    "grader = otter.Notebook(\"lab05.ipynb\")"
   ]
  },
  {
   "cell_type": "markdown",
   "id": "regulation-recycling",
   "metadata": {},
   "source": [
    "# Lab 05: Probability\n",
    "\n",
    "In this lab you will investigate probability and probability ditributions.\n",
    "\n",
    "To receive credit for a lab, answer all questions correctly and submit before the deadline.\n",
    "\n",
    "**Due Date:** Wednesday, March 10, 2021 at 7:00 p.m.\n",
    "\n",
    "**Collaboration Policy:** Data science is a collaborative activity. While you may talk with others about the labs, we ask that you **write your solutions individually**. If you do discuss the assignments with others **please include their names below** (it's a good way to learn your classmates' names).\n",
    "\n",
    "**Collaborators:** \n",
    "\n",
    "List collaborators here.\n",
    "\n",
    "**Notes:** \n",
    "\n",
    "- In this notebook a custom figure size has been configured. Click [here](https://matplotlib.org/users/customizing.html) to read the documentation about customizing aspects of matplotlib.\n",
    "\n",
    "- For autograded probability questions, the provided tests will only check that your answer is within a reasonable range.\n",
    "\n",
    "Run the cell below."
   ]
  },
  {
   "cell_type": "code",
   "execution_count": 1,
   "id": "clean-jerusalem",
   "metadata": {},
   "outputs": [],
   "source": [
    "import numpy as np\n",
    "import matplotlib.pyplot as plt\n",
    "import seaborn as sns\n",
    "\n",
    "import matplotlib\n",
    "%matplotlib inline\n",
    "plt.style.use('fivethirtyeight')\n",
    "plt.rcParams['figure.figsize'] = (16,8)\n",
    "plt.rcParams['figure.dpi'] = 150\n",
    "sns.set()"
   ]
  },
  {
   "cell_type": "markdown",
   "id": "classical-surveillance",
   "metadata": {},
   "source": [
    "## 1. Distributions\n",
    "\n",
    "Visualizing distributions, both categorical and numerical, helps us understand variability. In Foundations of Data Science you visualized numerical distributions by drawing [histograms](https://www.inferentialthinking.com/chapters/07/2/Visualizing_Numerical_Distributions.html#A-Histogram), which look like bar charts but represent proportions by the *areas* of the bars instead of the heights or lengths. In this exercise you will use the `hist` function in `matplotlib` instead of the corresponding `Table` method to draw histograms.\n",
    "\n",
    "To start off, suppose we want to plot the probability distribution of the number of spots on a single roll of a die. That should be a flat histogram since the chance of each of the values 1 through 6 is 1/6. Here is a first attempt at drawing the histogram."
   ]
  },
  {
   "cell_type": "code",
   "execution_count": 2,
   "id": "graphic-minnesota",
   "metadata": {},
   "outputs": [],
   "source": [
    "faces = range(1, 7)\n",
    "sns.histplot(faces);"
   ]
  },
  {
   "cell_type": "markdown",
   "id": "corresponding-train",
   "metadata": {},
   "source": [
    "This default plot is not helpful. We have to choose some arguments to get a visualization that we can interpret. \n",
    "\n",
    "Note that the second printed line shows the left ends of the default bins, as well as the right end of the last bin. The first line shows the counts in the bins. \n",
    "\n",
    "Let's redraw the histogram with bins of unit length centered at the possible values. By the end of the exercise you'll see a reason for centering. Notice that the argument for specifying bins is the same as the one for the `Table` method `hist`."
   ]
  },
  {
   "cell_type": "code",
   "execution_count": 3,
   "id": "chubby-glance",
   "metadata": {},
   "outputs": [],
   "source": [
    "unit_bins = np.arange(0.5, 6.6)\n",
    "sns.histplot(faces, bins = unit_bins);"
   ]
  },
  {
   "cell_type": "markdown",
   "id": "modified-princeton",
   "metadata": {},
   "source": [
    "That's much better, but look at the vertical axis. It is not drawn to the [density scale](https://www.inferentialthinking.com/chapters/07/2/Visualizing_Numerical_Distributions.html#The-Histogram:-General-Principles-and-Calculation) defined in Foundations of Data Science. We want a histogram of a probability distribution, so the total area should be 1. \n",
    "\n",
    "To fix this we can use the parameter `stat = 'density'`."
   ]
  },
  {
   "cell_type": "code",
   "execution_count": 4,
   "id": "adapted-violence",
   "metadata": {},
   "outputs": [],
   "source": [
    "sns.histplot(faces, bins = unit_bins, stat = 'density');"
   ]
  },
  {
   "cell_type": "markdown",
   "id": "union-afternoon",
   "metadata": {},
   "source": [
    "That's the probability histogram of the number of spots on one roll of a die. The proportion is $\\frac{1}{6}$ in each of the bins."
   ]
  },
  {
   "cell_type": "markdown",
   "id": "tender-expense",
   "metadata": {
    "deletable": false,
    "editable": false
   },
   "source": [
    "<!-- BEGIN QUESTION -->\n",
    "\n",
    "**Question 1.1.** Define a function `integer_distribution` that takes an array of integers and draws the histogram of the distribution using unit bins centered at the integers and white edges for the bars. The histogram should be drawn to the density scale. The left-most bar should be centered at the smallest integer in the array, and the right-most bar at the largest.\n",
    "\n",
    "Your function does not have to check that the input is an array consisting only of integers. The display does not need to include the printed proportions and bins.\n",
    "\n",
    "**Hint:** If you have trouble defining the function, go back and carefully read all the lines of code that resulted in the probability histogram of the number of spots on one roll of a die. Pay special attention to the bins.\n",
    "\n",
    "<!--\n",
    "BEGIN QUESTION\n",
    "name: q1_1\n",
    "manual: true\n",
    "-->"
   ]
  },
  {
   "cell_type": "code",
   "execution_count": 5,
   "id": "accepting-gnome",
   "metadata": {},
   "outputs": [],
   "source": [
    "def integer_distribution(x):\n",
    "    ...\n",
    "integer_distribution(faces);"
   ]
  },
  {
   "cell_type": "markdown",
   "id": "deadly-closer",
   "metadata": {},
   "source": [
    "<!-- END QUESTION -->\n",
    "\n",
    "\n",
    "\n",
    "## 2. `SciPy` and `special`\n",
    "\n",
    "Factorials and the binomial coefficients $\\binom{n}{k} = \\frac{n!}{k!(n-k)!}$ get large very quickly as $n$ gets large. One way to compute them is to use the `SciPy` module `special`. `SciPy` is a collection of Python-based software for math, probability, statistics, science, and engineering."
   ]
  },
  {
   "cell_type": "code",
   "execution_count": 6,
   "id": "dense-appeal",
   "metadata": {},
   "outputs": [],
   "source": [
    "from scipy import special"
   ]
  },
  {
   "cell_type": "markdown",
   "id": "polar-sheriff",
   "metadata": {},
   "source": [
    "Below are two examples of `special.factorial`."
   ]
  },
  {
   "cell_type": "code",
   "execution_count": 7,
   "id": "early-namibia",
   "metadata": {},
   "outputs": [],
   "source": [
    "special.factorial(5)"
   ]
  },
  {
   "cell_type": "code",
   "execution_count": 8,
   "id": "brief-triple",
   "metadata": {},
   "outputs": [],
   "source": [
    "special.factorial(range(1, 10), exact = True)"
   ]
  },
  {
   "cell_type": "markdown",
   "id": "smart-orleans",
   "metadata": {},
   "source": [
    "Traditionally, subsets of $k$ items out of a population of $n$ items are called **combinations**, and so `special.comb(n, k)` evaluates to $\\binom{n}{k}$. \n",
    "\n",
    "**Note:** We will always use the term **subsets** to mean un-ordered sets. We will use **permutations** in situations where we need to keep track of the order in which the elements appear.\n",
    "\n",
    "Look at the code and output from running the next 5 code cells carefully (including types) before starting **Question 2.1.**."
   ]
  },
  {
   "cell_type": "code",
   "execution_count": 9,
   "id": "fourth-blackjack",
   "metadata": {},
   "outputs": [],
   "source": [
    "special.comb(5, 3)"
   ]
  },
  {
   "cell_type": "code",
   "execution_count": 10,
   "id": "featured-cream",
   "metadata": {},
   "outputs": [],
   "source": [
    "special.factorial(5)/(special.factorial(3) * special.factorial(2))"
   ]
  },
  {
   "cell_type": "code",
   "execution_count": 11,
   "id": "separated-humanity",
   "metadata": {},
   "outputs": [],
   "source": [
    "special.comb(5, range(6))"
   ]
  },
  {
   "cell_type": "code",
   "execution_count": 12,
   "id": "formed-greeting",
   "metadata": {},
   "outputs": [],
   "source": [
    "special.comb(100, 50)"
   ]
  },
  {
   "cell_type": "code",
   "execution_count": 13,
   "id": "allied-probability",
   "metadata": {},
   "outputs": [],
   "source": [
    "special.comb(100, 50, exact = True)"
   ]
  },
  {
   "cell_type": "markdown",
   "id": "passing-newfoundland",
   "metadata": {},
   "source": [
    "Consider a population in which a proportion $p$ of individuals are called \"successes\" (or 1, if you prefer) and the remaining proportion are rudely called \"failures\" (or 0). \n",
    "\n",
    "Let $n$ be a positive integer. If you draw a sample of size $n$ at random with replacement from the population then the chance that you get $k$ successes and $n-k$ failures in your sample is \n",
    "\n",
    "$$\\binom{n}{k}p^k(1-p)^{n-k}$$ for $0 \\le k \\le n$. \n",
    "\n",
    "You saw examples of binomial probabilities in Group Assignment 3."
   ]
  },
  {
   "cell_type": "markdown",
   "id": "precise-cambridge",
   "metadata": {
    "deletable": false,
    "editable": false
   },
   "source": [
    "**Quesion 2.2.** In Group Assignment 3 **Question 12.** asks \"What is the probability that, if challenged, Eddy could make at least 3 out of 5 free throws?\" Given the fact that Eddy shoots 60% from the free-throw line, complete the cell with a Python expression that evaluates to an array whose elements are the chances of $k$ successes for $k = 0, 1, 2, 3, 4, 5$. Assign your array to `all_probs`.\n",
    "\n",
    "**Hints:** \n",
    "\n",
    "- `all_probs` should be a numpy array\n",
    "\n",
    "- Youe array should sum to 1.\n",
    "\n",
    "<!--\n",
    "BEGIN QUESTION\n",
    "name: q2_2\n",
    "manual: false\n",
    "-->"
   ]
  },
  {
   "cell_type": "code",
   "execution_count": 14,
   "id": "dynamic-flavor",
   "metadata": {},
   "outputs": [],
   "source": [
    "all_probs = ...\n",
    "all_probs"
   ]
  },
  {
   "cell_type": "code",
   "execution_count": null,
   "id": "vietnamese-pride",
   "metadata": {
    "deletable": false,
    "editable": false
   },
   "outputs": [],
   "source": [
    "grader.check(\"q2_2\")"
   ]
  },
  {
   "cell_type": "markdown",
   "id": "bizarre-facial",
   "metadata": {
    "deletable": false,
    "editable": false
   },
   "source": [
    "**Question 2.3.** Suppose you sample 100 times at random with replacement from a population in which 26% of the individuals are called \"successes\" (that's traditional terminology in probability). Write a Python expression that evaluates to the chance that the sample has 20 successes. \n",
    "\n",
    "**Computational Note:** Don't import any other libraries; just use the ones already imported and plug into the formula above. It's far from the best way numerically, but it is fine for the numbers involved in this lab. We will address issues of numerical accuracy later in the course. \n",
    "\n",
    "<!--\n",
    "BEGIN QUESTION\n",
    "name: q2_3\n",
    "manual: false\n",
    "-->"
   ]
  },
  {
   "cell_type": "code",
   "execution_count": 20,
   "id": "eastern-start",
   "metadata": {},
   "outputs": [],
   "source": [
    "prob = ...\n",
    "prob"
   ]
  },
  {
   "cell_type": "code",
   "execution_count": null,
   "id": "featured-appointment",
   "metadata": {
    "deletable": false,
    "editable": false
   },
   "outputs": [],
   "source": [
    "grader.check(\"q2_3\")"
   ]
  },
  {
   "cell_type": "markdown",
   "id": "inner-nelson",
   "metadata": {
    "deletable": false,
    "editable": false
   },
   "source": [
    "**Question 2.4.** Suppose we want to know the theorectical probability that the number of successes in a sample of 100 is in the interval 20 to 30 (inclusive on both sides), where the probability of a success is 0.26. Calculate this probability and assign it to the variable `q2_4`.\n",
    "\n",
    "**Hints:** You can use the `special.comb` function to compute binomial probability.\n",
    "\n",
    "<!--\n",
    "BEGIN QUESTION\n",
    "name: q2_4\n",
    "manual: false\n",
    "-->"
   ]
  },
  {
   "cell_type": "code",
   "execution_count": 24,
   "id": "consistent-integer",
   "metadata": {},
   "outputs": [],
   "source": [
    "q2_4 = ...\n",
    "q2_4"
   ]
  },
  {
   "cell_type": "code",
   "execution_count": null,
   "id": "opened-christianity",
   "metadata": {
    "deletable": false,
    "editable": false
   },
   "outputs": [],
   "source": [
    "grader.check(\"q2_4\")"
   ]
  },
  {
   "cell_type": "markdown",
   "id": "married-assault",
   "metadata": {},
   "source": [
    "Let $n$ and $s$ be an positive integers such that $0 \\le s \\le n$. Consider a sample of size $n$ drawn at random with replacement from a population in which a proportion $p$ of the individuals are called successes. The math expression for the probability that the number of successes in the sample is at most $s$ can be written as \n",
    "\n",
    "$$\\sum_{k=0}^s \\binom{n}{k}p^k(1-p)^{n-k} \\hspace{3cm}\\text{ (1) }$$\n",
    "\n",
    "In probability classes this probability will typically be denoted $P(S \\le s)$ where $S$ denotes the random number of successes in the sample. Formal definitions of the pieces of this notation aren't particularly helpful for our purposes. Just read it as \"the probability that the number of successes is at most $s$.\""
   ]
  },
  {
   "cell_type": "markdown",
   "id": "passive-month",
   "metadata": {
    "deletable": false,
    "editable": false
   },
   "source": [
    "**Question 2.5.** Fill in the function `prob_at_most` which takes $n$, $p$, and $s$ and returns $P(S \\le s)$ as defined in summation $\\text{ (1) }$.\n",
    "\n",
    "**Note:** Make sure that the inputs are valid. For example, if $p > 1$ or $s > n$ then return 0.\n",
    "\n",
    "<!--\n",
    "BEGIN QUESTION\n",
    "name: q2_5\n",
    "manual: false\n",
    "-->"
   ]
  },
  {
   "cell_type": "code",
   "execution_count": 28,
   "id": "presidential-placement",
   "metadata": {},
   "outputs": [],
   "source": [
    "def prob_at_most(n, p, s):\n",
    "    # Returns the probability of S <= s\n",
    "    # Inputs n: sample size; p : proportion; s: number of successes at most\n",
    "    ...\n",
    "prob_at_most(...)"
   ]
  },
  {
   "cell_type": "code",
   "execution_count": null,
   "id": "filled-edward",
   "metadata": {
    "deletable": false,
    "editable": false
   },
   "outputs": [],
   "source": [
    "grader.check(\"q2_5\")"
   ]
  },
  {
   "cell_type": "markdown",
   "id": "lasting-hundred",
   "metadata": {
    "deletable": false,
    "editable": false
   },
   "source": [
    "**Question 2.6.**  In an election, supporters of Candidate C are in a minority. Only 45% of the voters in the population favor the candidate. Suppose a survey organization takes a sample of 200 voters at random with replacement from this population. Use `prob_at_most` to write an expression that evaluates to the chance that a majority (more than half) of the sampled voters favor Candidate C.\n",
    "\n",
    "<!--\n",
    "BEGIN QUESTION\n",
    "name: q2_6\n",
    "manual: false\n",
    "-->"
   ]
  },
  {
   "cell_type": "code",
   "execution_count": 33,
   "id": "regulation-central",
   "metadata": {},
   "outputs": [],
   "source": [
    "p_majority = ...\n",
    "p_majority"
   ]
  },
  {
   "cell_type": "code",
   "execution_count": null,
   "id": "statutory-stockholm",
   "metadata": {
    "deletable": false,
    "editable": false
   },
   "outputs": [],
   "source": [
    "grader.check(\"q2_6\")"
   ]
  },
  {
   "cell_type": "markdown",
   "id": "simplified-shoot",
   "metadata": {
    "deletable": false,
    "editable": false
   },
   "source": [
    "Suppose each of five survey organizations takes a sample of voters at random with replacement from the population of voters in **Question 2.6.**, independently of the samples drawn by the other organizations. \n",
    "\n",
    "- Three of the organizations use a sample size of 200\n",
    "- One organization uses a sample size of 300\n",
    "- One organization uses a sample size of 400\n",
    "\n",
    "**Question 2.7.**  Write an expression that evaluates to the chance that in at least one of the five samples the majority of voters favor Candidate C. You can use any quantity or function defined earlier in this lab.\n",
    "\n",
    "**Hints:** \n",
    "- When two or more events are independent, the probability that both will happen is the product of their invidual probabilities.\n",
    "\n",
    "- The probability of an event occurring at least once, will be the complement of the event never occurring. This means that the probability of the event never occurring and the probability of the event occurring at least once will equal 1.\n",
    "\n",
    "<!--\n",
    "BEGIN QUESTION\n",
    "name: q2_7\n",
    "manual: false\n",
    "-->"
   ]
  },
  {
   "cell_type": "code",
   "execution_count": 36,
   "id": "answering-armstrong",
   "metadata": {},
   "outputs": [],
   "source": [
    "prob2_6 = ...\n",
    "prob2_6"
   ]
  },
  {
   "cell_type": "code",
   "execution_count": null,
   "id": "normal-surrey",
   "metadata": {
    "deletable": false,
    "editable": false
   },
   "outputs": [],
   "source": [
    "grader.check(\"q2_7\")"
   ]
  },
  {
   "cell_type": "markdown",
   "id": "surprising-barrel",
   "metadata": {},
   "source": [
    "# 3. Simulating Risk Probability"
   ]
  },
  {
   "cell_type": "markdown",
   "id": "familiar-pride",
   "metadata": {
    "deletable": false,
    "editable": false
   },
   "source": [
    "Studies indicate that about 90% of the booked passengers actually arrive for their flights. Suppose that a small plane has 75 seats and, for the purpose of this exercise, assume that passengers arrive independently of each other. \n",
    "\n",
    "**Note:** This assumption is not realistic (i.e. many people do not travel alone).\n",
    "\n",
    "Most of the time airlines overbook flights (i.e. the airline sells more tickets than there are seats on the plane). This is due to the fact that sometimes passengers fail to show up, and the plane must be flown with empty seats. However, if they overbook, they run the risk of having more passengers than seats. This will undoubtedly upset passenges. \n",
    "\n",
    "To intice overbooked passengers to give up their seats, the airline will give vouchers for free flights or offer money to passengers to take a later flight.\n",
    "\n",
    "With these risks in mind the airline decides to sell 80 tickets. You and your friends see this as an opportunity to design an application that will help the airlines determine if this is a good strategy.\n",
    "\n",
    "**Question 3.1.** Write a function named `number_of_tickets` that will simulate 80 tickets being sold for flight on an airplane with 75 available seats. Simulate the probability that the number of passengers who arrive for 1000 flights is more than the number of seats available. Store this proportion in `q3_1`. \n",
    "\n",
    "**Note:** Make sure that the inputs are valid. For example, if $p > 1$ or $s > n$ then return 0.\n",
    "\n",
    "<!--\n",
    "BEGIN QUESTION\n",
    "name: q3_1\n",
    "manual: false\n",
    "-->"
   ]
  },
  {
   "cell_type": "code",
   "execution_count": 39,
   "id": "attempted-corpus",
   "metadata": {},
   "outputs": [],
   "source": [
    "def number_of_tickets(n, p, s):\n",
    "    # Returns the probability of S >= s\n",
    "    # Inputs \n",
    "    # n: number of tickets sold; \n",
    "    # p: proportion of passengers expected to arrive; \n",
    "    # s: number of available seats\n",
    "    ...\n",
    "q3_1 = ...\n",
    "q3_1"
   ]
  },
  {
   "cell_type": "code",
   "execution_count": null,
   "id": "informative-university",
   "metadata": {
    "deletable": false,
    "editable": false
   },
   "outputs": [],
   "source": [
    "grader.check(\"q3_1\")"
   ]
  },
  {
   "cell_type": "markdown",
   "id": "wrong-harvey",
   "metadata": {
    "deletable": false,
    "editable": false
   },
   "source": [
    "**Question 3.2.** If the airline wants to keep the probability of having more than 75 passengers show up to get on the flight to around 1%, what is the maximum number of tickets they shoiuld sell? Assign this value to `q3_2`.\n",
    "\n",
    "<!--\n",
    "BEGIN QUESTION\n",
    "name: q3_2\n",
    "manual: false\n",
    "-->"
   ]
  },
  {
   "cell_type": "code",
   "execution_count": 44,
   "id": "manual-chest",
   "metadata": {},
   "outputs": [],
   "source": [
    "q3_2 = ..."
   ]
  },
  {
   "cell_type": "code",
   "execution_count": null,
   "id": "compliant-ottawa",
   "metadata": {
    "deletable": false,
    "editable": false
   },
   "outputs": [],
   "source": [
    "grader.check(\"q3_2\")"
   ]
  },
  {
   "cell_type": "markdown",
   "id": "individual-cream",
   "metadata": {
    "deletable": false,
    "editable": false
   },
   "source": [
    "<!-- BEGIN QUESTION -->\n",
    "\n",
    "**Question 3.3.** In 2-3 sentences, explain how you determined your answer for **Question 3.2.**.\n",
    "\n",
    "<!--\n",
    "BEGIN QUESTION\n",
    "name: q3_3\n",
    "manual: true\n",
    "-->"
   ]
  },
  {
   "cell_type": "markdown",
   "id": "instrumental-magic",
   "metadata": {},
   "source": [
    "_Type your answer here, replacing this text._"
   ]
  },
  {
   "cell_type": "markdown",
   "id": "oriented-architecture",
   "metadata": {
    "deletable": false,
    "editable": false
   },
   "source": [
    "<!-- END QUESTION -->"
   ]
  },
  {
   "cell_type": "code",
   "execution_count": null,
   "id": "adult-florence",
   "metadata": {},
   "outputs": [],
   "source": []
  },
  {
   "cell_type": "markdown",
   "id": "received-ending",
   "metadata": {
    "deletable": false,
    "editable": false
   },
   "source": [
    "---\n",
    "\n",
    "To double-check your work, the cell below will rerun all of the autograder tests."
   ]
  },
  {
   "cell_type": "code",
   "execution_count": null,
   "id": "collaborative-velvet",
   "metadata": {
    "deletable": false,
    "editable": false
   },
   "outputs": [],
   "source": [
    "grader.check_all()"
   ]
  },
  {
   "cell_type": "markdown",
   "id": "falling-summit",
   "metadata": {
    "deletable": false,
    "editable": false
   },
   "source": [
    "## Submission\n",
    "\n",
    "Make sure you have run all cells in your notebook in order before running the cell below, so that all images/graphs appear in the output. The cell below will generate a zip file for you to submit. **Please save before exporting!**\n",
    "\n",
    "When done exporting, download the .zip file by `SHIFT`-clicking on the file name and selecting **Save Link As**. Or, find the .zip file in the left side of the screen and right-click and select **Download**. You'll submit this .zip file for the assignment in Canvas to Gradescope for grading."
   ]
  },
  {
   "cell_type": "code",
   "execution_count": null,
   "id": "posted-alberta",
   "metadata": {
    "deletable": false,
    "editable": false
   },
   "outputs": [],
   "source": [
    "# Save your notebook first, then run this cell to export your submission.\n",
    "grader.export(pdf=False)"
   ]
  },
  {
   "cell_type": "markdown",
   "id": "cardiac-infrastructure",
   "metadata": {},
   "source": [
    " "
   ]
  }
 ],
 "metadata": {
  "kernelspec": {
   "display_name": "Python 3",
   "language": "python",
   "name": "python3"
  },
  "language_info": {
   "codemirror_mode": {
    "name": "ipython",
    "version": 3
   },
   "file_extension": ".py",
   "mimetype": "text/x-python",
   "name": "python",
   "nbconvert_exporter": "python",
   "pygments_lexer": "ipython3",
   "version": "3.8.6"
  }
 },
 "nbformat": 4,
 "nbformat_minor": 5
}
