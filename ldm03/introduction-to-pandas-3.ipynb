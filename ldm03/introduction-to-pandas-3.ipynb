{
 "cells": [
  {
   "cell_type": "markdown",
   "metadata": {},
   "source": [
    "# Introduction to Pandas 3\n",
    "\n",
    "Advanced Pandas syntax and joining."
   ]
  },
  {
   "cell_type": "code",
   "execution_count": null,
   "metadata": {},
   "outputs": [],
   "source": [
    "import numpy as np\n",
    "import pandas as pd\n",
    "import matplotlib.pyplot as plt\n",
    "%matplotlib inline\n",
    "\n",
    "plt.style.use('fivethirtyeight')"
   ]
  },
  {
   "cell_type": "markdown",
   "metadata": {},
   "source": [
    "## 1. Name Whose Popularity has Changed the Most\n",
    "\n",
    "Let's plot the change in popularity of a name to see if we find any trends.\n",
    "\n",
    "Run the cell below."
   ]
  },
  {
   "cell_type": "code",
   "execution_count": null,
   "metadata": {},
   "outputs": [],
   "source": [
    "babynames_nc = pd.read_csv(\"babynames_nc.csv\", index_col = 0)"
   ]
  },
  {
   "cell_type": "markdown",
   "metadata": {},
   "source": [
    "**Example 1.1.** First we need to define change in popularity. For the purposes of this demonstration, let’s stay simple and use the absolute maximum and minimum difference (ammd).\n",
    "\n",
    "To make sure we understand this quantity, let's consider the name Jordan.\n",
    "\n",
    "Write a function named `ammd`that will compute the difference between the times the name Jordan was given the most and the least."
   ]
  },
  {
   "cell_type": "code",
   "execution_count": null,
   "metadata": {},
   "outputs": [],
   "source": [
    "def ammd(series):\n",
    "    return max(series) - min(series)\n",
    "\n",
    "name = \"Jordan\"\n",
    "counts = babynames_nc[babynames_nc.Name == name][\"Count\"]\n",
    "\n",
    "ammd(counts)"
   ]
  },
  {
   "cell_type": "markdown",
   "metadata": {},
   "source": [
    "### 1.1. For Loop\n",
    "\n",
    "**Example 1.1.1.** Ideallly we would like to do this for all the names in the table. In Foundations fo Data Science we learned to use the `for` loop. We could use a dictionary to store the name (i.e. key) and count (i.e. value) as pairs."
   ]
  },
  {
   "cell_type": "code",
   "execution_count": null,
   "metadata": {},
   "outputs": [],
   "source": [
    "# Build dictionary where entry i is the ammd function for the given name\n",
    "# For example, ammd[\"Jordan\"] should be 489\n",
    "\n",
    "ammd_of_babyname_counts = {}\n",
    "\n",
    "name = \"Jordan\"\n",
    "\n",
    "# Select the first 10 unique names\n",
    "for name in babynames_nc[\"Name\"].unique()[0:10]:\n",
    "    counts_of_current_name = babynames_nc[babynames_nc[\"Name\"] == name][\"Count\"]\n",
    "    ammd_of_babyname_counts[name] = ammd(counts_of_current_name)\n",
    "\n",
    "# Convert to a series\n",
    "ammd_of_babyname_counts = pd.Series(ammd_of_babyname_counts) \n",
    "ammd_of_babyname_counts"
   ]
  },
  {
   "cell_type": "markdown",
   "metadata": {},
   "source": [
    "### 1.2. Use `groupby` and `agg`\n",
    "\n",
    "**Example 1.2.1.** We can use the `groupby.agg` operation, which allows us to simply and efficiently compute what we want."
   ]
  },
  {
   "cell_type": "code",
   "execution_count": null,
   "metadata": {},
   "outputs": [],
   "source": [
    "babynames_nc.groupby(\"Name\").agg(max).head()"
   ]
  },
  {
   "cell_type": "markdown",
   "metadata": {},
   "source": [
    "**Example 1.2.2.** Using the `ammd` functions for `agg()`."
   ]
  },
  {
   "cell_type": "code",
   "execution_count": null,
   "metadata": {},
   "outputs": [],
   "source": [
    "babynames_nc.groupby(\"Name\").agg(ammd).head()"
   ]
  },
  {
   "cell_type": "markdown",
   "metadata": {},
   "source": [
    "**Note:** The result includes both a Year and Count column. The Count column is what we want, namely the ammd for the name in that row. To check your understanding, try to figure out what the Year column represents.\n",
    "\n",
    "To understand how `groupby` works, consider the visual diagram below. The `groupby` function clusters rows from the original dataframe into groups (which I call subframes). The `agg` function then condenses each subframe into a single representative row using the provided function $f$.\n",
    "\n",
    "<center><img src=\"groupbyagg.png\"></center>"
   ]
  },
  {
   "cell_type": "markdown",
   "metadata": {},
   "source": [
    "**Example 1.2.3.** Let's actually build this DataFrame and play with it interactively to understand `groupby` better."
   ]
  },
  {
   "cell_type": "code",
   "execution_count": null,
   "metadata": {},
   "outputs": [],
   "source": [
    "df = pd.DataFrame(dict(x=[3,1,4,1,5,9,2,5,6], y=[12,7,3,2,7,3,8,6,7]), index=list('ABCABCACB') )\n",
    "df"
   ]
  },
  {
   "cell_type": "code",
   "execution_count": null,
   "metadata": {},
   "outputs": [],
   "source": [
    "df_gb = df.groupby(df.index)\n",
    "df_gb"
   ]
  },
  {
   "cell_type": "code",
   "execution_count": null,
   "metadata": {},
   "outputs": [],
   "source": [
    "df_gb.groups"
   ]
  },
  {
   "cell_type": "code",
   "execution_count": null,
   "metadata": {},
   "outputs": [],
   "source": [
    "df_gb.groups['A']"
   ]
  },
  {
   "cell_type": "code",
   "execution_count": null,
   "metadata": {},
   "outputs": [],
   "source": [
    "df_gb.get_group('A')"
   ]
  },
  {
   "cell_type": "code",
   "execution_count": null,
   "metadata": {},
   "outputs": [],
   "source": [
    "df_gb.agg(ammd)"
   ]
  },
  {
   "cell_type": "markdown",
   "metadata": {},
   "source": [
    "## 2. Some Additional Groupby Examples\n",
    "\n",
    "**Example 2.1.** Test your understanding, by trying to interpret the result of the code below."
   ]
  },
  {
   "cell_type": "code",
   "execution_count": null,
   "metadata": {},
   "outputs": [],
   "source": [
    "babynames_nc.groupby(\"Year\").agg(ammd).plot();"
   ]
  },
  {
   "cell_type": "markdown",
   "metadata": {},
   "source": [
    "**Example 2.2.** Let's look at the intermediate dataframes for each year."
   ]
  },
  {
   "cell_type": "code",
   "execution_count": null,
   "metadata": {},
   "outputs": [],
   "source": [
    "for i, (k, v) in enumerate(babynames_nc.groupby(\"Year\")):\n",
    "    if i >= 3: break\n",
    "    print(f\"Year: {k}\")\n",
    "    display(v.head())"
   ]
  },
  {
   "cell_type": "markdown",
   "metadata": {},
   "source": [
    "**Example 2.3.** For reference, the first 5 values from the plot above are:"
   ]
  },
  {
   "cell_type": "code",
   "execution_count": null,
   "metadata": {},
   "outputs": [],
   "source": [
    "babynames_nc.groupby(\"Year\").agg(ammd).head()"
   ]
  },
  {
   "cell_type": "code",
   "execution_count": null,
   "metadata": {},
   "outputs": [],
   "source": [
    "elections = pd.read_csv(\"elections.csv\")\n",
    "elections.head()"
   ]
  },
  {
   "cell_type": "markdown",
   "metadata": {},
   "source": [
    "**Example 2.2.** We have to be careful when using aggregation functions. For example, the code below might be misinterpreted to say that Woodrow Wilson ran for election in 2016. Why is this happening?"
   ]
  },
  {
   "cell_type": "code",
   "execution_count": null,
   "metadata": {},
   "outputs": [],
   "source": [
    "elections.groupby(\"Party\").agg(max).head(10)"
   ]
  },
  {
   "cell_type": "markdown",
   "metadata": {},
   "source": [
    "**Example 3.1.** Inspired by above, try to predict the results of the groupby operation shown.\n",
    "\n",
    "<center><img src=\"groupbyagg1.png\"></center>"
   ]
  },
  {
   "cell_type": "markdown",
   "metadata": {},
   "source": [
    "**Example 3.2.** What goes in the first box with **??**, the second box with **??**, and the third box with **??**?"
   ]
  },
  {
   "cell_type": "code",
   "execution_count": null,
   "metadata": {},
   "outputs": [],
   "source": [
    "df = pd.DataFrame(dict(x=[3,1,4,1,5,9,2,5,6], \n",
    "                      y=['ak', 'tx', 'fl', 'hi', 'mi', 'ak', 'ca', 'sd', 'nc']), \n",
    "                      index=list('ABCABCACB') )\n",
    "df"
   ]
  },
  {
   "cell_type": "markdown",
   "metadata": {},
   "source": [
    "**Example 3.3.** Check your solutions by running the cell below."
   ]
  },
  {
   "cell_type": "code",
   "execution_count": null,
   "metadata": {},
   "outputs": [],
   "source": [
    "df.groupby(ds.index).agg(max)"
   ]
  },
  {
   "cell_type": "markdown",
   "metadata": {},
   "source": [
    "**Example 4.1.** Next we'll write code that properly returns the best result by each party. That is, each row should show the Year, Candidate, Popular Vote, Result, and % for the election in which that party saw its best results (rather than mixing them as in the example above), here's what the first rows of the correct output should look like:\n",
    "\n",
    "<center><img src=\"groupbyagg2.png\"></center>"
   ]
  },
  {
   "cell_type": "markdown",
   "metadata": {},
   "source": [
    "**Example 4.2.** You'll soon discover that with Pandas' rich tool set, there's typically more than one way to get to the same answer. Each approach has different tradeoffs in terms of readability, performance, memory consumption, complexity and more. It will take some experience for you to develop a sense of which approach is better for each problem, but you should in general try to think if you can at least envision a different solution to a given problem, especially if you find your current solution to be particularly convoluted or hard to read.\n",
    "\n",
    "Here's a couple ways of obtaining the same result (in each case we only show the top part with head()). The first approach uses groupby but finds the location of the maximum value via the `idxmax()` method (look up its documentation!). We then index and sort by party to match the requested formatting:"
   ]
  },
  {
   "cell_type": "code",
   "execution_count": null,
   "metadata": {},
   "outputs": [],
   "source": [
    "elections_sorted_by_percent = elections.sort_values('%', ascending = False)\n",
    "elections_sorted_by_percent.groupby(\"Party\").agg(lambda x : x.iloc[0]).head()"
   ]
  },
  {
   "cell_type": "code",
   "execution_count": null,
   "metadata": {},
   "outputs": [],
   "source": [
    "elections_sorted_by_percent = elections.sort_values(\"%\", ascending = False)\n",
    "elections_sorted_by_percent.groupby(\"Party\").first().head()"
   ]
  },
  {
   "cell_type": "code",
   "execution_count": null,
   "metadata": {},
   "outputs": [],
   "source": [
    "best_per_party = elections.loc[elections.groupby('Party')['%'].idxmax()]  \n",
    "best_per_party.set_index('Party').sort_index().head()                  "
   ]
  },
  {
   "cell_type": "code",
   "execution_count": null,
   "metadata": {},
   "outputs": [],
   "source": [
    "best_per_party2 = elections.sort_values('%').drop_duplicates(['Party'], keep = 'last')\n",
    "best_per_party2.set_index('Party').sort_index().head()                            "
   ]
  },
  {
   "cell_type": "markdown",
   "metadata": {},
   "source": [
    "## 3. Join Review\n",
    "\n",
    "In this section we'll briefly review joining tables as discussed in Data 8 (click [here](https://www.inferentialthinking.com/chapters/08/4/Joining_Tables_by_Columns.html) to review joining).\n",
    "\n",
    "Often data is spread across two tables. Joining provides us with a way to naturally combine related tables.\n",
    "\n",
    "Let's start by reading data from the given zip file. To showcase how to do read data that is inside zip files, we're going to use the `zipfile` module. Doing so will allow us to avoid needing to unzip the data. \n",
    "\n",
    "\n",
    "**Example 3.1.** Running the cell below, we see that the zip file contains `elections.csv` and `presidents.csv`."
   ]
  },
  {
   "cell_type": "code",
   "execution_count": null,
   "metadata": {},
   "outputs": [],
   "source": [
    "import zipfile\n",
    "\n",
    "join_demo_filename = \"join_demo_data.zip\"\n",
    "my_zip = zipfile.ZipFile(join_demo_filename, 'r')\n",
    "list_names = [f.filename for f in my_zip.filelist]\n",
    "list_names"
   ]
  },
  {
   "cell_type": "markdown",
   "metadata": {},
   "source": [
    "**Example 3.2.** We could call `my_zip.extractall()` to unzip the files, but we won't. Instead, we'll read directly from the zip file itself."
   ]
  },
  {
   "cell_type": "code",
   "execution_count": null,
   "metadata": {},
   "outputs": [],
   "source": [
    "with my_zip.open(\"elections.csv\") as f:\n",
    "    elections = pd.read_csv(f)\n",
    "    \n",
    "elections.head()"
   ]
  },
  {
   "cell_type": "code",
   "execution_count": null,
   "metadata": {},
   "outputs": [],
   "source": [
    "with my_zip.open(\"presidents.csv\") as f:\n",
    "    presidents = pd.read_csv(f)\n",
    "    \n",
    "presidents.head()"
   ]
  },
  {
   "cell_type": "markdown",
   "metadata": {},
   "source": [
    "**Example 3.3.** To join tables `df` and `df2`, we call the function `df.merge(df2)`. Merge is just the word that the authors of pandas picked for joining tables. I don't know why.\n",
    "\n",
    "**Note:** Unfortunately, Pandas also has a function called `df.join`. This is a limited version of merge. For the sake of generality, we will only use merge in this class.\n",
    "\n",
    "We can use the merge function to combine these two tables: "
   ]
  },
  {
   "cell_type": "code",
   "execution_count": null,
   "metadata": {},
   "outputs": [],
   "source": [
    "elections.merge(presidents, \n",
    "            how = \"inner\",\n",
    "            left_on = \"Candidate\", right_on = \"President\")"
   ]
  },
  {
   "cell_type": "markdown",
   "metadata": {},
   "source": [
    "Notice that:\n",
    "\n",
    "1. The output dataframe only contains rows that have names in both tables. For example, presidents before 1824 do not appear in the joined table because there was no popular vote before 1824.\n",
    "\n",
    "2. The name Andrew Jackson occurred three times in the election table and shows up three times in the output.\n",
    "\n",
    "3. Grover Cleveland occurs six times! Twice for every election he was in. This is because he appears three times in the elections table and twice in the presidents table. This results in 3 x 2 = 6 combinations.\n",
    "\n",
    "4. Several presidents are missing because their names are not an exact match. For example, John F. Kennedy is \"John Kennedy\" in the elections table and \"John F. Kennedy\" in the presidents table.\n",
    "\n",
    "**Example 3.4.** With the caveats above in mind, this merged DataFrame is handy because we can use it to plot, e.g. the age of each president when they were elected."
   ]
  },
  {
   "cell_type": "code",
   "execution_count": null,
   "metadata": {},
   "outputs": [],
   "source": [
    "joined = elections.merge(presidents, \n",
    "            how = \"inner\",\n",
    "            left_on = \"Candidate\", right_on = \"President\")\n",
    "\n",
    "winners = joined.query(\"Result == 'win'\").copy()\n",
    "winners[\"Birthyear\"] = winners[\"Date of birth\"].str.split(',').str[1].map(int)\n",
    "winners[\"Age\"] = winners[\"Year\"] - winners[\"Birthyear\"]\n",
    "sns.lmplot(data=winners, x=\"Year\", y=\"Age\");"
   ]
  },
  {
   "cell_type": "markdown",
   "metadata": {},
   "source": [
    "#### 3.1. How could we fix the duplicate Grover Cleveland?\n",
    "\n",
    "**Example 3.1.1.** We could group by name/candidate and take only the first:"
   ]
  },
  {
   "cell_type": "code",
   "execution_count": null,
   "metadata": {},
   "outputs": [],
   "source": [
    "(\n",
    "    elections.merge(presidents, \n",
    "            how = \"inner\",\n",
    "            left_on = \"Candidate\", \n",
    "            right_on = \"President\").\n",
    "    groupby(['Candidate', 'Year']).first().reset_index()\n",
    ")"
   ]
  },
  {
   "cell_type": "markdown",
   "metadata": {},
   "source": [
    "#### 3.2. Right Join\n",
    "\n",
    "The above join was an inner join. \n",
    "\n",
    "\n",
    "**Example 3.2.1.** What if we wanted to keep all of the presidents and leave missing data for years when there was no popular vote? In this case we'd do a \"right\" join, where we make sure to include **every** row from our right dataframe, in this case presidents."
   ]
  },
  {
   "cell_type": "code",
   "execution_count": null,
   "metadata": {},
   "outputs": [],
   "source": [
    "elections.merge(presidents, \n",
    "            how = \"right\",\n",
    "            left_on = \"Candidate\", right_on = \"President\")"
   ]
  },
  {
   "cell_type": "markdown",
   "metadata": {},
   "source": [
    "#### 3.3. Left Join\n",
    "\n",
    "**Example 3.3.1.** Similarly, if we also want to include candidates not in the presidents table (e.g. because they had never won), we can use a \"left\" join."
   ]
  },
  {
   "cell_type": "code",
   "execution_count": null,
   "metadata": {},
   "outputs": [],
   "source": [
    "elections.merge(presidents, \n",
    "            how = \"left\",\n",
    "            left_on = \"Candidate\", right_on = \"President\")"
   ]
  },
  {
   "cell_type": "markdown",
   "metadata": {},
   "source": [
    "#### 3.4. Outer Join\n",
    "\n",
    "**Example 3.4.1.** If we wanted to keep both, we can instead do an \"outer join\"."
   ]
  },
  {
   "cell_type": "code",
   "execution_count": null,
   "metadata": {},
   "outputs": [],
   "source": [
    "elections.merge(presidents, \n",
    "            how = \"outer\",\n",
    "            left_on = \"Candidate\", right_on = \"President\")"
   ]
  }
 ],
 "metadata": {
  "kernelspec": {
   "display_name": "Python 3",
   "language": "python",
   "name": "python3"
  },
  "language_info": {
   "codemirror_mode": {
    "name": "ipython",
    "version": 3
   },
   "file_extension": ".py",
   "mimetype": "text/x-python",
   "name": "python",
   "nbconvert_exporter": "python",
   "pygments_lexer": "ipython3",
   "version": "3.8.6"
  }
 },
 "nbformat": 4,
 "nbformat_minor": 4
}
