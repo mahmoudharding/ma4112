{
 "cells": [
  {
   "cell_type": "code",
   "execution_count": null,
   "id": "magnetic-thursday",
   "metadata": {
    "deletable": false,
    "editable": false
   },
   "outputs": [],
   "source": [
    "# Initialize Otter\n",
    "import otter\n",
    "grader = otter.Notebook(\"lab03.ipynb\")"
   ]
  },
  {
   "cell_type": "markdown",
   "id": "laughing-raleigh",
   "metadata": {},
   "source": [
    "# Lab 03: Data Cleaning and Visualization\n",
    "\n",
    "In this lab you will be working on cleaning and visualizing a dataset from the City of Berkeley containing data on calls to the Berkeley Police Department. Information about the dataset can be found [at this link](https://data.cityofberkeley.info/Public-Safety/Berkeley-PD-Calls-for-Service/k2nh-s5h5).\n",
    "\n",
    "To receive credit for a lab, answer all questions correctly and submit before the deadline.\n",
    "\n",
    "**Due Date:** Wednesday, February 17, 2021 at 7:00 p.m.\n",
    "\n",
    "**Collaboration Policy:** Data science is a collaborative activity. While you may talk with others about the labs, we ask that you **write your solutions individually**. If you do discuss the assignments with others **please include their names below** (it's a good way to learn your classmates' names).\n",
    "\n",
    "**Collaborators:** \n",
    "\n",
    "List collaborators here.\n",
    "\n",
    "**Note:** In this notebook a custom figure size has been configured. Click [here](https://matplotlib.org/users/customizing.html) to read the documentation about customizing aspects of matplotlib."
   ]
  },
  {
   "cell_type": "code",
   "execution_count": 1,
   "id": "offshore-blues",
   "metadata": {},
   "outputs": [],
   "source": [
    "import pandas as pd\n",
    "import numpy as np\n",
    "import matplotlib\n",
    "import matplotlib.pyplot as plt\n",
    "import seaborn as sns\n",
    "\n",
    "plt.rcParams['figure.figsize'] = (12, 9)\n",
    "\n",
    "import otter\n",
    "grader = otter.Notebook()"
   ]
  },
  {
   "cell_type": "markdown",
   "id": "mature-mercury",
   "metadata": {},
   "source": [
    "## 1. Cleaning and Exploring the Data\n",
    "\n",
    "Load the `Berkeley_PD_-_Calls_for_Service.csv` dataset."
   ]
  },
  {
   "cell_type": "code",
   "execution_count": 2,
   "id": "surface-poker",
   "metadata": {},
   "outputs": [],
   "source": [
    "calls = pd.read_csv(\"Berkeley_PD_-_Calls_for_Service.csv\")\n",
    "calls.head()"
   ]
  },
  {
   "cell_type": "markdown",
   "id": "floppy-gnome",
   "metadata": {},
   "source": [
    "We see that the fields include a case number, the offense type, the date and time of the offense, the \"CVLEGEND\" which appears to be related to the offense type, a \"CVDOW\" which has no apparent meaning, a date added to the database, and the location spread across four fields.\n",
    "\n",
    "Let's also check some basic information about these files using the `DataFrame.info` and `DataFrame.describe` methods."
   ]
  },
  {
   "cell_type": "code",
   "execution_count": 3,
   "id": "heated-bunny",
   "metadata": {},
   "outputs": [],
   "source": [
    "calls.info()"
   ]
  },
  {
   "cell_type": "code",
   "execution_count": 4,
   "id": "capital-speech",
   "metadata": {},
   "outputs": [],
   "source": [
    "calls.describe()"
   ]
  },
  {
   "cell_type": "markdown",
   "id": "structured-antique",
   "metadata": {
    "deletable": false,
    "editable": false
   },
   "source": [
    "<!-- BEGIN QUESTION -->\n",
    "\n",
    "**Question 1.1.** Why did the `DataFrame.describe` method chose the `CASENO` and the `CVDOW` columns? Do you think the output is useful? Explain.\n",
    "\n",
    "<!--\n",
    "BEGIN QUESTION\n",
    "name: q1_1\n",
    "manual: true\n",
    "-->"
   ]
  },
  {
   "cell_type": "markdown",
   "id": "sound-triumph",
   "metadata": {},
   "source": [
    "_Type your answer here, replacing this text._"
   ]
  },
  {
   "cell_type": "markdown",
   "id": "soviet-magazine",
   "metadata": {},
   "source": [
    "<!-- END QUESTION -->\n",
    "\n",
    "\n",
    "\n",
    "Notice that the functions above reveal type information for the columns, as well as some basic statistics about the numerical columns found in the DataFrame. However, we still need more information about what each column represents. Let's explore the data further.\n",
    "\n",
    "Before we go over the fields to see their meanings, let's verify that all the events happened in Berkeley by grouping on the `City` and `State` columns and using the `.count()` method to see how many cases are in the dataset."
   ]
  },
  {
   "cell_type": "code",
   "execution_count": 5,
   "id": "superb-ladder",
   "metadata": {},
   "outputs": [],
   "source": [
    "calls.groupby([\"City\", \"State\"]).count()"
   ]
  },
  {
   "cell_type": "markdown",
   "id": "prompt-corps",
   "metadata": {},
   "source": [
    "Above, when we called `head`, it seemed like `OFFENSE` and `CVLEGEND` both contained information about the type of event reported. What is the difference in meaning between the two columns? One way to probe this is to look at the `value_counts` for each Series."
   ]
  },
  {
   "cell_type": "code",
   "execution_count": 6,
   "id": "exclusive-password",
   "metadata": {},
   "outputs": [],
   "source": [
    "calls['OFFENSE'].value_counts().head(10)"
   ]
  },
  {
   "cell_type": "code",
   "execution_count": 7,
   "id": "binding-cleaner",
   "metadata": {},
   "outputs": [],
   "source": [
    "calls['CVLEGEND'].value_counts().head(10)"
   ]
  },
  {
   "cell_type": "markdown",
   "id": "unique-watts",
   "metadata": {
    "deletable": false,
    "editable": false
   },
   "source": [
    "<!-- BEGIN QUESTION -->\n",
    "\n",
    "**Question 1.2.** Choose a items from each series that have been recorded using different descriptions, but share the same meaning.\n",
    "\n",
    "<!--\n",
    "BEGIN QUESTION\n",
    "name: q1_2\n",
    "manual: true\n",
    "-->"
   ]
  },
  {
   "cell_type": "markdown",
   "id": "removed-royal",
   "metadata": {},
   "source": [
    "_Type your answer here, replacing this text._"
   ]
  },
  {
   "cell_type": "markdown",
   "id": "earned-segment",
   "metadata": {
    "deletable": false,
    "editable": false
   },
   "source": [
    "<!-- END QUESTION -->\n",
    "\n",
    "<!-- BEGIN QUESTION -->\n",
    "\n",
    "**Question 1.3.** Choose an item from each series that has been recorded using the same description.\n",
    "\n",
    "<!--\n",
    "BEGIN QUESTION\n",
    "name: q1_3\n",
    "manual: true\n",
    "-->"
   ]
  },
  {
   "cell_type": "markdown",
   "id": "nasty-final",
   "metadata": {},
   "source": [
    "_Type your answer here, replacing this text._"
   ]
  },
  {
   "cell_type": "markdown",
   "id": "infrared-relations",
   "metadata": {
    "deletable": false,
    "editable": false
   },
   "source": [
    "<!-- END QUESTION -->\n",
    "\n",
    "<!-- BEGIN QUESTION -->\n",
    "\n",
    "Above, it seems like `OFFENSE` is more specific than `CVLEGEND`, e.g. \"LARCENY\" vs. \"THEFT FELONY (OVER $950)\". If you're unfamiliar with the term, \"larceny\" is a legal term for theft of personal property.\n",
    "\n",
    "**Question 1.4.** To get a sense of how many subcategories there are for each `OFFENSE`, set `calls_by_cvlegend_and_offense` equal to a multi-indexed series where the data is first indexed on the `CVLEGEND` and then on the `OFFENSE`, and the data is equal to the number of offenses in the database that match the respective `CVLEGEND` and `OFFENSE`. For example, `calls_by_cvlegend_and_offense[\"LARCENY\", \"THEFT FROM PERSON\"]` should return 24.\n",
    "\n",
    "**Hint:** You can use the `.size` method on a GroupBy object to return the number of rows in each group as a Series or a DataFrame. Click [here](https://pandas.pydata.org/pandas-docs/stable/reference/api/pandas.core.groupby.GroupBy.size.html) to read the documentation on the `.size` method.\n",
    "\n",
    "<!--\n",
    "BEGIN QUESTION\n",
    "name: q1_4\n",
    "manual: true\n",
    "-->"
   ]
  },
  {
   "cell_type": "code",
   "execution_count": 8,
   "id": "sweet-organ",
   "metadata": {},
   "outputs": [],
   "source": [
    "calls_by_cvlegend_and_offense = ...\n",
    "calls_by_cvlegend_and_offense"
   ]
  },
  {
   "cell_type": "code",
   "execution_count": null,
   "id": "crucial-analysis",
   "metadata": {
    "deletable": false,
    "editable": false
   },
   "outputs": [],
   "source": [
    "grader.check(\"q1_4\")"
   ]
  },
  {
   "cell_type": "markdown",
   "id": "worthy-opinion",
   "metadata": {
    "deletable": false,
    "editable": false
   },
   "source": [
    "<!-- END QUESTION -->\n",
    "\n",
    "**Question 1.5.** In the cell below, set `offense_larceny` equal to a **list** of strings corresponding to the possible values for `OFFENSE` when `CVLEGEND` is \"LARCENY\". You can type the answer manually, or you can create an expression that automatically extracts the names.\n",
    "\n",
    "**Hint:** The `.unique` method for series and `.tolist` method for arrays may be useful. Click [here](https://pandas.pydata.org/pandas-docs/stable/reference/api/pandas.Series.unique.html) to read the documentation on the `.unique` method and click [here](https://pandas.pydata.org/pandas-docs/stable/reference/api/pandas.Series.tolist.html) to read the documentation on the `.tolist` method.\n",
    "\n",
    "<!--\n",
    "BEGIN QUESTION\n",
    "name: q1_5\n",
    "manual: false\n",
    "-->"
   ]
  },
  {
   "cell_type": "code",
   "execution_count": 10,
   "id": "attractive-peoples",
   "metadata": {},
   "outputs": [],
   "source": [
    "offense_larceny = ...\n",
    "offense_larceny"
   ]
  },
  {
   "cell_type": "code",
   "execution_count": null,
   "id": "frequent-massage",
   "metadata": {
    "deletable": false,
    "editable": false
   },
   "outputs": [],
   "source": [
    "grader.check(\"q1_5\")"
   ]
  },
  {
   "cell_type": "markdown",
   "id": "flexible-restoration",
   "metadata": {
    "deletable": false,
    "editable": false
   },
   "source": [
    "**Question 1.6.** What are the five crime types of `CVLEGEND` that have the **most** crime events? You may need to use `value_counts` to find the answer. Save your results into `cvlengend_types` as a **list** of strings.\n",
    "\n",
    "**Hint:** The `.keys` method of the Series class might be useful. Click [here](https://pandas.pydata.org/pandas-docs/stable/reference/api/pandas.DataFrame.keys.html) to read the documentation on the `.keys` method.\n",
    "\n",
    "<!--\n",
    "BEGIN QUESTION\n",
    "name: q1_6\n",
    "manual: false\n",
    "-->"
   ]
  },
  {
   "cell_type": "code",
   "execution_count": 13,
   "id": "white-chamber",
   "metadata": {},
   "outputs": [],
   "source": [
    "cvlengend_types = ...\n",
    "cvlengend_types"
   ]
  },
  {
   "cell_type": "code",
   "execution_count": null,
   "id": "chicken-shareware",
   "metadata": {
    "deletable": false,
    "editable": false
   },
   "outputs": [],
   "source": [
    "grader.check(\"q1_6\")"
   ]
  },
  {
   "cell_type": "markdown",
   "id": "greatest-captain",
   "metadata": {},
   "source": [
    "## 2. Visualization\n",
    "\n",
    "### Pandas and Seaborn Examples\n",
    "\n",
    "Pandas offers basic functionality for plotting. For example, the `DataFrame` and `Series` classes both have a `plot` method. \n",
    "\n",
    "As you learn to do data visualization, you may find the [pandas documentation](https://pandas.pydata.org/pandas-docs/stable/generated/pandas.DataFrame.plot.html) and [Seaborn documentation](https://seaborn.pydata.org/api.html) helpful.\n",
    "\n",
    "As an example of the built-in plotting functionality of pandas, the following example uses `plot` method of the `Series` class to generate a `barh` plot type to visually display the value counts for `CVLEGEND`.\n",
    "\n",
    "There are also many other plots that we will explore throughout the lab.\n",
    "\n",
    "**Note:** You may have noticed that many of our code cells involving plotting end with a semicolon (;). This prevents any extra output from the last line of the cell that we may not want to see. Try adding this to your own code in the following questions.\n",
    "\n",
    "**Example 2.1.** Run the cell below."
   ]
  },
  {
   "cell_type": "code",
   "execution_count": 16,
   "id": "capable-illinois",
   "metadata": {},
   "outputs": [],
   "source": [
    "ax = calls['CVLEGEND'].value_counts().plot(kind = 'barh')\n",
    "ax.set_ylabel(\"Crime Category\")\n",
    "ax.set_xlabel(\"Number of Calls\")\n",
    "ax.set_title(\"Number of Calls By Crime Type\");"
   ]
  },
  {
   "cell_type": "markdown",
   "id": "restricted-knock",
   "metadata": {},
   "source": [
    "By contrast, the `Seaborn` library provides a specific function `countplot` built for plotting counts. It operates directly on the DataFrame itself i.e. there's no need to call `value_counts()` at all. This higher level approach makes it easier to work with. \n",
    "\n",
    "**Example 2.2.** Run the cell below."
   ]
  },
  {
   "cell_type": "code",
   "execution_count": 20,
   "id": "determined-minutes",
   "metadata": {},
   "outputs": [],
   "source": [
    "ax = sns.countplot(data=calls, y=\"CVLEGEND\")\n",
    "ax.set_ylabel(\"Crime Category\")\n",
    "ax.set_xlabel(\"Number of Calls\")\n",
    "ax.set_title(\"Number of Calls By Crime Type\");"
   ]
  },
  {
   "cell_type": "markdown",
   "id": "annoying-logistics",
   "metadata": {},
   "source": [
    "If we want the same ordering that we had in the `pandas` plot, we can use the order parameter of the `countplot` method. It takes a list of strings corresponding to the axis to be ordered. By passing the index of the `value_counts`, we get the order we want.\n",
    "\n",
    "**Example 2.3.** Run the cell below."
   ]
  },
  {
   "cell_type": "code",
   "execution_count": 21,
   "id": "diverse-enterprise",
   "metadata": {},
   "outputs": [],
   "source": [
    "ax = sns.countplot(data=calls, y=\"CVLEGEND\", order=calls[\"CVLEGEND\"].value_counts(ascending=True).index);\n",
    "ax.set_ylabel(\"Crime Category\")\n",
    "ax.set_xlabel(\"Number of Calls\")\n",
    "ax.set_title(\"Number of Calls By Crime Type\");"
   ]
  },
  {
   "cell_type": "markdown",
   "id": "elect-estimate",
   "metadata": {},
   "source": [
    "Now we have a pretty bar plot with the bars ordered by size. Though `seaborn` appears to provide a superior plot from a aesthetic point of view, the `pandas` plotting library is also good to understand. You'll get practice using both libraries in the following questions."
   ]
  },
  {
   "cell_type": "markdown",
   "id": "conscious-tooth",
   "metadata": {
    "deletable": false,
    "editable": false
   },
   "source": [
    "It's is your turn to make some plots using `pandas`  Let's start by transforming the data so that it is easier to work with We then will look at some distributions of the data. \n",
    "\n",
    "The `CVDOW` field isn't named helpfully and it is hard to see the meaning from the data alone. According to the website linked at the top of this notebook, `CVDOW` is actually indicating the day that events happened (e.g. 0 -> Sunday, 1 -> Monday, ..., 6 -> Saturday). \n",
    "\n",
    "**Question 2.1.** Add a new column `Day` into the `calls` dataframe that has the string weekday (eg. \"Sunday\") for the corresponding value in `CVDOW`. For example, if the first 3 values of `CVDOW` are `[3, 6, 0]`, then the first 3 values of the `Day` column should be `[\"Wednesday\", \"Saturday\", \"Sunday\"]`.\n",
    "\n",
    "**Hint:** Try using the [Series.map](https://pandas.pydata.org/pandas-docs/stable/generated/pandas.Series.map.html) function on `calls[\"CVDOW\"]`.  Can you assign this to the new column `calls[\"Day\"]`?\n",
    "\n",
    "<!--\n",
    "BEGIN QUESTION\n",
    "name: q2_1\n",
    "manual: false\n",
    "-->"
   ]
  },
  {
   "cell_type": "code",
   "execution_count": 17,
   "id": "stuck-string",
   "metadata": {},
   "outputs": [],
   "source": [
    "...\n",
    "calls.head()"
   ]
  },
  {
   "cell_type": "code",
   "execution_count": null,
   "id": "powered-allen",
   "metadata": {
    "deletable": false,
    "editable": false
   },
   "outputs": [],
   "source": [
    "grader.check(\"q2_1\")"
   ]
  },
  {
   "cell_type": "markdown",
   "id": "several-belly",
   "metadata": {
    "deletable": false,
    "editable": false
   },
   "source": [
    "<!-- BEGIN QUESTION -->\n",
    "\n",
    "**Question 2.2.** Run the cell below to create a `seaborn` plot. This plot shows the number of calls for each day of the week. Notice the use of the `rotation` argument in `ax.set_xticklabels`, which rotates the labels by 45 degrees.\n",
    "\n",
    "<!--\n",
    "BEGIN QUESTION\n",
    "name: q2_2\n",
    "manual: true\n",
    "-->"
   ]
  },
  {
   "cell_type": "code",
   "execution_count": 19,
   "id": "pretty-benjamin",
   "metadata": {},
   "outputs": [],
   "source": [
    "ax = sns.countplot(data = calls, x = 'Day', order = days)\n",
    "ax.set_xticklabels(ax.get_xticklabels(), rotation = 45)\n",
    "ax.set_ylabel(\"Number of Calls\")\n",
    "ax.set_title(\"Number of Calls For Each Day of the Week\");"
   ]
  },
  {
   "cell_type": "markdown",
   "id": "informational-alcohol",
   "metadata": {
    "deletable": false,
    "editable": false
   },
   "source": [
    "<!-- END QUESTION -->\n",
    "\n",
    "<!-- BEGIN QUESTION -->\n",
    "\n",
    "Now, let's make the same plot using `pandas`. Construct a vertical bar plot with the count of the number of calls (entries in the table) for each day of the week **ordered by the day of the week** (e.g. Sunday, Monday, ...). Do not use `sns` for this plot. Be sure that your axes are labeled and that your plot is titled.\n",
    "\n",
    "**Hint:** Given a series `call_counts`, and an array `day_index` that has the same entries as in `call_counts.index`, `call_counts[day_index]` will return a copy of the series in the same order as `day_index`.\n",
    "\n",
    "<!--\n",
    "BEGIN QUESTION\n",
    "name: q2_3\n",
    "manual: true\n",
    "-->"
   ]
  },
  {
   "cell_type": "code",
   "execution_count": 52,
   "id": "endless-corporation",
   "metadata": {},
   "outputs": [],
   "source": [
    "...\n",
    "plt.bar(day_index, call_counts[day_index])\n",
    "plt.ylabel(\"Number of Calls\")\n",
    "plt.xlabel(\"Day\")\n",
    "plt.title(\"Number of Calls For Each Day of the Week\");"
   ]
  },
  {
   "cell_type": "markdown",
   "id": "closing-martin",
   "metadata": {
    "deletable": false,
    "editable": false
   },
   "source": [
    "<!-- END QUESTION -->\n",
    "\n",
    "<!-- BEGIN QUESTION -->\n",
    "\n",
    "It seems weekdays generally have slightly more calls than Saturday or Sunday, but the difference does not look significant.  \n",
    "\n",
    "We can break down into some particular types of events to see their distribution. For example, let's make a bar plot for the `CVLEGEND` \"NOISE VIOLATION\" (i.e. Which day is the peak for \"NOISE VIOLATION\"?).\n",
    "\n",
    "This time, use `seaborn` to create a vertical bar plot of the number of total noise violations reported on each day of the week, again ordered by the days of the week starting with Sunday. \n",
    "\n",
    "**Note:** Do not use `pandas` to plot.\n",
    "\n",
    "**Hint:** If you're stuck, use the code for the seaborn plot in **Question 2.2.** as a starting point.\n",
    "\n",
    "<!--\n",
    "BEGIN QUESTION\n",
    "name: q2_4\n",
    "manual: true\n",
    "-->"
   ]
  },
  {
   "cell_type": "code",
   "execution_count": 72,
   "id": "welcome-recruitment",
   "metadata": {},
   "outputs": [],
   "source": [
    "ax = ...\n",
    "ax.set_ylabel(\"Number of Calls\")\n",
    "ax.set_title(\"Number of Noise Violation Calls For Each Day of the Week\");"
   ]
  },
  {
   "cell_type": "markdown",
   "id": "graduate-singles",
   "metadata": {
    "deletable": false,
    "editable": false
   },
   "source": [
    "<!-- END QUESTION -->\n",
    "\n",
    "<!-- BEGIN QUESTION -->\n",
    "\n",
    "**Question 2.5.** Describe the distribution of noise voilations during the week.\n",
    "\n",
    "<!--\n",
    "BEGIN QUESTION\n",
    "name: q2_5\n",
    "manual: true\n",
    "-->"
   ]
  },
  {
   "cell_type": "markdown",
   "id": "precious-eagle",
   "metadata": {},
   "source": [
    "_Type your answer here, replacing this text._"
   ]
  },
  {
   "cell_type": "markdown",
   "id": "burning-raise",
   "metadata": {
    "deletable": false,
    "editable": false
   },
   "source": [
    "<!-- END QUESTION -->\n",
    "\n",
    "<!-- BEGIN QUESTION -->\n",
    "\n",
    "Let's look at a similar distribution but for a crime we have much more calls data about. In the cell below, create the same plot as you did in **Question 2.5.**, but now looking at instances of the `CVLEGEND` \"FRAUD\" (instead of \"NOISE VIOLATION\"). Use either `pandas` or `seaborn` plotting as you desire.\n",
    "\n",
    "<!--\n",
    "BEGIN QUESTION\n",
    "name: q2_6\n",
    "manual: true\n",
    "-->"
   ]
  },
  {
   "cell_type": "code",
   "execution_count": 73,
   "id": "configured-hardwood",
   "metadata": {},
   "outputs": [],
   "source": [
    "ax = ...\n",
    "ax.set_ylabel(\"Number of Calls\")\n",
    "ax.set_title(\"Number of Fraud Calls For Each Day of the Week\");"
   ]
  },
  {
   "cell_type": "markdown",
   "id": "consecutive-drink",
   "metadata": {
    "deletable": false,
    "editable": false
   },
   "source": [
    "<!-- END QUESTION -->\n",
    "\n",
    "Now let's look at the `EVENTTM` column which indicates the time for events. Since it contains hour and minute information, let's extract the hour info and create a new column named `Hour` in the `calls` dataframe. You should save the hour as an `int`. Then plot the frequency of each hour in the table (i.e., `value_counts()`) sorted by the hour of the day (i.e., `sort_index()`).\n",
    "\n",
    "You will want to look into how to use:\n",
    "\n",
    "* [Series.str.slice](https://pandas.pydata.org/pandas-docs/stable/generated/pandas.Series.str.slice.html#pandas.Series.str.slice) to select the substring.\n",
    "* [Series.astype](https://pandas.pydata.org/pandas-docs/stable/generated/pandas.Series.astype.html) to change the type.\n",
    "\n",
    "**Hint:** The `str` helper member of a series can be used to grab substrings.\n",
    "\n",
    "<!--\n",
    "BEGIN QUESTION\n",
    "name: q2_7\n",
    "manual: false\n",
    "-->"
   ]
  },
  {
   "cell_type": "code",
   "execution_count": 74,
   "id": "electoral-degree",
   "metadata": {},
   "outputs": [],
   "source": [
    "..."
   ]
  },
  {
   "cell_type": "code",
   "execution_count": null,
   "id": "sophisticated-purpose",
   "metadata": {
    "deletable": false,
    "editable": false
   },
   "outputs": [],
   "source": [
    "grader.check(\"q2_7\")"
   ]
  },
  {
   "cell_type": "markdown",
   "id": "elect-cartoon",
   "metadata": {},
   "source": [
    "The code in the cell below creates a pandas bar plot showing the number of `FRAUD` crimes committed at each hour of the day.\n",
    "\n",
    "**Example 2.4.** Run the cell below."
   ]
  },
  {
   "cell_type": "code",
   "execution_count": 78,
   "id": "compatible-tours",
   "metadata": {},
   "outputs": [],
   "source": [
    "ax = calls[calls[\"CVLEGEND\"] == \"FRAUD\"]['Hour'].value_counts().sort_index().plot(kind = 'bar')\n",
    "ax.set_xlabel(\"Hour of the Day\")\n",
    "ax.set_ylabel(\"Number of Calls\")\n",
    "ax.set_title(\"Number of Calls Reporting Fraud For Each Hour of the Day\");"
   ]
  },
  {
   "cell_type": "markdown",
   "id": "bibliographic-oasis",
   "metadata": {},
   "source": [
    "The cell below contains a seaborn plot of the same data.\n",
    "\n",
    "**Example 2.5.** Run the cell below."
   ]
  },
  {
   "cell_type": "code",
   "execution_count": 79,
   "id": "painted-simple",
   "metadata": {},
   "outputs": [],
   "source": [
    "ax = sns.countplot(data = calls[calls[\"CVLEGEND\"] == \"FRAUD\"], x = 'Hour')\n",
    "ax.set_xlabel(\"Hour of the Day\")\n",
    "ax.set_ylabel(\"Number of Calls\")\n",
    "ax.set_title(\"Number of Calls Reporting Fraud For Each Hour of the Day\");"
   ]
  },
  {
   "cell_type": "markdown",
   "id": "quality-channel",
   "metadata": {
    "deletable": false,
    "editable": false
   },
   "source": [
    "<!-- BEGIN QUESTION -->\n",
    "\n",
    "According to our plots, there seems to be a spike in calls reporting fraud at midnight (i.e. 0 -> 12:00 a.m.). \n",
    "\n",
    "**Questio 2.8.** Do you trust that this spike is legitimate, or could there be an issue with our data? Give a brief explanation (i.e. 1-2 sentences) for your reasoning.\n",
    "\n",
    "<!--\n",
    "BEGIN QUESTION\n",
    "name: q2_8\n",
    "manual: true\n",
    "-->"
   ]
  },
  {
   "cell_type": "markdown",
   "id": "great-barbados",
   "metadata": {},
   "source": [
    "_Type your answer here, replacing this text._"
   ]
  },
  {
   "cell_type": "markdown",
   "id": "fatty-stability",
   "metadata": {
    "deletable": false,
    "editable": false
   },
   "source": [
    "<!-- END QUESTION -->\n",
    "\n",
    "<!-- BEGIN QUESTION -->\n",
    "\n",
    "Let's make a bar plot for the `CVLEGEND` \"ROBBERY\".\n",
    "\n",
    "**Question 2.9.** Use `pandas` or `seaborn` to create a vertical bar plot of the number of total robberies reported on each day of the week, again ordered by the days of the week starting with Sunday. \n",
    "\n",
    "<!--\n",
    "BEGIN QUESTION\n",
    "name: q2_9\n",
    "manual: true\n",
    "-->"
   ]
  },
  {
   "cell_type": "code",
   "execution_count": 85,
   "id": "plastic-limitation",
   "metadata": {},
   "outputs": [],
   "source": [
    "ax = ...\n",
    "ax.set_ylabel(\"Number of Calls\")\n",
    "ax.set_title(\"Number of Robbery Calls For Each Day of the Week\");"
   ]
  },
  {
   "cell_type": "markdown",
   "id": "fabulous-railway",
   "metadata": {
    "deletable": false,
    "editable": false
   },
   "source": [
    "<!-- END QUESTION -->"
   ]
  },
  {
   "cell_type": "code",
   "execution_count": 86,
   "id": "mounted-riding",
   "metadata": {},
   "outputs": [],
   "source": []
  },
  {
   "cell_type": "code",
   "execution_count": null,
   "id": "uniform-librarian",
   "metadata": {},
   "outputs": [],
   "source": []
  },
  {
   "cell_type": "markdown",
   "id": "spread-posting",
   "metadata": {
    "deletable": false,
    "editable": false
   },
   "source": [
    "---\n",
    "\n",
    "To double-check your work, the cell below will rerun all of the autograder tests."
   ]
  },
  {
   "cell_type": "code",
   "execution_count": null,
   "id": "sorted-depression",
   "metadata": {
    "deletable": false,
    "editable": false
   },
   "outputs": [],
   "source": [
    "grader.check_all()"
   ]
  },
  {
   "cell_type": "markdown",
   "id": "excessive-mercy",
   "metadata": {
    "deletable": false,
    "editable": false
   },
   "source": [
    "## Submission\n",
    "\n",
    "Make sure you have run all cells in your notebook in order before running the cell below, so that all images/graphs appear in the output. The cell below will generate a zip file for you to submit. **Please save before exporting!**\n",
    "\n",
    "When done exporting, download the .zip file by `SHIFT`-clicking on the file name and selecting **Save Link As**. Or, find the .zip file in the left side of the screen and right-click and select **Download**. You'll submit this .zip file for the assignment in Canvas to Gradescope for grading."
   ]
  },
  {
   "cell_type": "code",
   "execution_count": null,
   "id": "greater-diabetes",
   "metadata": {
    "deletable": false,
    "editable": false
   },
   "outputs": [],
   "source": [
    "# Save your notebook first, then run this cell to export your submission.\n",
    "grader.export(pdf=False)"
   ]
  },
  {
   "cell_type": "markdown",
   "id": "statutory-uncertainty",
   "metadata": {},
   "source": [
    " "
   ]
  }
 ],
 "metadata": {
  "kernelspec": {
   "display_name": "Python 3",
   "language": "python",
   "name": "python3"
  },
  "language_info": {
   "codemirror_mode": {
    "name": "ipython",
    "version": 3
   },
   "file_extension": ".py",
   "mimetype": "text/x-python",
   "name": "python",
   "nbconvert_exporter": "python",
   "pygments_lexer": "ipython3",
   "version": "3.8.6"
  }
 },
 "nbformat": 4,
 "nbformat_minor": 5
}
