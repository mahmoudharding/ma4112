{
 "cells": [
  {
   "cell_type": "code",
   "execution_count": null,
   "id": "humanitarian-emission",
   "metadata": {
    "deletable": false,
    "editable": false
   },
   "outputs": [],
   "source": [
    "# Initialize Otter\n",
    "import otter\n",
    "grader = otter.Notebook(\"hw01.ipynb\")"
   ]
  },
  {
   "cell_type": "markdown",
   "id": "opening-darkness",
   "metadata": {},
   "source": [
    "# Homework 01: Explorartoty Data Analysis and Visualization\n",
    "\n",
    "## Introduction\n",
    "\n",
    "Bike sharing systems are a new generation of traditional bike rentals where the process of signing up, renting, and returning is automated. Through these systems, users are able to easily rent a bike from one location and return it to another. We will be analyzing bike sharing data from Washington D.C. \n",
    "\n",
    "In this assignment, you will perform tasks to clean, visualize, and explore the bike sharing data. You will also investigate open-ended questions. These open-ended questions ask you to think critically about how the plots you have created provide insight into the data.\n",
    "\n",
    "After completing this assignment, you should be comfortable with:\n",
    "\n",
    "* reading plaintext delimited data into `pandas`\n",
    "* wrangling data for analysis\n",
    "* using EDA to learn about your data \n",
    "* making informative plots\n",
    "\n",
    "To receive credit for a homework assignment, answer all questions correctly and submit before the deadline.\n",
    "\n",
    "**Due Date:** Wednesday, March 10, 2021 at 7:00 p.m.\n",
    "\n",
    "**Collaboration Policy:** Data science is a collaborative activity. While you may talk with others about the labs, we ask that you **write your solutions individually**. If you do discuss the assignments with others **please include their names below** (it's a good way to learn your classmates' names).\n",
    "\n",
    "**Collaborators:** \n",
    "\n",
    "List collaborators here.\n",
    "\n",
    "**Notes:**\n",
    "\n",
    "- Your plots should be **similar** to the given examples. Small variations are acceptable such as color differences or slight variations in scale. However it is in your best interest to make the plots as similar as possible, as similarity is subject to the instructor.\n",
    "\n",
    "- It is expected that for all plotting questions from here on out, there are appropriate titles, axis labels, legends, etc. The following question serves as a good guideline on what is \"enough\": If I directly downloaded the plot and viewed it, would I be able to tell what was being visualized without knowing the question?** \n",
    "\n",
    "- In this notebook a custom figure size has been configured. Click [here](https://matplotlib.org/users/customizing.html) to read the documentation about customizing aspects of matplotlib.\n",
    "\n",
    "Run the cell below."
   ]
  },
  {
   "cell_type": "code",
   "execution_count": 1,
   "id": "competent-sheffield",
   "metadata": {},
   "outputs": [],
   "source": [
    "import numpy as np\n",
    "import os\n",
    "import pandas as pd\n",
    "import seaborn as sns\n",
    "import matplotlib.pyplot as plt\n",
    "\n",
    "%matplotlib inline\n",
    "plt.rcParams['figure.figsize'] = (10,10)\n",
    "plt.rcParams['figure.dpi'] = 150\n",
    "sns.set()"
   ]
  },
  {
   "cell_type": "markdown",
   "id": "imperial-inventory",
   "metadata": {},
   "source": [
    "---\n",
    "## 1. Loading Bike Sharing Data\n",
    "The data we are exploring was collected from a bike sharing system in Washington D.C.\n",
    "\n",
    "The variables in this data frame are defined as:\n",
    "\n",
    "Variable  |Description\n",
    "--------- |--------------------------------------------------------------\n",
    "instant | record index\n",
    "dteday | date\n",
    "season | 1. spring <br> 2. summer <br> 3. fall <br> 4. winter\n",
    "yr | year (0: 2011, 1:2012)\n",
    "mnth | month ( 1 to 12)\n",
    "hr | hour (0 to 23)\n",
    "holiday | whether day is holiday or not\n",
    "weekday | day of the week\n",
    "workingday | if day is neither weekend nor holiday\n",
    "weathersit | 1. clear or partly cloudy <br> 2. mist and clouds <br> 3. light snow or rain <br> 4. heavy rain or snow\n",
    "temp | normalized temperature in Celsius (divided by 41)\n",
    "atemp | normalized \"feels-like\" temperature in Celsius (divided by 50)\n",
    "hum | normalized percent humidity (divided by 100)\n",
    "windspeed| normalized wind speed (divided by 67)\n",
    "casual | count of casual users\n",
    "registered | count of registered users\n",
    "cnt | count of total rental bikes including casual and registered  "
   ]
  },
  {
   "cell_type": "markdown",
   "id": "unauthorized-basis",
   "metadata": {},
   "source": [
    "### Examining the File Contents and the Metadata\n",
    "\n",
    "Run the cell below to print out the first 5 lines of the `bikeshare.txt` file."
   ]
  },
  {
   "cell_type": "code",
   "execution_count": 2,
   "id": "integrated-prerequisite",
   "metadata": {},
   "outputs": [],
   "source": [
    "from itertools import islice\n",
    "\n",
    "lines_to_print = 5\n",
    "with open('bikeshare.txt', \"r\") as f:\n",
    "    for line in list(islice(f, lines_to_print)):\n",
    "        print(line, end = \"\")"
   ]
  },
  {
   "cell_type": "markdown",
   "id": "ambient-madrid",
   "metadata": {
    "deletable": false,
    "editable": false
   },
   "source": [
    "**Question 1.1.** Identify the file format. Then choose an item from the list below and assign its corresponding number to the variable `q1_1`.\n",
    "\n",
    "<!--\n",
    "BEGIN QUESTION\n",
    "name: q1_1\n",
    "manual: false\n",
    "-->\n",
    "\n",
    "1. Excel spreadsheet\n",
    "2. CSV (comma-separated values)\n",
    "3. TSV (tab-separated values)"
   ]
  },
  {
   "cell_type": "code",
   "execution_count": 3,
   "id": "brief-steel",
   "metadata": {},
   "outputs": [],
   "source": [
    "q1_1 = ..."
   ]
  },
  {
   "cell_type": "code",
   "execution_count": null,
   "id": "bacterial-weekend",
   "metadata": {
    "deletable": false,
    "editable": false
   },
   "outputs": [],
   "source": [
    "grader.check(\"q1_1\")"
   ]
  },
  {
   "cell_type": "markdown",
   "id": "processed-campaign",
   "metadata": {},
   "source": [
    "Metadata is \"data that provides information about other data\". In other words, it is \"data about data\". [[1]](https://en.wikipedia.org/wiki/Metadata)\n",
    "\n",
    "Run the cell below to view some metadata about the `bikeshare.txt` file."
   ]
  },
  {
   "cell_type": "code",
   "execution_count": 6,
   "id": "stunning-topic",
   "metadata": {},
   "outputs": [],
   "source": [
    "size = os.stat(\"bikeshare.txt\").st_size\n",
    "line_count = len(open(\"bikeshare.txt\").readlines(  ))\n",
    "\n",
    "print(\"Size:\", size, \"bytes\")\n",
    "print(\"Line Count:\", line_count, \"lines\")"
   ]
  },
  {
   "cell_type": "markdown",
   "id": "adverse-worth",
   "metadata": {
    "deletable": false,
    "editable": false
   },
   "source": [
    "**Question 1.2.** Identify the size and the line count. Then put the values in a list and assign it the variable `q1_2`. \n",
    "\n",
    "<!--\n",
    "BEGIN QUESTION\n",
    "name: q1_2\n",
    "manual: false\n",
    "-->"
   ]
  },
  {
   "cell_type": "code",
   "execution_count": 7,
   "id": "proof-sixth",
   "metadata": {},
   "outputs": [],
   "source": [
    "q1_2 = ..."
   ]
  },
  {
   "cell_type": "code",
   "execution_count": null,
   "id": "jewish-programmer",
   "metadata": {
    "deletable": false,
    "editable": false
   },
   "outputs": [],
   "source": [
    "grader.check(\"q1_2\")"
   ]
  },
  {
   "cell_type": "markdown",
   "id": "guilty-mills",
   "metadata": {},
   "source": [
    "### Loading the Data\n",
    "\n",
    "Run the cell below to load the dataset as DataFrame."
   ]
  },
  {
   "cell_type": "code",
   "execution_count": 15,
   "id": "challenging-simulation",
   "metadata": {},
   "outputs": [],
   "source": [
    "bike = pd.read_csv('bikeshare.txt')\n",
    "bike.head()"
   ]
  },
  {
   "cell_type": "markdown",
   "id": "compressed-grenada",
   "metadata": {},
   "source": [
    "Below, we show the shape of the file. You should see that the size of the DataFrame matches the number of lines in the file, minus the header row."
   ]
  },
  {
   "cell_type": "code",
   "execution_count": 16,
   "id": "failing-economy",
   "metadata": {},
   "outputs": [],
   "source": [
    "bike.shape"
   ]
  },
  {
   "cell_type": "markdown",
   "id": "acquired-india",
   "metadata": {},
   "source": [
    "---\n",
    "## 2. Data Preparation\n",
    "A few of the variables that are numeric/integer actually encode categorical data. These include `holiday`, `weekday`, `workingday`, and `weathersit`. In the following question, we will convert these four variables to strings specifying the categories. In particular, we will use 3-letter labels (`Sun`, `Mon`, `Tue`, `Wed`, `Thu`, `Fri`, and `Sat`) for `weekday`.For `holiday` and `workingday`,  simply use `yes`/`no`.\n",
    "\n",
    "In this exercise we will **mutate** the data frame (i.e. **overwriting the corresponding variables in the data frame.**). However, our notebook will effectively document this in-place data transformation for future readers. Make sure to leave the underlying datafile `bikeshare.txt` unmodified."
   ]
  },
  {
   "cell_type": "markdown",
   "id": "comfortable-orientation",
   "metadata": {
    "deletable": false,
    "editable": false
   },
   "source": [
    "**Question 2.1.** Decode the `holiday`, `weekday`, `workingday`, and `weathersit` fields:\n",
    "\n",
    "- `holiday`: Convert to `yes` and `no`.  \n",
    "\n",
    "- `weekday`: Mutate the `'weekday'` column to use the 3-letter label (`'Sun'`, `'Mon'`, `'Tue'`, `'Wed'`, `'Thu'`, `'Fri'`, and `'Sat'`) instead of its current numerical values. Assume `0` corresponds to `Sun`, `1` to `Mon` and so on.\n",
    "\n",
    "- `workingday`: Convert to `yes` and `no`.\n",
    "\n",
    "- `weathersit`: You should replace each value with one of `Clear`, `Mist`, `Light`, or `Heavy`.\n",
    "\n",
    "**Note:** If you want to revert changes, run the cell that reloads the data file.\n",
    "\n",
    "**Hint:**  One approach is to use the [replace](https://pandas.pydata.org/pandas-docs/stable/reference/api/pandas.DataFrame.replace.html) method of the pandas DataFrame class. We haven't discussed how to do this so you'll need to look at the documentation. The most concise way is with the approach described in the documentation as [\"nested-dictonaries\"](https://www.geeksforgeeks.org/python-nested-dictionary/), though there are many possible solutions.\n",
    "\n",
    "<!--\n",
    "BEGIN QUESTION\n",
    "name: q2_1\n",
    "manual: false\n",
    "-->"
   ]
  },
  {
   "cell_type": "code",
   "execution_count": 17,
   "id": "happy-precipitation",
   "metadata": {},
   "outputs": [],
   "source": [
    "bike = ...\n",
    "bike.head()"
   ]
  },
  {
   "cell_type": "code",
   "execution_count": null,
   "id": "random-broadway",
   "metadata": {
    "deletable": false,
    "editable": false
   },
   "outputs": [],
   "source": [
    "grader.check(\"q2_1\")"
   ]
  },
  {
   "cell_type": "markdown",
   "id": "mysterious-search",
   "metadata": {
    "deletable": false,
    "editable": false
   },
   "source": [
    "**Question 2.2** How many entries in the data correspond to holidays?  Set the variable `num_holidays` to this value.\n",
    "\n",
    "<!--\n",
    "BEGIN QUESTION\n",
    "name: q2_2\n",
    "manual: false\n",
    "-->"
   ]
  },
  {
   "cell_type": "code",
   "execution_count": 23,
   "id": "parental-worker",
   "metadata": {},
   "outputs": [],
   "source": [
    "num_holidays = ..."
   ]
  },
  {
   "cell_type": "code",
   "execution_count": null,
   "id": "lesbian-bandwidth",
   "metadata": {
    "deletable": false,
    "editable": false
   },
   "outputs": [],
   "source": [
    "grader.check(\"q2_2\")"
   ]
  },
  {
   "cell_type": "markdown",
   "id": "arranged-teach",
   "metadata": {
    "deletable": false,
    "editable": false
   },
   "source": [
    "The granularity of this data is at the hourly level.  However, for some of the analysis we will also want to compute daily statistics.  In particular, in the next few questions we will be analyzing the daily number of registered and unregistered users.\n",
    "\n",
    "**Question 2.3.** Construct a data frame named `daily_counts` indexed by `dteday` with the following columns:\n",
    "\n",
    "* `casual`: total number of casual riders for each day\n",
    "* `registered`: total number of registered riders for each day\n",
    "* `workingday`: whether that day is a working day or not (`yes` or `no`)\n",
    "\n",
    "**Hint**: Consider using the `groupby` and `agg` functions. For `agg`, you can check the [documentation](https://pandas.pydata.org/pandas-docs/stable/generated/pandas.core.groupby.DataFrameGroupBy.agg.html) for examples on applying different aggregations per column. If you use the capability to do different aggregations by column, you can do this task with a single call to `groupby` and `agg`. For the `workingday` column we can take any of the values since we are grouping by the day, thus the value will be the same within each group. It may also be helpful to take a look at the `first` or `last` aggregation functions.\n",
    "\n",
    "<!--\n",
    "BEGIN QUESTION\n",
    "name: q2_3\n",
    "manual: false\n",
    "-->"
   ]
  },
  {
   "cell_type": "code",
   "execution_count": 25,
   "id": "serious-replacement",
   "metadata": {},
   "outputs": [],
   "source": [
    "daily_counts = ...\n",
    "daily_counts.head()"
   ]
  },
  {
   "cell_type": "code",
   "execution_count": null,
   "id": "powered-scholar",
   "metadata": {
    "deletable": false,
    "editable": false
   },
   "outputs": [],
   "source": [
    "grader.check(\"q2_3\")"
   ]
  },
  {
   "cell_type": "markdown",
   "id": "boolean-glucose",
   "metadata": {
    "deletable": false,
    "editable": false
   },
   "source": [
    "<!-- BEGIN QUESTION -->\n",
    "\n",
    "---\n",
    "## 3. Exploring the Distribution of Riders\n",
    "\n",
    "Let's begin by comparing the distribution of the daily counts of casual and registered riders.\n",
    "\n",
    "**Question 3.1.** Use the `sns.histplot` function to create a plot that overlays the distribution of the daily counts of `casual` and `registered` users. \n",
    "\n",
    "- The temporal granularity of the records should be daily counts, which you should have after completing **Question 2.3.**.\n",
    "\n",
    "- After creating the plot, look at it and make sure you understand what the plot is actually telling us (e.g on a given day, the most likely number of registered riders we expect is ~4000, but it could be anywhere from nearly 0 to 7000).\n",
    "\n",
    "**Note:** Click [here](https://seaborn.pydata.org/generated/seaborn.histplot.html) to read the `sns.histplot` documentation.\n",
    "\n",
    "**Hint:** `matplotlib.pyplot` has methods to customize the features of a plot. For example, the syntax for the `.xlabel`, `.ylabel`, `.title`, and `.legend` methods can be found in the [documentation](https://matplotlib.org/stable/index.html).\n",
    "\n",
    "<img src='casual_v_registered.png' width = \"800px\" class = \"center\"/>\n",
    "\n",
    "<!--\n",
    "BEGIN QUESTION\n",
    "name: q3_1\n",
    "manual: true\n",
    "-->"
   ]
  },
  {
   "cell_type": "code",
   "execution_count": 38,
   "id": "minus-slide",
   "metadata": {},
   "outputs": [],
   "source": [
    "sns.histplot(...)\n",
    "plt.title(...)\n",
    "plt.legend(...)\n",
    "plt.xlabel(...)\n",
    "plt.ylabel(...);"
   ]
  },
  {
   "cell_type": "markdown",
   "id": "accessory-daisy",
   "metadata": {
    "deletable": false,
    "editable": false
   },
   "source": [
    "<!-- END QUESTION -->\n",
    "\n",
    "<!-- BEGIN QUESTION -->\n",
    "\n",
    "**Question 3.2.** In the cell below, descibe the differences you notice between the histograms for casual and registered riders. Consider each of the following concepts:\n",
    "\n",
    "- mode \n",
    "\n",
    "- symmetry\n",
    "\n",
    "- skewness \n",
    "\n",
    "- spread of the distributions \n",
    "\n",
    "<!--\n",
    "BEGIN QUESTION\n",
    "name: q3_2\n",
    "manual: true\n",
    "-->"
   ]
  },
  {
   "cell_type": "markdown",
   "id": "clean-compatibility",
   "metadata": {},
   "source": [
    "_Type your answer here, replacing this text._"
   ]
  },
  {
   "cell_type": "markdown",
   "id": "attractive-radiation",
   "metadata": {},
   "source": [
    "<!-- END QUESTION -->\n",
    "\n",
    "\n",
    "\n",
    "## Ethical Considerations\n",
    "\n",
    "City planners, transportation agencies, and policy makers have started to collaborate with bike sharing companies in order to reduce congestion and transportation costs. Recently city planners and policy makers have also been trying to make transportation more equitable. \n",
    "\n",
    "Equity in transportation includes: finding ways to make transportation more accessible to people in all neighborhoods within a given region, making the costs of transportation affordable to people across all income levels, and assessing how inclusive transportation systems are over time. Data about city residents may shed light on how to better assess transportation cost and equity impacts on transportation users. \n",
    "\n",
    "Keeping this in mind, answer the following two question on the nature of the data, their possible shortcomings, and ethical considerations associated with how we as data scientists use, manipulate, and share this data."
   ]
  },
  {
   "cell_type": "markdown",
   "id": "complimentary-cleveland",
   "metadata": {
    "deletable": false,
    "editable": false
   },
   "source": [
    "<!-- BEGIN QUESTION -->\n",
    "\n",
    "**Question 3.3.** In addition to the type of rider (casual vs. registered) and the overall count of each, what other kinds of demographic data would be useful (e.g. identity, neighborhood, monetary expenses, etc.)? \n",
    "\n",
    "<!--\n",
    "BEGIN QUESTION\n",
    "name: q3_3\n",
    "manual: true\n",
    "-->"
   ]
  },
  {
   "cell_type": "markdown",
   "id": "fundamental-bookmark",
   "metadata": {},
   "source": [
    "_Type your answer here, replacing this text._"
   ]
  },
  {
   "cell_type": "markdown",
   "id": "adult-health",
   "metadata": {
    "deletable": false,
    "editable": false
   },
   "source": [
    "<!-- END QUESTION -->\n",
    "\n",
    "<!-- BEGIN QUESTION -->\n",
    "\n",
    "**Question 3.4.** What is an example of a privacy or consent issue that could occur when accessing the demographic data you mentioned in the previous question.\n",
    "\n",
    "<!--\n",
    "BEGIN QUESTION\n",
    "name: q3_4\n",
    "manual: true\n",
    "-->"
   ]
  },
  {
   "cell_type": "markdown",
   "id": "equipped-turkish",
   "metadata": {},
   "source": [
    "_Type your answer here, replacing this text._"
   ]
  },
  {
   "cell_type": "markdown",
   "id": "published-flush",
   "metadata": {
    "deletable": false,
    "editable": false
   },
   "source": [
    "<!-- END QUESTION -->\n",
    "\n",
    "<!-- BEGIN QUESTION -->\n",
    "\n",
    "**Question 3.5.** The histogram plots do not show us how the counts for registered and casual riders **vary together**. Use [`sns.lmplot`](https://seaborn.pydata.org/generated/seaborn.lmplot.html) to make a scatter plot to investigate the relationship between casual and registered counts. This time, let's use the `bike` DataFrame to plot hourly counts instead of daily counts.\n",
    "\n",
    "The `lmplot` function will also try to draw a linear regression line (just as you saw in Foundations of Data Science). Color the points in the scatterplot according to whether or not the day is working day. There are many points in the scatter plot so make them small to help reduce overplotting. Also make sure to set `fit_reg = True` to generate the linear regression line. You can also set the `height` parameter if you want to adjust the size of the `lmplot`.\n",
    "\n",
    "<img src='casual_registered_working_nonworking.png' width = \"800px\" class = \"center\"/>\n",
    "\n",
    "**Hints:**\n",
    "- Click [here](https://seaborn.pydata.org/generated/seaborn.lmplot.html) to view the documentation on `sns.lmplot`.\n",
    "\n",
    "- Checkout this helpful [tutorial on `lmplot`](https://seaborn.pydata.org/tutorial/regression.html).\n",
    "\n",
    "- You will need to set `x`, `y`, and `hue` and the `scatter_kws`.\n",
    "\n",
    "\n",
    "\n",
    "<!--\n",
    "BEGIN QUESTION\n",
    "name: q3_5\n",
    "manual: true\n",
    "-->"
   ]
  },
  {
   "cell_type": "code",
   "execution_count": 39,
   "id": "adverse-papua",
   "metadata": {},
   "outputs": [],
   "source": [
    "sns.lmplot(...)\n",
    "plt.title(...)\n",
    "plt.legend(...)\n",
    "plt.xlabel(...)\n",
    "plt.ylabel(...);"
   ]
  },
  {
   "cell_type": "markdown",
   "id": "offensive-interstate",
   "metadata": {
    "deletable": false,
    "editable": false
   },
   "source": [
    "<!-- END QUESTION -->\n",
    "\n",
    "<!-- BEGIN QUESTION -->\n",
    "\n",
    "**Question 3.6.** What does this scatterplot seem to reveal about the relationship (if any) between casual and registered riders and whether or not the day is on the weekend?\n",
    "\n",
    "<!--\n",
    "BEGIN QUESTION\n",
    "name: q3_6\n",
    "manual: true\n",
    "-->"
   ]
  },
  {
   "cell_type": "markdown",
   "id": "compressed-nurse",
   "metadata": {},
   "source": [
    "_Type your answer here, replacing this text._"
   ]
  },
  {
   "cell_type": "markdown",
   "id": "unlikely-pakistan",
   "metadata": {
    "deletable": false,
    "editable": false
   },
   "source": [
    "<!-- END QUESTION -->\n",
    "\n",
    "<!-- BEGIN QUESTION -->\n",
    "\n",
    "**Question 3.7.** Let's examine the behavior of riders by plotting the average number of riders for each hour of the day over the **entire dataset**, stratified by rider type. Your plot should look like the following:\n",
    "\n",
    "<img src=\"diurnal_bikes.png\" width = \"800px\" class = \"center\"/>\n",
    "\n",
    "<!--\n",
    "BEGIN QUESTION\n",
    "name: q3_7\n",
    "manual: true\n",
    "-->"
   ]
  },
  {
   "cell_type": "code",
   "execution_count": 41,
   "id": "lovely-summer",
   "metadata": {},
   "outputs": [],
   "source": [
    "...\n",
    "plt.title(...)\n",
    "plt.legend(...)\n",
    "plt.xlabel(...)\n",
    "plt.ylabel(...);"
   ]
  },
  {
   "cell_type": "markdown",
   "id": "fabulous-enzyme",
   "metadata": {
    "deletable": false,
    "editable": false
   },
   "source": [
    "<!-- END QUESTION -->\n",
    "\n",
    "<!-- BEGIN QUESTION -->\n",
    "\n",
    "**Question 3.8.** What do you observe about the bike use of the different categories of riders from the plot? When does each group have the most use? How does the bike use change throughoout the day?\n",
    "\n",
    "<!--\n",
    "BEGIN QUESTION\n",
    "name: q3_8\n",
    "manual: true\n",
    "-->"
   ]
  },
  {
   "cell_type": "markdown",
   "id": "featured-citizenship",
   "metadata": {},
   "source": [
    "_Type your answer here, replacing this text._"
   ]
  },
  {
   "cell_type": "markdown",
   "id": "regional-threat",
   "metadata": {
    "deletable": false,
    "editable": false
   },
   "source": [
    "<!-- END QUESTION -->\n",
    "\n",
    "<!-- BEGIN QUESTION -->\n",
    "\n",
    "**Question 3.9.** What can you say about the meaning of the peaks in the registered riders' distribution?\n",
    "\n",
    "<!--\n",
    "BEGIN QUESTION\n",
    "name: q3_9\n",
    "manual: true\n",
    "-->"
   ]
  },
  {
   "cell_type": "markdown",
   "id": "sharp-stand",
   "metadata": {},
   "source": [
    "_Type your answer here, replacing this text._"
   ]
  },
  {
   "cell_type": "markdown",
   "id": "breathing-tuesday",
   "metadata": {
    "deletable": false,
    "editable": false
   },
   "source": [
    "<!-- END QUESTION -->\n",
    "\n",
    "<!-- BEGIN QUESTION -->\n",
    "\n",
    "---\n",
    "## 4. Exploring Ride Sharing and Weather\n",
    "\n",
    "Now let's examine how the weather is affecting riders' behaviors. First let's look at how the proportion of casual riders changes as weather changes.\n",
    "\n",
    "**Question 4.1.** Create a new column `prop_casual` in the `bike` DataFrame representing the proportion of casual riders out of all riders.\n",
    "\n",
    "<!--\n",
    "BEGIN QUESTION\n",
    "name: q4_1\n",
    "manual: true\n",
    "-->"
   ]
  },
  {
   "cell_type": "code",
   "execution_count": 43,
   "id": "genuine-explosion",
   "metadata": {},
   "outputs": [],
   "source": [
    "..."
   ]
  },
  {
   "cell_type": "code",
   "execution_count": null,
   "id": "alternative-bullet",
   "metadata": {
    "deletable": false,
    "editable": false
   },
   "outputs": [],
   "source": [
    "grader.check(\"q4_1\")"
   ]
  },
  {
   "cell_type": "markdown",
   "id": "alpine-remark",
   "metadata": {},
   "source": [
    "<!-- END QUESTION -->\n",
    "\n",
    "\n",
    "\n",
    "In order to examine the relationship between proportion of casual riders and temperature, we can create a scatterplot using `sns.scatterplot`. We can even use color/hue to encode the information about day of week. \n",
    "\n",
    "**Example 4.1.** Run the cell below, and you'll see we end up with a big mess that is impossible to interpret."
   ]
  },
  {
   "cell_type": "code",
   "execution_count": 53,
   "id": "medium-empty",
   "metadata": {},
   "outputs": [],
   "source": [
    "sns.scatterplot(data = bike, x = 'temp', y = 'prop_casual', hue = 'weekday');"
   ]
  },
  {
   "cell_type": "markdown",
   "id": "adapted-alfred",
   "metadata": {},
   "source": [
    "We could attempt linear regression using `sns.lmplot`, which may hint at some relationships between temperature and proportion of casual riders.  \n",
    "\n",
    "**Example 4.2.** Run the cell below, and you'll see that the plot is still fairly unconvincing."
   ]
  },
  {
   "cell_type": "code",
   "execution_count": 52,
   "id": "interstate-colony",
   "metadata": {},
   "outputs": [],
   "source": [
    "sns.lmplot(data = bike, x = 'temp', y = 'prop_casual', hue = 'weekday', scatter_kws = {'s': 20}, height = 10, legend = False)\n",
    "plt.title('Proportion of Casual Riders by Weekday', fontsize = 15)\n",
    "plt.legend(title = 'Weekday', prop = {'size':15});\n",
    "plt.xlabel('Temperature', fontsize = 15)\n",
    "plt.ylabel('Proportion of Casual Riders', fontsize = 15);"
   ]
  },
  {
   "cell_type": "markdown",
   "id": "commercial-background",
   "metadata": {},
   "source": [
    "A better approach is to use **local smoothing**. The basic idea is that for each $x-$value, we compute some sort of representative $y-$value that captures the data close to that $x-$value. \n",
    "\n",
    "One technique for local smoothing is \"Locally Weighted Scatterplot Smoothing\" or LOWESS. Watch the video below to see an explaination of the basic idea behind LOWESS."
   ]
  },
  {
   "cell_type": "code",
   "execution_count": 54,
   "id": "aggressive-spank",
   "metadata": {},
   "outputs": [],
   "source": [
    "from IPython.display import YouTubeVideo\n",
    "\n",
    "# fitting a curve to data using lowess or loess\n",
    "# channel: StatQuest\n",
    "# video credit: Josh Starmer\n",
    "\n",
    "YouTubeVideo('Vf7oJ6z2LCc', width = 750, height = 315)"
   ]
  },
  {
   "cell_type": "markdown",
   "id": "israeli-headset",
   "metadata": {},
   "source": [
    "**Example 4.3.** An example of what this technique looks like is below. The red curve shown is a smoothed version of the scatterplot."
   ]
  },
  {
   "cell_type": "code",
   "execution_count": 55,
   "id": "alternate-candy",
   "metadata": {},
   "outputs": [],
   "source": [
    "from statsmodels.nonparametric.smoothers_lowess import lowess\n",
    "\n",
    "# make noisy data\n",
    "xobs = np.sort(np.random.rand(100)*4.0 - 2)\n",
    "yobs = np.exp(xobs) + np.random.randn(100) / 2.0\n",
    "sns.scatterplot(x = xobs, y = yobs, label = 'Raw Data')\n",
    "\n",
    "# predict 'smoothed' valued for observations\n",
    "ysmooth = lowess(yobs, xobs, return_sorted = False)\n",
    "sns.lineplot(x = xobs, y = ysmooth, label = 'Smoothed Estimator', color = 'r')\n",
    "plt.legend(prop = {'size':15});"
   ]
  },
  {
   "cell_type": "markdown",
   "id": "continent-crossing",
   "metadata": {},
   "source": [
    "In our case with the bike ridership data, we want 7 curves, one for each day of the week. The $x-$axis will be the temperature and the $y-$axis will be a smoothed version of the proportion of casual riders. We want to make a graph that looks like the one below.\n",
    "\n",
    "<img src=\"curveplot_temp_prop_casual.png\" width = \"800px\" class = \"center\"/>\n",
    "\n",
    "The first thing we need to do is add a column to the the `bike` DataFrame."
   ]
  },
  {
   "cell_type": "markdown",
   "id": "bridal-battlefield",
   "metadata": {
    "deletable": false,
    "editable": false
   },
   "source": [
    "**Question 4.2.** Add a column to the `bike` DataFrame named `fatemp` that is the temperature in Fahrenheit.\n",
    "\n",
    "**Hint:** Refer back to the top of this homework notebook for a description of the temperature field to know how to convert to Fahrenheit. By default, the temperature field ranges from 0.0 to 1.0.\n",
    "\n",
    "<!--\n",
    "BEGIN QUESTION\n",
    "name: q4_2\n",
    "manual: false\n",
    "-->"
   ]
  },
  {
   "cell_type": "code",
   "execution_count": 56,
   "id": "noticed-singles",
   "metadata": {},
   "outputs": [],
   "source": [
    "..."
   ]
  },
  {
   "cell_type": "code",
   "execution_count": null,
   "id": "behavioral-barcelona",
   "metadata": {
    "deletable": false,
    "editable": false
   },
   "outputs": [],
   "source": [
    "grader.check(\"q4_2\")"
   ]
  },
  {
   "cell_type": "markdown",
   "id": "authorized-communication",
   "metadata": {
    "deletable": false,
    "editable": false
   },
   "source": [
    "<!-- BEGIN QUESTION -->\n",
    "\n",
    "**Question 4.3.** Next, we will use [`statsmodels.nonparametric.smoothers_lowess.lowess`](http://www.statsmodels.org/dev/generated/statsmodels.nonparametric.smoothers_lowess.lowess.html) just like in **Example 4.3.**. However, unlike **Example 4.3.** above, we will plot **only** the lowess curve. Do not plot the actual data, which would result in overplotting (i.e. when the data or labels in a data visualization overlap, making it difficult to see individual data points in a data visualization).\n",
    "\n",
    "**Hints:** \n",
    "- The `lowess` function expects $y$ coordinate first, then $x$ coordinate.\n",
    "\n",
    "- Start by just plotting only one day of the week to make sure you can do that first.\n",
    "\n",
    "- For this problem, the simplest way to plot all 7 curves is to use a loop.\n",
    "\n",
    "<!--\n",
    "BEGIN QUESTION\n",
    "name: q4_3\n",
    "manual: true\n",
    "-->"
   ]
  },
  {
   "cell_type": "code",
   "execution_count": 60,
   "id": "ordinary-north",
   "metadata": {},
   "outputs": [],
   "source": [
    "...\n",
    "plt.title(...)\n",
    "plt.legend(...)\n",
    "plt.xlabel(...)\n",
    "plt.ylabel(...);"
   ]
  },
  {
   "cell_type": "markdown",
   "id": "hairy-extraction",
   "metadata": {
    "deletable": false,
    "editable": false
   },
   "source": [
    "<!-- END QUESTION -->\n",
    "\n",
    "<!-- BEGIN QUESTION -->\n",
    "\n",
    "**Question 4.4.** How is `prop_casual` changing as a function of temperature?\n",
    "\n",
    "<!--\n",
    "BEGIN QUESTION\n",
    "name: q4_4\n",
    "manual: true\n",
    "-->"
   ]
  },
  {
   "cell_type": "markdown",
   "id": "optical-driver",
   "metadata": {},
   "source": [
    "_Type your answer here, replacing this text._"
   ]
  },
  {
   "cell_type": "markdown",
   "id": "imported-circular",
   "metadata": {
    "deletable": false,
    "editable": false
   },
   "source": [
    "<!-- END QUESTION -->\n",
    "\n",
    "<!-- BEGIN QUESTION -->\n",
    "\n",
    "**Question 4.5.** Which, if any, of the curves are approximately linear? Also, mention anything else you notice that is interesting?\n",
    "\n",
    "<!--\n",
    "BEGIN QUESTION\n",
    "name: q4_5\n",
    "manual: true\n",
    "-->"
   ]
  },
  {
   "cell_type": "markdown",
   "id": "effective-aviation",
   "metadata": {},
   "source": [
    "_Type your answer here, replacing this text._"
   ]
  },
  {
   "cell_type": "markdown",
   "id": "arctic-edgar",
   "metadata": {},
   "source": [
    "<!-- END QUESTION -->\n",
    "\n",
    "\n",
    "\n",
    "----\n",
    "## 5. Conclusion\n",
    "\n",
    "A map of areas with bike sharing systems and other forms of micro mobility as of 2018 is provided, below (Source: [NACTO](https://nacto.org/shared-micromobility-2018/)).\n",
    "\n",
    "<img src=\"Shared-Micromobility-Across-the-U.S..png\" width=\"700px\" />\n",
    "\n",
    "\n",
    "\n",
    "**Question 5.1.** Based on the data you have explored (distribution of orders, daily patterns, weather, additional data/information you have seen), do you think bike sharing should be realistically scaled across major cities in the the US in order to alleviate congestion, provide geographic connectivity, reduce carbon emissions, and promote inclusion among communities? Why or why not? \n",
    "\n",
    "Write 3 - 4 paragraphs to answer **Question 5.1.**. Be sure to use the data and the visualisations you made to support your conclusions."
   ]
  },
  {
   "cell_type": "code",
   "execution_count": null,
   "id": "loved-browser",
   "metadata": {},
   "outputs": [],
   "source": []
  },
  {
   "cell_type": "markdown",
   "id": "decimal-heater",
   "metadata": {
    "deletable": false,
    "editable": false
   },
   "source": [
    "---\n",
    "\n",
    "To double-check your work, the cell below will rerun all of the autograder tests."
   ]
  },
  {
   "cell_type": "code",
   "execution_count": null,
   "id": "better-device",
   "metadata": {
    "deletable": false,
    "editable": false
   },
   "outputs": [],
   "source": [
    "grader.check_all()"
   ]
  },
  {
   "cell_type": "markdown",
   "id": "disabled-legislature",
   "metadata": {
    "deletable": false,
    "editable": false
   },
   "source": [
    "## Submission\n",
    "\n",
    "Make sure you have run all cells in your notebook in order before running the cell below, so that all images/graphs appear in the output. The cell below will generate a zip file for you to submit. **Please save before exporting!**\n",
    "\n",
    "When done exporting, download the .zip file by `SHIFT`-clicking on the file name and selecting **Save Link As**. Or, find the .zip file in the left side of the screen and right-click and select **Download**. You'll submit this .zip file for the assignment in Canvas to Gradescope for grading."
   ]
  },
  {
   "cell_type": "code",
   "execution_count": null,
   "id": "criminal-startup",
   "metadata": {
    "deletable": false,
    "editable": false
   },
   "outputs": [],
   "source": [
    "# Save your notebook first, then run this cell to export your submission.\n",
    "grader.export(pdf=False)"
   ]
  },
  {
   "cell_type": "markdown",
   "id": "hired-sight",
   "metadata": {},
   "source": [
    " "
   ]
  }
 ],
 "metadata": {
  "kernelspec": {
   "display_name": "Python 3",
   "language": "python",
   "name": "python3"
  },
  "language_info": {
   "codemirror_mode": {
    "name": "ipython",
    "version": 3
   },
   "file_extension": ".py",
   "mimetype": "text/x-python",
   "name": "python",
   "nbconvert_exporter": "python",
   "pygments_lexer": "ipython3",
   "version": "3.8.6"
  }
 },
 "nbformat": 4,
 "nbformat_minor": 5
}
