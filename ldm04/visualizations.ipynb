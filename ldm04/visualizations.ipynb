{
 "cells": [
  {
   "cell_type": "markdown",
   "id": "spectacular-williams",
   "metadata": {},
   "source": [
    "# Visualizations"
   ]
  },
  {
   "cell_type": "code",
   "execution_count": 1,
   "id": "binary-capital",
   "metadata": {},
   "outputs": [],
   "source": [
    "import pandas as pd\n",
    "import numpy as np\n",
    "import matplotlib.pyplot as plt\n",
    "import seaborn as sns\n",
    "\n",
    "import matplotlib\n",
    "%matplotlib inline\n",
    "plt.style.use('fivethirtyeight')\n",
    "sns.set()"
   ]
  },
  {
   "cell_type": "markdown",
   "id": "timely-keeping",
   "metadata": {},
   "source": [
    "# 0. Anscombe's Quartet\n",
    "\n",
    "Perhaps the most elegant demonstration of the dangers of summary statistics is Anscombe’s Quartet. It’s a group of four data sets that appear to be similar when using typical summary statistics, yet tell four different stories when graphed. Each data set consists of eleven $(x,y)$ pairs. \n",
    "\n",
    "Run the cell below to load the data sets."
   ]
  },
  {
   "cell_type": "code",
   "execution_count": 2,
   "id": "statistical-highway",
   "metadata": {},
   "outputs": [
    {
     "data": {
      "text/html": [
       "<div>\n",
       "<style scoped>\n",
       "    .dataframe tbody tr th:only-of-type {\n",
       "        vertical-align: middle;\n",
       "    }\n",
       "\n",
       "    .dataframe tbody tr th {\n",
       "        vertical-align: top;\n",
       "    }\n",
       "\n",
       "    .dataframe thead th {\n",
       "        text-align: right;\n",
       "    }\n",
       "</style>\n",
       "<table border=\"1\" class=\"dataframe\">\n",
       "  <thead>\n",
       "    <tr style=\"text-align: right;\">\n",
       "      <th></th>\n",
       "      <th>id</th>\n",
       "      <th>dataset</th>\n",
       "      <th>x</th>\n",
       "      <th>y</th>\n",
       "    </tr>\n",
       "  </thead>\n",
       "  <tbody>\n",
       "    <tr>\n",
       "      <th>0</th>\n",
       "      <td>0</td>\n",
       "      <td>I</td>\n",
       "      <td>10.0</td>\n",
       "      <td>8.04</td>\n",
       "    </tr>\n",
       "    <tr>\n",
       "      <th>1</th>\n",
       "      <td>1</td>\n",
       "      <td>I</td>\n",
       "      <td>8.0</td>\n",
       "      <td>6.95</td>\n",
       "    </tr>\n",
       "    <tr>\n",
       "      <th>2</th>\n",
       "      <td>2</td>\n",
       "      <td>I</td>\n",
       "      <td>13.0</td>\n",
       "      <td>7.58</td>\n",
       "    </tr>\n",
       "    <tr>\n",
       "      <th>3</th>\n",
       "      <td>3</td>\n",
       "      <td>I</td>\n",
       "      <td>9.0</td>\n",
       "      <td>8.81</td>\n",
       "    </tr>\n",
       "    <tr>\n",
       "      <th>4</th>\n",
       "      <td>4</td>\n",
       "      <td>I</td>\n",
       "      <td>11.0</td>\n",
       "      <td>8.33</td>\n",
       "    </tr>\n",
       "    <tr>\n",
       "      <th>5</th>\n",
       "      <td>5</td>\n",
       "      <td>I</td>\n",
       "      <td>14.0</td>\n",
       "      <td>9.96</td>\n",
       "    </tr>\n",
       "    <tr>\n",
       "      <th>6</th>\n",
       "      <td>6</td>\n",
       "      <td>I</td>\n",
       "      <td>6.0</td>\n",
       "      <td>7.24</td>\n",
       "    </tr>\n",
       "    <tr>\n",
       "      <th>7</th>\n",
       "      <td>7</td>\n",
       "      <td>I</td>\n",
       "      <td>4.0</td>\n",
       "      <td>4.26</td>\n",
       "    </tr>\n",
       "    <tr>\n",
       "      <th>8</th>\n",
       "      <td>8</td>\n",
       "      <td>I</td>\n",
       "      <td>12.0</td>\n",
       "      <td>10.84</td>\n",
       "    </tr>\n",
       "    <tr>\n",
       "      <th>9</th>\n",
       "      <td>9</td>\n",
       "      <td>I</td>\n",
       "      <td>7.0</td>\n",
       "      <td>4.82</td>\n",
       "    </tr>\n",
       "    <tr>\n",
       "      <th>10</th>\n",
       "      <td>10</td>\n",
       "      <td>I</td>\n",
       "      <td>5.0</td>\n",
       "      <td>5.68</td>\n",
       "    </tr>\n",
       "    <tr>\n",
       "      <th>11</th>\n",
       "      <td>11</td>\n",
       "      <td>II</td>\n",
       "      <td>10.0</td>\n",
       "      <td>9.14</td>\n",
       "    </tr>\n",
       "    <tr>\n",
       "      <th>12</th>\n",
       "      <td>12</td>\n",
       "      <td>II</td>\n",
       "      <td>8.0</td>\n",
       "      <td>8.14</td>\n",
       "    </tr>\n",
       "    <tr>\n",
       "      <th>13</th>\n",
       "      <td>13</td>\n",
       "      <td>II</td>\n",
       "      <td>13.0</td>\n",
       "      <td>8.74</td>\n",
       "    </tr>\n",
       "    <tr>\n",
       "      <th>14</th>\n",
       "      <td>14</td>\n",
       "      <td>II</td>\n",
       "      <td>9.0</td>\n",
       "      <td>8.77</td>\n",
       "    </tr>\n",
       "    <tr>\n",
       "      <th>15</th>\n",
       "      <td>15</td>\n",
       "      <td>II</td>\n",
       "      <td>11.0</td>\n",
       "      <td>9.26</td>\n",
       "    </tr>\n",
       "    <tr>\n",
       "      <th>16</th>\n",
       "      <td>16</td>\n",
       "      <td>II</td>\n",
       "      <td>14.0</td>\n",
       "      <td>8.10</td>\n",
       "    </tr>\n",
       "    <tr>\n",
       "      <th>17</th>\n",
       "      <td>17</td>\n",
       "      <td>II</td>\n",
       "      <td>6.0</td>\n",
       "      <td>6.13</td>\n",
       "    </tr>\n",
       "    <tr>\n",
       "      <th>18</th>\n",
       "      <td>18</td>\n",
       "      <td>II</td>\n",
       "      <td>4.0</td>\n",
       "      <td>3.10</td>\n",
       "    </tr>\n",
       "    <tr>\n",
       "      <th>19</th>\n",
       "      <td>19</td>\n",
       "      <td>II</td>\n",
       "      <td>12.0</td>\n",
       "      <td>9.13</td>\n",
       "    </tr>\n",
       "    <tr>\n",
       "      <th>20</th>\n",
       "      <td>20</td>\n",
       "      <td>II</td>\n",
       "      <td>7.0</td>\n",
       "      <td>7.26</td>\n",
       "    </tr>\n",
       "    <tr>\n",
       "      <th>21</th>\n",
       "      <td>21</td>\n",
       "      <td>II</td>\n",
       "      <td>5.0</td>\n",
       "      <td>4.74</td>\n",
       "    </tr>\n",
       "    <tr>\n",
       "      <th>22</th>\n",
       "      <td>22</td>\n",
       "      <td>III</td>\n",
       "      <td>10.0</td>\n",
       "      <td>7.46</td>\n",
       "    </tr>\n",
       "    <tr>\n",
       "      <th>23</th>\n",
       "      <td>23</td>\n",
       "      <td>III</td>\n",
       "      <td>8.0</td>\n",
       "      <td>6.77</td>\n",
       "    </tr>\n",
       "    <tr>\n",
       "      <th>24</th>\n",
       "      <td>24</td>\n",
       "      <td>III</td>\n",
       "      <td>13.0</td>\n",
       "      <td>12.74</td>\n",
       "    </tr>\n",
       "    <tr>\n",
       "      <th>25</th>\n",
       "      <td>25</td>\n",
       "      <td>III</td>\n",
       "      <td>9.0</td>\n",
       "      <td>7.11</td>\n",
       "    </tr>\n",
       "    <tr>\n",
       "      <th>26</th>\n",
       "      <td>26</td>\n",
       "      <td>III</td>\n",
       "      <td>11.0</td>\n",
       "      <td>7.81</td>\n",
       "    </tr>\n",
       "    <tr>\n",
       "      <th>27</th>\n",
       "      <td>27</td>\n",
       "      <td>III</td>\n",
       "      <td>14.0</td>\n",
       "      <td>8.84</td>\n",
       "    </tr>\n",
       "    <tr>\n",
       "      <th>28</th>\n",
       "      <td>28</td>\n",
       "      <td>III</td>\n",
       "      <td>6.0</td>\n",
       "      <td>6.08</td>\n",
       "    </tr>\n",
       "    <tr>\n",
       "      <th>29</th>\n",
       "      <td>29</td>\n",
       "      <td>III</td>\n",
       "      <td>4.0</td>\n",
       "      <td>5.39</td>\n",
       "    </tr>\n",
       "    <tr>\n",
       "      <th>30</th>\n",
       "      <td>30</td>\n",
       "      <td>III</td>\n",
       "      <td>12.0</td>\n",
       "      <td>8.15</td>\n",
       "    </tr>\n",
       "    <tr>\n",
       "      <th>31</th>\n",
       "      <td>31</td>\n",
       "      <td>III</td>\n",
       "      <td>7.0</td>\n",
       "      <td>6.42</td>\n",
       "    </tr>\n",
       "    <tr>\n",
       "      <th>32</th>\n",
       "      <td>32</td>\n",
       "      <td>III</td>\n",
       "      <td>5.0</td>\n",
       "      <td>5.73</td>\n",
       "    </tr>\n",
       "    <tr>\n",
       "      <th>33</th>\n",
       "      <td>33</td>\n",
       "      <td>IV</td>\n",
       "      <td>8.0</td>\n",
       "      <td>6.58</td>\n",
       "    </tr>\n",
       "    <tr>\n",
       "      <th>34</th>\n",
       "      <td>34</td>\n",
       "      <td>IV</td>\n",
       "      <td>8.0</td>\n",
       "      <td>5.76</td>\n",
       "    </tr>\n",
       "    <tr>\n",
       "      <th>35</th>\n",
       "      <td>35</td>\n",
       "      <td>IV</td>\n",
       "      <td>8.0</td>\n",
       "      <td>7.71</td>\n",
       "    </tr>\n",
       "    <tr>\n",
       "      <th>36</th>\n",
       "      <td>36</td>\n",
       "      <td>IV</td>\n",
       "      <td>8.0</td>\n",
       "      <td>8.84</td>\n",
       "    </tr>\n",
       "    <tr>\n",
       "      <th>37</th>\n",
       "      <td>37</td>\n",
       "      <td>IV</td>\n",
       "      <td>8.0</td>\n",
       "      <td>8.47</td>\n",
       "    </tr>\n",
       "    <tr>\n",
       "      <th>38</th>\n",
       "      <td>38</td>\n",
       "      <td>IV</td>\n",
       "      <td>8.0</td>\n",
       "      <td>7.04</td>\n",
       "    </tr>\n",
       "    <tr>\n",
       "      <th>39</th>\n",
       "      <td>39</td>\n",
       "      <td>IV</td>\n",
       "      <td>8.0</td>\n",
       "      <td>5.25</td>\n",
       "    </tr>\n",
       "    <tr>\n",
       "      <th>40</th>\n",
       "      <td>40</td>\n",
       "      <td>IV</td>\n",
       "      <td>19.0</td>\n",
       "      <td>12.50</td>\n",
       "    </tr>\n",
       "    <tr>\n",
       "      <th>41</th>\n",
       "      <td>41</td>\n",
       "      <td>IV</td>\n",
       "      <td>8.0</td>\n",
       "      <td>5.56</td>\n",
       "    </tr>\n",
       "    <tr>\n",
       "      <th>42</th>\n",
       "      <td>42</td>\n",
       "      <td>IV</td>\n",
       "      <td>8.0</td>\n",
       "      <td>7.91</td>\n",
       "    </tr>\n",
       "    <tr>\n",
       "      <th>43</th>\n",
       "      <td>43</td>\n",
       "      <td>IV</td>\n",
       "      <td>8.0</td>\n",
       "      <td>6.89</td>\n",
       "    </tr>\n",
       "  </tbody>\n",
       "</table>\n",
       "</div>"
      ],
      "text/plain": [
       "    id dataset     x      y\n",
       "0    0       I  10.0   8.04\n",
       "1    1       I   8.0   6.95\n",
       "2    2       I  13.0   7.58\n",
       "3    3       I   9.0   8.81\n",
       "4    4       I  11.0   8.33\n",
       "5    5       I  14.0   9.96\n",
       "6    6       I   6.0   7.24\n",
       "7    7       I   4.0   4.26\n",
       "8    8       I  12.0  10.84\n",
       "9    9       I   7.0   4.82\n",
       "10  10       I   5.0   5.68\n",
       "11  11      II  10.0   9.14\n",
       "12  12      II   8.0   8.14\n",
       "13  13      II  13.0   8.74\n",
       "14  14      II   9.0   8.77\n",
       "15  15      II  11.0   9.26\n",
       "16  16      II  14.0   8.10\n",
       "17  17      II   6.0   6.13\n",
       "18  18      II   4.0   3.10\n",
       "19  19      II  12.0   9.13\n",
       "20  20      II   7.0   7.26\n",
       "21  21      II   5.0   4.74\n",
       "22  22     III  10.0   7.46\n",
       "23  23     III   8.0   6.77\n",
       "24  24     III  13.0  12.74\n",
       "25  25     III   9.0   7.11\n",
       "26  26     III  11.0   7.81\n",
       "27  27     III  14.0   8.84\n",
       "28  28     III   6.0   6.08\n",
       "29  29     III   4.0   5.39\n",
       "30  30     III  12.0   8.15\n",
       "31  31     III   7.0   6.42\n",
       "32  32     III   5.0   5.73\n",
       "33  33      IV   8.0   6.58\n",
       "34  34      IV   8.0   5.76\n",
       "35  35      IV   8.0   7.71\n",
       "36  36      IV   8.0   8.84\n",
       "37  37      IV   8.0   8.47\n",
       "38  38      IV   8.0   7.04\n",
       "39  39      IV   8.0   5.25\n",
       "40  40      IV  19.0  12.50\n",
       "41  41      IV   8.0   5.56\n",
       "42  42      IV   8.0   7.91\n",
       "43  43      IV   8.0   6.89"
      ]
     },
     "execution_count": 2,
     "metadata": {},
     "output_type": "execute_result"
    }
   ],
   "source": [
    "anscombe = pd.read_csv(\"anscombes.csv\")\n",
    "anscombe"
   ]
  },
  {
   "cell_type": "markdown",
   "id": "wanted-manufacturer",
   "metadata": {},
   "source": [
    "The numerical summaries reveal that all the data sets are similar.\n",
    "\n",
    "- The average $x$ value is 9 for each dataset\n",
    "- The average $y$ value is 7.50 for each dataset\n",
    "- The variance for $x$ is 11 and the variance for $y$ is 4.12"
   ]
  },
  {
   "cell_type": "code",
   "execution_count": 3,
   "id": "brief-addition",
   "metadata": {},
   "outputs": [],
   "source": [
    "mean_x = []\n",
    "mean_y = []\n",
    "sd_x = []\n",
    "sd_y = []\n",
    "\n",
    "mean_x = anscombe.groupby('dataset').agg(np.mean)['x'].tolist()\n",
    "mean_y = anscombe.groupby('dataset').agg(np.mean)['y'].tolist()\n",
    "sd_x = anscombe.groupby('dataset').agg(np.std)['x'].tolist()\n",
    "sd_y = anscombe.groupby('dataset').agg(np.std)['y'].tolist()"
   ]
  },
  {
   "cell_type": "markdown",
   "id": "owned-greeting",
   "metadata": {},
   "source": [
    "- The correlation between $x$ and $y$ is 0.816 for each dataset"
   ]
  },
  {
   "cell_type": "code",
   "execution_count": null,
   "id": "mounted-cleaning",
   "metadata": {},
   "outputs": [],
   "source": [
    "corr_coef = []\n",
    "\n",
    "for i in ['I', 'II', 'III', 'IV']:\n",
    "    corr_coef.append(anscombe[anscombe.dataset == i][['x', 'y']].corr().iloc[0]['y'])"
   ]
  },
  {
   "cell_type": "markdown",
   "id": "alleged-commission",
   "metadata": {},
   "source": [
    "So far these four datasets appear to be pretty similar. But when we plot these four data sets on an $x$/$y$ coordinate plane, we get the following results:"
   ]
  },
  {
   "cell_type": "code",
   "execution_count": 5,
   "id": "disciplinary-justice",
   "metadata": {},
   "outputs": [
    {
     "data": {
      "image/png": "[encoded data removed]",
      "text/plain": [
       "<Figure size 576x576 with 4 Axes>"
      ]
     },
     "metadata": {},
     "output_type": "display_data"
    }
   ],
   "source": [
    "sns.lmplot(x = \"x\", \n",
    "           y = \"y\", \n",
    "           col = \"dataset\", \n",
    "           hue = \"dataset\", \n",
    "           data = anscombe, \n",
    "           col_wrap = 2, \n",
    "           ci = None, \n",
    "           height = 4, \n",
    "           scatter_kws = {\"s\":50, \"alpha\":1});"
   ]
  },
  {
   "cell_type": "markdown",
   "id": "hourly-behavior",
   "metadata": {},
   "source": [
    "Now we see the real relationships in the datasets start to emerge. \n",
    "\n",
    "- Dataset I consists of a set of points that appear to follow a rough linear relationship with some variance. \n",
    "\n",
    "- Dataset II fits a neat curve but doesn’t follow a linear relationship. It appears to be quadratic. \n",
    "\n",
    "- Dataset III looks like a tight linear relationship between $x$ and $y$, except for one large outlier. \n",
    "\n",
    "- Dataset IV looks like $x$ remains constant, except for one outlier as well.\n",
    "\n",
    "Computing summary statistics or staring at the data wouldn’t have told us any of these stories. Instead, it’s important to visualize the data to get a clear picture of what’s going on."
   ]
  },
  {
   "cell_type": "markdown",
   "id": "creative-connecticut",
   "metadata": {},
   "source": [
    "## 1. Bar Plots\n",
    "\n",
    "- We often use bar plots to display distributions of a (qualitative) categorical variable\n",
    "\n",
    "- Widths of the bars are meaningless"
   ]
  },
  {
   "cell_type": "code",
   "execution_count": 7,
   "id": "nasty-wayne",
   "metadata": {},
   "outputs": [
    {
     "data": {
      "text/html": [
       "<div>\n",
       "<style scoped>\n",
       "    .dataframe tbody tr th:only-of-type {\n",
       "        vertical-align: middle;\n",
       "    }\n",
       "\n",
       "    .dataframe tbody tr th {\n",
       "        vertical-align: top;\n",
       "    }\n",
       "\n",
       "    .dataframe thead th {\n",
       "        text-align: right;\n",
       "    }\n",
       "</style>\n",
       "<table border=\"1\" class=\"dataframe\">\n",
       "  <thead>\n",
       "    <tr style=\"text-align: right;\">\n",
       "      <th></th>\n",
       "      <th>Birth Weight</th>\n",
       "      <th>Gestational Days</th>\n",
       "      <th>Maternal Age</th>\n",
       "      <th>Maternal Height</th>\n",
       "      <th>Maternal Pregnancy Weight</th>\n",
       "      <th>Maternal Smoker</th>\n",
       "    </tr>\n",
       "  </thead>\n",
       "  <tbody>\n",
       "    <tr>\n",
       "      <th>0</th>\n",
       "      <td>120</td>\n",
       "      <td>284</td>\n",
       "      <td>27</td>\n",
       "      <td>62</td>\n",
       "      <td>100</td>\n",
       "      <td>False</td>\n",
       "    </tr>\n",
       "    <tr>\n",
       "      <th>1</th>\n",
       "      <td>113</td>\n",
       "      <td>282</td>\n",
       "      <td>33</td>\n",
       "      <td>64</td>\n",
       "      <td>135</td>\n",
       "      <td>False</td>\n",
       "    </tr>\n",
       "    <tr>\n",
       "      <th>2</th>\n",
       "      <td>128</td>\n",
       "      <td>279</td>\n",
       "      <td>28</td>\n",
       "      <td>64</td>\n",
       "      <td>115</td>\n",
       "      <td>True</td>\n",
       "    </tr>\n",
       "    <tr>\n",
       "      <th>3</th>\n",
       "      <td>108</td>\n",
       "      <td>282</td>\n",
       "      <td>23</td>\n",
       "      <td>67</td>\n",
       "      <td>125</td>\n",
       "      <td>True</td>\n",
       "    </tr>\n",
       "    <tr>\n",
       "      <th>4</th>\n",
       "      <td>136</td>\n",
       "      <td>286</td>\n",
       "      <td>25</td>\n",
       "      <td>62</td>\n",
       "      <td>93</td>\n",
       "      <td>False</td>\n",
       "    </tr>\n",
       "  </tbody>\n",
       "</table>\n",
       "</div>"
      ],
      "text/plain": [
       "   Birth Weight  Gestational Days  Maternal Age  Maternal Height  \\\n",
       "0           120               284            27               62   \n",
       "1           113               282            33               64   \n",
       "2           128               279            28               64   \n",
       "3           108               282            23               67   \n",
       "4           136               286            25               62   \n",
       "\n",
       "   Maternal Pregnancy Weight  Maternal Smoker  \n",
       "0                        100            False  \n",
       "1                        135            False  \n",
       "2                        115             True  \n",
       "3                        125             True  \n",
       "4                         93            False  "
      ]
     },
     "execution_count": 7,
     "metadata": {},
     "output_type": "execute_result"
    }
   ],
   "source": [
    "birth_weights = pd.read_csv('birth_weights.csv')\n",
    "birth_weights.head()"
   ]
  },
  {
   "cell_type": "code",
   "execution_count": 8,
   "id": "blond-tournament",
   "metadata": {},
   "outputs": [
    {
     "data": {
      "text/plain": [
       "False    715\n",
       "True     459\n",
       "Name: Maternal Smoker, dtype: int64"
      ]
     },
     "execution_count": 8,
     "metadata": {},
     "output_type": "execute_result"
    }
   ],
   "source": [
    "birth_weights['Maternal Smoker'].value_counts()"
   ]
  },
  {
   "cell_type": "code",
   "execution_count": 9,
   "id": "existing-night",
   "metadata": {},
   "outputs": [
    {
     "data": {
      "image/png": "[encoded data removed]",
      "text/plain": [
       "<Figure size 432x288 with 1 Axes>"
      ]
     },
     "metadata": {},
     "output_type": "display_data"
    }
   ],
   "source": [
    "birth_weights['Maternal Smoker'].value_counts().plot(kind = 'bar');"
   ]
  },
  {
   "cell_type": "code",
   "execution_count": 10,
   "id": "future-bronze",
   "metadata": {},
   "outputs": [
    {
     "data": {
      "image/png": "[encoded data removed]",
      "text/plain": [
       "<Figure size 432x288 with 1 Axes>"
      ]
     },
     "metadata": {},
     "output_type": "display_data"
    }
   ],
   "source": [
    "sns.countplot(x = birth_weights['Maternal Smoker']);"
   ]
  },
  {
   "cell_type": "markdown",
   "id": "narrative-virtue",
   "metadata": {},
   "source": [
    "- They are also used to display a (quantitative) numberical variable measured on individuals from different groups (i.e. categories)."
   ]
  },
  {
   "cell_type": "code",
   "execution_count": 11,
   "id": "graduate-finland",
   "metadata": {},
   "outputs": [
    {
     "data": {
      "image/png": "[encoded data removed]",
      "text/plain": [
       "<Figure size 432x288 with 1 Axes>"
      ]
     },
     "metadata": {},
     "output_type": "display_data"
    }
   ],
   "source": [
    "majors = ['Data Science', 'Math', 'Biology', 'Business']\n",
    "gpas = [3.35, 3.20, 2.98, 3.51]\n",
    "plt.bar(majors, gpas);"
   ]
  },
  {
   "cell_type": "code",
   "execution_count": 12,
   "id": "viral-forestry",
   "metadata": {},
   "outputs": [
    {
     "data": {
      "image/png": "[encoded data removed]",
      "text/plain": [
       "<Figure size 432x288 with 1 Axes>"
      ]
     },
     "metadata": {},
     "output_type": "display_data"
    }
   ],
   "source": [
    "sns.barplot(x = majors, y = gpas);"
   ]
  },
  {
   "cell_type": "markdown",
   "id": "academic-bangkok",
   "metadata": {},
   "source": [
    "## 2. Rug plots\n",
    "\n",
    "- Rug plots are used for visualizing a single (quantitative) numerical variable\n",
    "\n",
    "- Rug plots are granular (i.e. show us each and every value)"
   ]
  },
  {
   "cell_type": "code",
   "execution_count": 13,
   "id": "excess-particle",
   "metadata": {},
   "outputs": [
    {
     "data": {
      "text/plain": [
       "0       120\n",
       "1       113\n",
       "2       128\n",
       "3       108\n",
       "4       136\n",
       "       ... \n",
       "1169    113\n",
       "1170    128\n",
       "1171    130\n",
       "1172    125\n",
       "1173    117\n",
       "Name: Birth Weight, Length: 1174, dtype: int64"
      ]
     },
     "execution_count": 13,
     "metadata": {},
     "output_type": "execute_result"
    }
   ],
   "source": [
    "b_weights_series = birth_weights[\"Birth Weight\"]\n",
    "b_weights_series"
   ]
  },
  {
   "cell_type": "markdown",
   "id": "greenhouse-vietnamese",
   "metadata": {},
   "source": [
    "- Issues with rug plots include\n",
    "\n",
    "  - Too much detail\n",
    "\n",
    "  - Hard to see the big picture\n",
    "\n",
    "  - Overplotting"
   ]
  },
  {
   "cell_type": "code",
   "execution_count": 15,
   "id": "bridal-confirmation",
   "metadata": {},
   "outputs": [
    {
     "data": {
      "image/png": "[encoded data removed]",
      "text/plain": [
       "<Figure size 432x288 with 1 Axes>"
      ]
     },
     "metadata": {},
     "output_type": "display_data"
    }
   ],
   "source": [
    "sns.rugplot(b_weights_series, height = .1);"
   ]
  },
  {
   "cell_type": "markdown",
   "id": "scenic-freeware",
   "metadata": {},
   "source": [
    "## 3. Histograms\n",
    "\n",
    "- A histogram can be thought of as a smooth version of a rug plot\n",
    "\n",
    "- Lose granularity, but gain interpretability\n",
    "\n",
    "- The horizontal axis is dvivided into bins\n",
    "\n",
    "- Bin width has meaning\n",
    "\n",
    "  - Area corresponds to proportion\n",
    "  \n",
    "  - Proportion in bin = Width of bin $\\times$ Height of bar\n",
    "  \n",
    "  - Units of height - proportion per unit on the $x-$axis"
   ]
  },
  {
   "cell_type": "code",
   "execution_count": 16,
   "id": "international-gardening",
   "metadata": {},
   "outputs": [
    {
     "data": {
      "image/png": "[encoded data removed]",
      "text/plain": [
       "<Figure size 432x288 with 1 Axes>"
      ]
     },
     "metadata": {},
     "output_type": "display_data"
    }
   ],
   "source": [
    "plt.hist(b_weights_series);"
   ]
  },
  {
   "cell_type": "code",
   "execution_count": 17,
   "id": "unlimited-lighting",
   "metadata": {},
   "outputs": [
    {
     "data": {
      "image/png": "[encoded data removed]",
      "text/plain": [
       "<Figure size 432x288 with 1 Axes>"
      ]
     },
     "metadata": {},
     "output_type": "display_data"
    }
   ],
   "source": [
    "b_weights_bins = range(50, 200, 5)\n",
    "plt.hist(b_weights_series, bins = b_weights_bins);"
   ]
  },
  {
   "cell_type": "code",
   "execution_count": 18,
   "id": "structured-declaration",
   "metadata": {},
   "outputs": [
    {
     "data": {
      "image/png": "[encoded data removed]",
      "text/plain": [
       "<Figure size 432x288 with 1 Axes>"
      ]
     },
     "metadata": {},
     "output_type": "display_data"
    }
   ],
   "source": [
    "plt.hist(b_weights_series, density = True, bins = b_weights_bins);"
   ]
  },
  {
   "cell_type": "code",
   "execution_count": null,
   "id": "faced-palestine",
   "metadata": {},
   "outputs": [],
   "source": [
    "plt.hist(b_weights_series, bins = np.arange(50, 200, 20), density = True);"
   ]
  },
  {
   "cell_type": "markdown",
   "id": "committed-truck",
   "metadata": {},
   "source": [
    "## 4. Density Curves\n",
    "\n",
    "- A density curve can be thought of as a smoothed out histogram\n",
    "\n",
    "- A general idea of the distribution"
   ]
  },
  {
   "cell_type": "code",
   "execution_count": 23,
   "id": "gentle-stand",
   "metadata": {},
   "outputs": [
    {
     "data": {
      "image/png": "[encoded data removed]",
      "text/plain": [
       "<Figure size 432x288 with 1 Axes>"
      ]
     },
     "metadata": {},
     "output_type": "display_data"
    }
   ],
   "source": [
    "sns.displot(x = b_weights_series, kind = 'kde');"
   ]
  },
  {
   "cell_type": "code",
   "execution_count": 25,
   "id": "combined-application",
   "metadata": {},
   "outputs": [
    {
     "data": {
      "image/png": "[encoded data removed]",
      "text/plain": [
       "<Figure size 432x288 with 1 Axes>"
      ]
     },
     "metadata": {},
     "output_type": "display_data"
    }
   ],
   "source": [
    "sns.displot(x = b_weights_series, kind = \"hist\");"
   ]
  },
  {
   "cell_type": "code",
   "execution_count": 21,
   "id": "southern-politics",
   "metadata": {},
   "outputs": [
    {
     "data": {
      "image/png": "[encoded data removed]",
      "text/plain": [
       "<Figure size 360x360 with 1 Axes>"
      ]
     },
     "metadata": {},
     "output_type": "display_data"
    }
   ],
   "source": [
    "sns.displot(x = b_weights_series, kind = \"kde\", rug = True);"
   ]
  },
  {
   "cell_type": "markdown",
   "id": "quick-darkness",
   "metadata": {},
   "source": [
    "Overlaid histograms and density curve."
   ]
  },
  {
   "cell_type": "code",
   "execution_count": 26,
   "id": "available-easter",
   "metadata": {},
   "outputs": [
    {
     "data": {
      "image/png": "[encoded data removed]",
      "text/plain": [
       "<Figure size 471.3x360 with 1 Axes>"
      ]
     },
     "metadata": {},
     "output_type": "display_data"
    }
   ],
   "source": [
    "sns.displot(data = birth_weights, x = 'Birth Weight', bins = b_weights_bins, hue = 'Maternal Smoker');"
   ]
  },
  {
   "cell_type": "markdown",
   "id": "thick-columbia",
   "metadata": {},
   "source": [
    "## 6. Describing Distributions\n",
    "\n",
    "Terminology used to describe distributions\n",
    "\n",
    "- Mode\n",
    "\n",
    "  - Local or global maximum\n",
    "\n",
    "\n",
    "- Skewness\n",
    "\n",
    "  - Skewed left or skewed right\n",
    "  \n",
    "  - If a distribution has a long left tail, we call it skewed left\n",
    "  \n",
    "  - If a distribution has a long right tail, we call it skewed right\n",
    "  \n",
    "  \n",
    " <img src='skewness.png' width = \"500px\" height = \"300px\" class = \"center\"/>\n",
    "\n",
    "\n",
    "- Tail\n",
    "\n",
    "  - Left tail or right tailed\n",
    "  \n",
    "  - If both tails are roughly equal then the distribuyion can be symmetric\n",
    "  \n",
    "- Outliers\n",
    "\n",
    "  - Later"
   ]
  },
  {
   "cell_type": "markdown",
   "id": "aggressive-constant",
   "metadata": {},
   "source": [
    "## 6. Quartiles\n",
    "\n",
    "<img src='quartiles.png' width = \"400px\" height = \"200px\" class = \"center\"/>\n",
    "\n",
    "For a quantitative variable\n",
    "\n",
    "- First or lower quartile is the 25$^{\\text{th}}$ percentile\n",
    "\n",
    "- Second quartile is the 50$^{\\text{th}}$ percentile (median)\n",
    "\n",
    "- Third or upper quartile is the 75$^{\\text{th}}$ percentile\n",
    "\n",
    "- The interval from the firat quartile to the third quartile contains the middle 50% of the the data\n",
    "\n",
    "- The Interquartile Range (IQR) measures the spread of the data \n",
    "\n",
    "  - IQR = third quartile $-$ first quartile\n",
    "  \n",
    "  \n",
    "## 7. Box Plots\n",
    "\n",
    "<img src='boxplot.png' width = \"500px\" height = \"300px\" class = \"center\"/>\n",
    "\n",
    "- Box plots summarize several of the characteristics of a numerical distribution\n",
    "\n",
    "  - Lower quartile\n",
    "  \n",
    "  - Median\n",
    "  \n",
    "  - Upper quartile\n",
    "  \n",
    "  - Whiskers\n",
    "  \n",
    "    - Placed at the lower quartile $-$ 1.5 $\\times$ IQR and at the upper quartile $+$ 1.5 $\\times$ IQR\n",
    "    \n",
    "  - Outliers\n",
    "  \n",
    "    - Data that is further than 1.5 $\\times$ IQR from the extreme quartiles (arbitrary)"
   ]
  },
  {
   "cell_type": "code",
   "execution_count": 27,
   "id": "duplicate-behalf",
   "metadata": {},
   "outputs": [
    {
     "data": {
      "image/png": "[encoded data removed]",
      "text/plain": [
       "<Figure size 432x288 with 1 Axes>"
      ]
     },
     "metadata": {},
     "output_type": "display_data"
    }
   ],
   "source": [
    "sns.boxplot(x = b_weights_series);"
   ]
  },
  {
   "cell_type": "code",
   "execution_count": null,
   "id": "returning-shopping",
   "metadata": {},
   "outputs": [],
   "source": [
    "q1 = np.percentile(b_weights_series, 25)\n",
    "q2 = np.percentile(b_weights_series, 50)\n",
    "q3 = np.percentile(b_weights_series, 75)\n",
    "iqr = q3 - q1\n",
    "whisk1 = q1 - 1.5*iqr\n",
    "whisk2 = q3 + 1.5*iqr\n",
    "\n",
    "whisk1, q1, q2, q3, whisk2"
   ]
  },
  {
   "cell_type": "code",
   "execution_count": null,
   "id": "japanese-accreditation",
   "metadata": {},
   "outputs": [],
   "source": []
  }
 ],
 "metadata": {
  "kernelspec": {
   "display_name": "Python 3",
   "language": "python",
   "name": "python3"
  },
  "language_info": {
   "codemirror_mode": {
    "name": "ipython",
    "version": 3
   },
   "file_extension": ".py",
   "mimetype": "text/x-python",
   "name": "python",
   "nbconvert_exporter": "python",
   "pygments_lexer": "ipython3",
   "version": "3.8.6"
  }
 },
 "nbformat": 4,
 "nbformat_minor": 5
}
