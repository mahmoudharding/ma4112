{
 "cells": [
  {
   "cell_type": "code",
   "execution_count": null,
   "id": "intimate-shopping",
   "metadata": {
    "deletable": false,
    "editable": false
   },
   "outputs": [],
   "source": [
    "# Initialize Otter\n",
    "import otter\n",
    "grader = otter.Notebook(\"ga01.ipynb\")"
   ]
  },
  {
   "cell_type": "markdown",
   "id": "opposite-corpus",
   "metadata": {},
   "source": [
    "# Graded Assignment 01: Anscome's Quartet\n",
    "\n",
    "In this graded assignment we will investigate a collection of four data set's named the Anscome's Quartet. This assignment is meant to emphasize the importance visualization in the data cycle lifecyle, specifically during explorartory data analysis. \n",
    "\n",
    "To receive credit for a graded assignment, answer all questions correctly and submit before the deadline.\n",
    "\n",
    "**Due Date:** Thursday, March 11, 2021 at 5:00 p.m.\n",
    "\n",
    "**Collaboration Policy:** Data science is a collaborative activity. While you may talk with others about the labs, we ask that you **write your solutions individually**. If you do discuss the assignments with others **please include their names below** (it's a good way to learn your classmates' names).\n",
    "\n",
    "**Collaborators:** \n",
    "\n",
    "List collaborators here.\n",
    "\n",
    "**Notes:** \n",
    "\n",
    "- In this notebook a custom figure size has been configured. Click [here](https://matplotlib.org/users/customizing.html) to read the documentation about customizing aspects of matplotlib.\n",
    "\n",
    "Run the cell below."
   ]
  },
  {
   "cell_type": "code",
   "execution_count": 1,
   "id": "ambient-method",
   "metadata": {},
   "outputs": [],
   "source": [
    "import pandas as pd\n",
    "import numpy as np\n",
    "import matplotlib.pyplot as plt\n",
    "import seaborn as sns\n",
    "\n",
    "import matplotlib\n",
    "%matplotlib inline\n",
    "plt.style.use('fivethirtyeight')\n",
    "sns.set()"
   ]
  },
  {
   "cell_type": "markdown",
   "id": "northern-temple",
   "metadata": {},
   "source": [
    "# 1. Anscome's Quartet\n",
    "\n",
    "This is a dataset created by statistician Francis Anscome in 1973. Anscome's Quartet is a collection of four datasets (labelled I, II, III, and IV) each consisting of 11 pairs of $x$ and $y$ coordinates.\n",
    "\n",
    "Run the cell below."
   ]
  },
  {
   "cell_type": "code",
   "execution_count": 2,
   "id": "treated-encounter",
   "metadata": {},
   "outputs": [],
   "source": [
    "anscombe = pd.read_csv(\"anscombes.csv\")\n",
    "anscombe"
   ]
  },
  {
   "cell_type": "markdown",
   "id": "allied-sydney",
   "metadata": {
    "deletable": false,
    "editable": false
   },
   "source": [
    "**Question 1.1.** Find the mean and standard deviation for $x$ and $y$ in each data set (i.e. data sets I, II, III, and IV). Assign the value of each calculation to the appropiate variable and store it as a list.\n",
    "\n",
    "For example, if the `mean_x =[mean xs in data set I, mean xs in data set II, mean xs in data set III, mean xs in data set IV]`.\n",
    "\n",
    "| Name        | Description                                         |\n",
    "| ----------- | --------------------------------------------------- |\n",
    "| mean_x      | The mean of the $x$s in each data set               |\n",
    "| mean_y      | The mean of the $y$s in each data set               |\n",
    "| sd_x        | The standard deviation of the $x$s in each data set |\n",
    "| sd_y        | The standard deviation of the $y$s in each data set |\n",
    "\n",
    "<!--\n",
    "BEGIN QUESTION\n",
    "name: q1_1\n",
    "manual: false\n",
    "-->"
   ]
  },
  {
   "cell_type": "code",
   "execution_count": 25,
   "id": "tropical-consolidation",
   "metadata": {},
   "outputs": [],
   "source": [
    "mean_x = []\n",
    "mean_y = []\n",
    "sd_x = []\n",
    "sd_y = []\n",
    "\n",
    "..."
   ]
  },
  {
   "cell_type": "code",
   "execution_count": null,
   "id": "essential-farmer",
   "metadata": {
    "deletable": false,
    "editable": false
   },
   "outputs": [],
   "source": [
    "grader.check(\"q1_1\")"
   ]
  },
  {
   "cell_type": "markdown",
   "id": "motivated-principle",
   "metadata": {
    "deletable": false,
    "editable": false
   },
   "source": [
    "**Question 1.2.** Find the correlation coefficient for each data set. Assign the value of each calculation to the appropiate variable and store it as a list.\n",
    "\n",
    "For example, if the `corr_coef = [corr coef data set I, corr coef data set II, corr coef data set III, corr coef data set IV]`.\n",
    "\n",
    "<!--\n",
    "BEGIN QUESTION\n",
    "name: q1_2\n",
    "manual: false\n",
    "-->\n",
    "\n",
    "**Note:** The `.corr()` function in `pandas` will compute pairwise correlation of columns, excluding `NA` values. To read the documentation on the `.corr()` function click [here](https://pandas.pydata.org/pandas-docs/stable/reference/api/pandas.DataFrame.corr.html)."
   ]
  },
  {
   "cell_type": "code",
   "execution_count": 15,
   "id": "impressive-bangladesh",
   "metadata": {},
   "outputs": [],
   "source": [
    "corr_coef = []\n",
    "\n",
    "..."
   ]
  },
  {
   "cell_type": "code",
   "execution_count": null,
   "id": "single-motel",
   "metadata": {
    "deletable": false,
    "editable": false
   },
   "outputs": [],
   "source": [
    "grader.check(\"q1_2\")"
   ]
  },
  {
   "cell_type": "markdown",
   "id": "loose-chemistry",
   "metadata": {},
   "source": [
    "Run the cell below to make a seperate scatter plot each data set."
   ]
  },
  {
   "cell_type": "code",
   "execution_count": 19,
   "id": "optional-addition",
   "metadata": {},
   "outputs": [],
   "source": [
    "sns.lmplot(x = \"x\", y = \"y\", col = \"dataset\", hue = \"dataset\", data = anscombe, col_wrap  =2, ci = None, height = 4, scatter_kws={\"s\": 50, \"alpha\": 1});"
   ]
  },
  {
   "cell_type": "markdown",
   "id": "southern-envelope",
   "metadata": {
    "deletable": false,
    "editable": false
   },
   "source": [
    "<!-- BEGIN QUESTION -->\n",
    "\n",
    "**Question 1.3.** Write 3-4 sentences describing what you observed from the numerical summaries (i.e. mean, standard deviation, and correlation coefficient) and what you observed in each of the scatter plots. In other words, do you think that the numerical summaries accuratley reflect what is in the scatter plots?\n",
    "\n",
    "<!--\n",
    "BEGIN QUESTION\n",
    "name: q1_4\n",
    "manual: true\n",
    "-->"
   ]
  },
  {
   "cell_type": "markdown",
   "id": "formed-integral",
   "metadata": {},
   "source": [
    "_Type your answer here, replacing this text._"
   ]
  },
  {
   "cell_type": "markdown",
   "id": "operational-findings",
   "metadata": {
    "deletable": false,
    "editable": false
   },
   "source": [
    "<!-- END QUESTION -->"
   ]
  },
  {
   "cell_type": "code",
   "execution_count": null,
   "id": "numerical-bride",
   "metadata": {},
   "outputs": [],
   "source": []
  },
  {
   "cell_type": "markdown",
   "id": "dying-reynolds",
   "metadata": {
    "deletable": false,
    "editable": false
   },
   "source": [
    "---\n",
    "\n",
    "To double-check your work, the cell below will rerun all of the autograder tests."
   ]
  },
  {
   "cell_type": "code",
   "execution_count": null,
   "id": "present-suggestion",
   "metadata": {
    "deletable": false,
    "editable": false
   },
   "outputs": [],
   "source": [
    "grader.check_all()"
   ]
  },
  {
   "cell_type": "markdown",
   "id": "tired-explanation",
   "metadata": {
    "deletable": false,
    "editable": false
   },
   "source": [
    "## Submission\n",
    "\n",
    "Make sure you have run all cells in your notebook in order before running the cell below, so that all images/graphs appear in the output. The cell below will generate a zip file for you to submit. **Please save before exporting!**\n",
    "\n",
    "When done exporting, download the .zip file by `SHIFT`-clicking on the file name and selecting **Save Link As**. Or, find the .zip file in the left side of the screen and right-click and select **Download**. You'll submit this .zip file for the assignment in Canvas to Gradescope for grading."
   ]
  },
  {
   "cell_type": "code",
   "execution_count": null,
   "id": "protecting-vintage",
   "metadata": {
    "deletable": false,
    "editable": false
   },
   "outputs": [],
   "source": [
    "# Save your notebook first, then run this cell to export your submission.\n",
    "grader.export(pdf=False)"
   ]
  },
  {
   "cell_type": "markdown",
   "id": "opponent-playback",
   "metadata": {},
   "source": [
    " "
   ]
  }
 ],
 "metadata": {
  "kernelspec": {
   "display_name": "Python 3",
   "language": "python",
   "name": "python3"
  },
  "language_info": {
   "codemirror_mode": {
    "name": "ipython",
    "version": 3
   },
   "file_extension": ".py",
   "mimetype": "text/x-python",
   "name": "python",
   "nbconvert_exporter": "python",
   "pygments_lexer": "ipython3",
   "version": "3.8.6"
  }
 },
 "nbformat": 4,
 "nbformat_minor": 5
}
