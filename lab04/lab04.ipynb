{
 "cells": [
  {
   "cell_type": "code",
   "execution_count": null,
   "id": "brown-deployment",
   "metadata": {
    "deletable": false,
    "editable": false
   },
   "outputs": [],
   "source": [
    "# Initialize Otter\n",
    "import otter\n",
    "grader = otter.Notebook(\"lab04.ipynb\")"
   ]
  },
  {
   "cell_type": "markdown",
   "id": "fourth-moore",
   "metadata": {},
   "source": [
    "# Lab 04: Pandas Continued\n",
    "\n",
    "In this lab we will continue discussion of [Pandas](https://pandas.pydata.org/) and you will learn about:\n",
    "\n",
    "* Grouping dataframes\n",
    "* Merging dataframes\n",
    "\n",
    "To receive credit for a lab, answer all questions correctly and submit before the deadline.\n",
    "\n",
    "**Due Date:** Wednesday, February 24, 2021 at 7:00 p.m.\n",
    "\n",
    "**Collaboration Policy:** Data science is a collaborative activity. While you may talk with others about the labs, we ask that you **write your solutions individually**. If you do discuss the assignments with others **please include their names below** (it's a good way to learn your classmates' names).\n",
    "\n",
    "**Collaborators:** \n",
    "\n",
    "List collaborators here.\n",
    "\n",
    "**Note:** In this notebook a custom figure size has been configured. Click [here](https://matplotlib.org/users/customizing.html) to read the documentation about customizing aspects of matplotlib.\n",
    "\n",
    "Run the cell below."
   ]
  },
  {
   "cell_type": "code",
   "execution_count": 113,
   "id": "powered-cancellation",
   "metadata": {},
   "outputs": [],
   "source": [
    "import pandas as pd\n",
    "import numpy as np\n",
    "\n",
    "import otter\n",
    "grader = otter.Notebook()"
   ]
  },
  {
   "cell_type": "markdown",
   "id": "brutal-circular",
   "metadata": {},
   "source": [
    "Read in the `baby_names.csv` as a dataframe named `baby_names`."
   ]
  },
  {
   "cell_type": "code",
   "execution_count": 114,
   "id": "broken-saskatchewan",
   "metadata": {},
   "outputs": [],
   "source": [
    "baby_names = pd.read_csv('baby_names.csv', index_col = 0)"
   ]
  },
  {
   "cell_type": "markdown",
   "id": "yellow-shipping",
   "metadata": {
    "deletable": false,
    "editable": false
   },
   "source": [
    "**Question 1.1.** Create a dataframe named `nc` that only contains the names from North Carolina. \n",
    "\n",
    "<!--\n",
    "BEGIN QUESTION\n",
    "name: q1_1\n",
    "manual: false\n",
    "-->"
   ]
  },
  {
   "cell_type": "code",
   "execution_count": 119,
   "id": "lesbian-dragon",
   "metadata": {},
   "outputs": [],
   "source": [
    "nc = ...\n",
    "nc "
   ]
  },
  {
   "cell_type": "code",
   "execution_count": null,
   "id": "written-elizabeth",
   "metadata": {
    "deletable": false,
    "editable": false
   },
   "outputs": [],
   "source": [
    "grader.check(\"q1_1\")"
   ]
  },
  {
   "cell_type": "markdown",
   "id": "civic-atlantic",
   "metadata": {
    "deletable": false,
    "editable": false
   },
   "source": [
    "To count the number of instances of each unique value in a `Series`, we can use the `value_counts()` [method](https://pandas.pydata.org/pandas-docs/stable/generated/pandas.Series.value_counts.html) as `df[\"col_name\"].value_counts()`. \n",
    "\n",
    "**Question 1.2.** Count the number of different names for each Year in `NC` (North Carolina) from the `nc` DataFrame created in **Question 1.1.**.\n",
    "\n",
    "**Note:** We are not computing the number of babies but instead the number of names (rows in the table) for each year.\n",
    "\n",
    "<!--\n",
    "BEGIN QUESTION\n",
    "name: q1_2\n",
    "manual: false\n",
    "-->"
   ]
  },
  {
   "cell_type": "code",
   "execution_count": 121,
   "id": "satisfactory-indicator",
   "metadata": {},
   "outputs": [],
   "source": [
    "num_of_names_per_year = ...\n",
    "num_of_names_per_year"
   ]
  },
  {
   "cell_type": "code",
   "execution_count": null,
   "id": "naked-tract",
   "metadata": {
    "deletable": false,
    "editable": false
   },
   "outputs": [],
   "source": [
    "grader.check(\"q1_2\")"
   ]
  },
  {
   "cell_type": "markdown",
   "id": "disabled-saturn",
   "metadata": {
    "deletable": false,
    "editable": false
   },
   "source": [
    "**Question 1.3.** Count the number of different names for each gender in `NC`.\n",
    "\n",
    "<!--\n",
    "BEGIN QUESTION\n",
    "name: q1_3\n",
    "manual: false\n",
    "-->"
   ]
  },
  {
   "cell_type": "code",
   "execution_count": 126,
   "id": "leading-river",
   "metadata": {},
   "outputs": [],
   "source": [
    "num_of_names_per_gender = ...\n",
    "num_of_names_per_gender"
   ]
  },
  {
   "cell_type": "code",
   "execution_count": null,
   "id": "negative-defense",
   "metadata": {
    "deletable": false,
    "editable": false
   },
   "outputs": [],
   "source": [
    "grader.check(\"q1_3\")"
   ]
  },
  {
   "cell_type": "markdown",
   "id": "optional-morris",
   "metadata": {},
   "source": [
    "## 2. Groupby\n",
    "\n",
    "Before we jump into using the [`groupby`](https://pandas.pydata.org/pandas-docs/stable/reference/api/pandas.DataFrame.groupby.html) function in Pandas, let's recap how grouping works in general for tabular data through a guided set of questions based on a small toy dataset of movies and genres. \n",
    "\n",
    "**Note:** If you want to see a visual of how grouping of data works, here is a link to an animation [Groupby Animation](http://www.ds100.org/sp18/assets/lectures/lec03/03-groupby_and_pivot.pdf)\n",
    "\n",
    "**Problem Setting:** In the summer of 2018, there were a lot of good and bad movies that came out. Below is a dataframe with 5 columns: name of the movie as a `string`, the genre of the movie as a `string`, the first name of the director of the movie as a `string`, the average rating out of 10 on Rotten Tomatoes as an `integer`, and the total gross revenue made by the movie as an `integer`. The point of these guided questions (parts a and b) below is to understand how grouping of data works in general, **not** how grouping works in code. We will worry about how grouping works in Pandas in 7c, which will follow.\n",
    "\n",
    "Below is the `movies` dataframe we are using, imported from the `movies.csv` file.\n",
    "\n",
    "Run the cell below."
   ]
  },
  {
   "cell_type": "code",
   "execution_count": 131,
   "id": "desirable-ceramic",
   "metadata": {},
   "outputs": [],
   "source": [
    "movies = pd.read_csv('movies.csv')\n",
    "movies"
   ]
  },
  {
   "cell_type": "markdown",
   "id": "collective-request",
   "metadata": {
    "deletable": false,
    "editable": false
   },
   "source": [
    "<!-- BEGIN QUESTION -->\n",
    "\n",
    "If we grouped the `movies` dataframe above by `genre`, how many groups would be in the output and what would be the groups? \n",
    "\n",
    "**Question 2.1.**  Assign `num_groups` to the number of groups created (hard-code) and fill in `genre_list` as a list containing the names of genres as strings that represent the groups.\n",
    "\n",
    "<!--\n",
    "BEGIN QUESTION\n",
    "name: q2_1\n",
    "manual: true\n",
    "-->"
   ]
  },
  {
   "cell_type": "code",
   "execution_count": 133,
   "id": "handed-eligibility",
   "metadata": {},
   "outputs": [],
   "source": [
    "num_groups = ...\n",
    "genre_list = ..."
   ]
  },
  {
   "cell_type": "code",
   "execution_count": null,
   "id": "stupid-regard",
   "metadata": {
    "deletable": false,
    "editable": false
   },
   "outputs": [],
   "source": [
    "grader.check(\"q2_1\")"
   ]
  },
  {
   "cell_type": "markdown",
   "id": "palestinian-worship",
   "metadata": {
    "deletable": false,
    "editable": false
   },
   "source": [
    "<!-- END QUESTION -->\n",
    "\n",
    "**Question 2.2.** Whenever we group tabular data, it is usually the case that we need to aggregate values from the ungrouped column(s). If we were to group the `movies` dataframe above by `genre`, which column(s) in the `movies` dataframe would it make sense to aggregate if we were interested in finding how well each genre did in the eyes of people? Fill in `agg_cols` with the column name(s) as a list.\n",
    "\n",
    "<!--\n",
    "BEGIN QUESTION\n",
    "name: q2_2\n",
    "manual: false\n",
    "-->"
   ]
  },
  {
   "cell_type": "code",
   "execution_count": 136,
   "id": "fifth-ethnic",
   "metadata": {},
   "outputs": [],
   "source": [
    "agg_cols = ...\n",
    "agg_cols"
   ]
  },
  {
   "cell_type": "code",
   "execution_count": null,
   "id": "other-breed",
   "metadata": {
    "deletable": false,
    "editable": false
   },
   "outputs": [],
   "source": [
    "grader.check(\"q2_2\")"
   ]
  },
  {
   "cell_type": "markdown",
   "id": "alleged-threshold",
   "metadata": {},
   "source": [
    "Now, let's see `groupby` in action, instead of keeping everything abstract. To aggregate data in Pandas, we use the `.groupby()` [function](https://pandas.pydata.org/pandas-docs/stable/generated/pandas.DataFrame.groupby.html). \n",
    "\n",
    "The code below will group the `movies` dataframe by `genre` and find the average revenue and rating for each genre.\n",
    "\n",
    "Run the cell below."
   ]
  },
  {
   "cell_type": "code",
   "execution_count": 139,
   "id": "accredited-coalition",
   "metadata": {},
   "outputs": [],
   "source": [
    "movies.loc[:, ['genre', 'rating', 'revenue']].groupby('genre').mean()"
   ]
  },
  {
   "cell_type": "markdown",
   "id": "virtual-feedback",
   "metadata": {
    "deletable": false,
    "editable": false
   },
   "source": [
    "**Question 2.3.** Let's move back to baby names and specifically, the `nc` dataframe. Find the sum of `Count` for each `Name` in the `nc` table. You should use `df.groupby(\"col_name\").sum()` and your result should be a Pandas Series.\n",
    "\n",
    "**Note:** In this question we are now computing the number of registered babies with a given name.\n",
    "\n",
    "<!--\n",
    "BEGIN QUESTION\n",
    "name: q2_3\n",
    "manual: false\n",
    "-->"
   ]
  },
  {
   "cell_type": "code",
   "execution_count": 140,
   "id": "imposed-influence",
   "metadata": {},
   "outputs": [],
   "source": [
    "count_for_names = ...\n",
    "count_for_names"
   ]
  },
  {
   "cell_type": "code",
   "execution_count": null,
   "id": "intermediate-hungary",
   "metadata": {
    "deletable": false,
    "editable": false
   },
   "outputs": [],
   "source": [
    "grader.check(\"q2_3\")"
   ]
  },
  {
   "cell_type": "markdown",
   "id": "racial-amendment",
   "metadata": {
    "deletable": false,
    "editable": false
   },
   "source": [
    "**Question 2.4.** Find the sum of `Count`, in descending order, for each female name after year 2000 (`>2000`) in North Carolina. Your result should be a Pandas Series.\n",
    "\n",
    "<!--\n",
    "BEGIN QUESTION\n",
    "name: q2_4\n",
    "manual: false\n",
    "-->"
   ]
  },
  {
   "cell_type": "code",
   "execution_count": 145,
   "id": "cultural-profit",
   "metadata": {},
   "outputs": [],
   "source": [
    "...\n",
    "nc_female_name_count"
   ]
  },
  {
   "cell_type": "code",
   "execution_count": null,
   "id": "certain-trinidad",
   "metadata": {
    "deletable": false,
    "editable": false
   },
   "outputs": [],
   "source": [
    "grader.check(\"q2_4\")"
   ]
  },
  {
   "cell_type": "markdown",
   "id": "verbal-object",
   "metadata": {
    "deletable": false,
    "editable": false
   },
   "source": [
    "<!-- BEGIN QUESTION -->\n",
    "\n",
    "## 3. Grouping Multiple Columns\n",
    "\n",
    "Let's move back to the `movies` dataframe. \n",
    "\n",
    "Which of the following lines of code \n",
    "\n",
    "1. `pd.pivot_table(data = movies, index = 'genre', columns = 'rating', values = 'revenue', aggfunc = np.mean)`\n",
    "\n",
    "2. `movies.groupby(['genre', 'rating'])['revenue'].mean()`\n",
    "\n",
    "3. `pd.pivot_table(data = movies, index = 'rating', columns = 'genre', values = 'revenue', aggfunc = np.mean)`\n",
    "\n",
    "4. `movies.groupby('revenue')[['genre', 'rating']].mean()`\n",
    "\n",
    "\n",
    "will output the following dataframe? \n",
    "\n",
    "<table border=\"1\" class=\"dataframe\">\n",
    "  <thead>\n",
    "    <tr style=\"text-align: right;\">\n",
    "      <th>rating</th>\n",
    "      <th>5</th>\n",
    "      <th>6</th>\n",
    "      <th>7</th>\n",
    "      <th>8</th>\n",
    "    </tr>\n",
    "    <tr>\n",
    "      <th>genre</th>\n",
    "      <th></th>\n",
    "      <th></th>\n",
    "      <th></th>\n",
    "      <th></th>\n",
    "    </tr>\n",
    "  </thead>\n",
    "  <tbody>\n",
    "    <tr>\n",
    "      <th>Action &amp; Adventure</th>\n",
    "      <td>208681866.0</td>\n",
    "      <td>129228350.0</td>\n",
    "      <td>318344544.0</td>\n",
    "      <td>6708147.0</td>\n",
    "    </tr>\n",
    "    <tr>\n",
    "      <th>Animation</th>\n",
    "      <td>374408165.0</td>\n",
    "      <td>NaN</td>\n",
    "      <td>NaN</td>\n",
    "      <td>NaN</td>\n",
    "    </tr>\n",
    "    <tr>\n",
    "      <th>Comedy</th>\n",
    "      <td>55383976.0</td>\n",
    "      <td>30561590.0</td>\n",
    "      <td>NaN</td>\n",
    "      <td>111705055.0</td>\n",
    "    </tr>\n",
    "    <tr>\n",
    "      <th>Drama</th>\n",
    "      <td>NaN</td>\n",
    "      <td>17146165.5</td>\n",
    "      <td>NaN</td>\n",
    "      <td>NaN</td>\n",
    "    </tr>\n",
    "    <tr>\n",
    "      <th>Horror</th>\n",
    "      <td>NaN</td>\n",
    "      <td>NaN</td>\n",
    "      <td>68765655.0</td>\n",
    "      <td>NaN</td>\n",
    "    </tr>\n",
    "    <tr>\n",
    "      <th>Science Fiction &amp; Fantasy</th>\n",
    "      <td>NaN</td>\n",
    "      <td>312674899.0</td>\n",
    "      <td>NaN</td>\n",
    "      <td>NaN</td>\n",
    "    </tr>\n",
    "  </tbody>\n",
    "</table>\n",
    "\n",
    "**Question 3.1.** Asign your answer (hard-coded) as either 1, 2, 3, or 4 to the variable `q3_1_answer`. \n",
    "\n",
    "**Note:** Recall that the arguments to `pd.pivot_table` are as follows: `data` is the input dataframe, `index` includes the values we use as rows, `columns` are the columns of the pivot table, `values` are the values in the pivot table, and `aggfunc` is the aggregation function that we use to aggregate `values`.\n",
    "\n",
    "<!--\n",
    "BEGIN QUESTION\n",
    "name: q3_1\n",
    "manual: true\n",
    "-->"
   ]
  },
  {
   "cell_type": "code",
   "execution_count": 150,
   "id": "quiet-windsor",
   "metadata": {},
   "outputs": [],
   "source": [
    "q3_1_answer = ...\n",
    "q3_1_answer"
   ]
  },
  {
   "cell_type": "markdown",
   "id": "certain-panel",
   "metadata": {
    "deletable": false,
    "editable": false
   },
   "source": [
    "<!-- END QUESTION -->\n",
    "\n",
    "## 4. Merging\n",
    "\n",
    "Time to put everything together. \n",
    "\n",
    "**Quetion 4.1.** Merge `movies` and `count_for_names` to find the number of registered baby names for each director using [`pd.merge`](https://pandas.pydata.org/pandas-docs/stable/reference/api/pandas.merge.html?highlight=merge#pandas.merge). Only include names that appear in both `movies` and `count_for_names`.\n",
    "\n",
    "**Hint:** You might need to convert the `count_for_names` series to a dataframe. To do this take a look at the `to_frame` method of a series. \n",
    "\n",
    "Your first row should look something like this:\n",
    "\n",
    "**Note**: It is ok if you have two separate columns with names instead of just one column.\n",
    "\n",
    "<table border=\"1\" class=\"dataframe\">\n",
    "  <thead>\n",
    "    <tr style=\"text-align: right;\">\n",
    "      <th></th>\n",
    "      <th>director</th>\n",
    "      <th>genre</th>\n",
    "      <th>movie</th>\n",
    "      <th>rating</th>\n",
    "      <th>revenue</th>\n",
    "      <th>Count</th>\n",
    "    </tr>\n",
    "  </thead>\n",
    "  <tbody>\n",
    "    <tr>\n",
    "      <th>0</th>\n",
    "      <td>David</td>\n",
    "      <td>Action &amp; Adventure</td>\n",
    "      <td>Deadpool 2</td>\n",
    "      <td>7</td>\n",
    "      <td>318344544</td>\n",
    "      <td>99158</td>\n",
    "    </tr>\n",
    "  </tbody>\n",
    "</table>\n",
    "</table>\n",
    "\n",
    "<!--\n",
    "BEGIN QUESTION\n",
    "name: q4_1\n",
    "manual: false\n",
    "-->"
   ]
  },
  {
   "cell_type": "code",
   "execution_count": 151,
   "id": "fixed-ordering",
   "metadata": {},
   "outputs": [],
   "source": [
    "merged_df = ...\n",
    "merged_df"
   ]
  },
  {
   "cell_type": "markdown",
   "id": "unusual-disclosure",
   "metadata": {
    "deletable": false,
    "editable": false
   },
   "source": [
    "<!-- BEGIN QUESTION -->\n",
    "\n",
    "**Question 4.2.** How many directors in the original `movies` table did not get included in the `merged_df` dataframe? Asign your answer (hard-coded) as a number in `q4_2_answer`.\n",
    "\n",
    "<!--\n",
    "BEGIN QUESTION\n",
    "name: q4_2\n",
    "manual: true\n",
    "-->"
   ]
  },
  {
   "cell_type": "code",
   "execution_count": 152,
   "id": "clear-light",
   "metadata": {},
   "outputs": [],
   "source": [
    "q4_2_answer = ...\n",
    "q4_2_answer"
   ]
  },
  {
   "cell_type": "markdown",
   "id": "modern-vacation",
   "metadata": {
    "deletable": false,
    "editable": false
   },
   "source": [
    "<!-- END QUESTION -->\n",
    "\n",
    "<!-- BEGIN QUESTION -->\n",
    "\n",
    "**Question 4.3.** In 1-2 sentences explain your answer to Question 4.2.\n",
    "\n",
    "<!--\n",
    "BEGIN QUESTION\n",
    "name: q4_3\n",
    "manual: true\n",
    "-->"
   ]
  },
  {
   "cell_type": "markdown",
   "id": "renewable-marketing",
   "metadata": {},
   "source": [
    "_Type your answer here, replacing this text._"
   ]
  },
  {
   "cell_type": "markdown",
   "id": "revised-atlas",
   "metadata": {
    "deletable": false,
    "editable": false
   },
   "source": [
    "<!-- END QUESTION -->"
   ]
  },
  {
   "cell_type": "code",
   "execution_count": null,
   "id": "hydraulic-digest",
   "metadata": {},
   "outputs": [],
   "source": []
  },
  {
   "cell_type": "markdown",
   "id": "internal-holmes",
   "metadata": {
    "deletable": false,
    "editable": false
   },
   "source": [
    "---\n",
    "\n",
    "To double-check your work, the cell below will rerun all of the autograder tests."
   ]
  },
  {
   "cell_type": "code",
   "execution_count": null,
   "id": "brown-outside",
   "metadata": {
    "deletable": false,
    "editable": false
   },
   "outputs": [],
   "source": [
    "grader.check_all()"
   ]
  },
  {
   "cell_type": "markdown",
   "id": "incident-lloyd",
   "metadata": {
    "deletable": false,
    "editable": false
   },
   "source": [
    "## Submission\n",
    "\n",
    "Make sure you have run all cells in your notebook in order before running the cell below, so that all images/graphs appear in the output. The cell below will generate a zip file for you to submit. **Please save before exporting!**\n",
    "\n",
    "When done exporting, download the .zip file by `SHIFT`-clicking on the file name and selecting **Save Link As**. Or, find the .zip file in the left side of the screen and right-click and select **Download**. You'll submit this .zip file for the assignment in Canvas to Gradescope for grading."
   ]
  },
  {
   "cell_type": "code",
   "execution_count": null,
   "id": "virgin-glenn",
   "metadata": {
    "deletable": false,
    "editable": false
   },
   "outputs": [],
   "source": [
    "# Save your notebook first, then run this cell to export your submission.\n",
    "grader.export(pdf=False)"
   ]
  },
  {
   "cell_type": "markdown",
   "id": "educated-compromise",
   "metadata": {},
   "source": [
    " "
   ]
  }
 ],
 "metadata": {
  "kernelspec": {
   "display_name": "Python 3",
   "language": "python",
   "name": "python3"
  },
  "language_info": {
   "codemirror_mode": {
    "name": "ipython",
    "version": 3
   },
   "file_extension": ".py",
   "mimetype": "text/x-python",
   "name": "python",
   "nbconvert_exporter": "python",
   "pygments_lexer": "ipython3",
   "version": "3.8.6"
  }
 },
 "nbformat": 4,
 "nbformat_minor": 5
}
